{
 "cells": [
  {
   "cell_type": "markdown",
   "id": "c20e7f12-f154-4da6-910d-e387835fa0f4",
   "metadata": {},
   "source": [
    "# <font color = red> Numpy\n",
    "\n",
    "NumPy es una biblioteca para el lenguaje de programación Python que da soporte para crear vectores y matrices, junto con una gran colección de funciones matemáticas de alto nivel para operar con ellas. El precursor de NumPy, Numeric, fue creado originalmente por Jim Hugunin con contribuciones de varios otros desarrolladores. En 2005, Travis Oliphant creó NumPy incorporando características de la competencia Numarray en Numeric, con amplias modificaciones. NumPy es un software de código abierto y cuenta con muchos colaboradores.\n",
    "\n",
    "<center> <img src = \"numpy_logo.png\" width=\"600\"></center>"
   ]
  },
  {
   "cell_type": "markdown",
   "id": "f628fafe-4cca-4809-9115-3d170e8bac55",
   "metadata": {},
   "source": [
    "## <font color = darkblue> Creación y manejo de arrays \n",
    "Los arrays son la base de toda la ciencia de datos en <b>Python</b>. Las matrices pueden ser multidimensionales, y todos los elementos de una matriz deben ser del mismo tipo, todos enteros o todos flotantes, por ejemplo.\n",
    "\n",
    "<center> <img src=\"Array_gift.gif\" width=\"450\"></center>"
   ]
  },
  {
   "cell_type": "markdown",
   "id": "89bf9b7e-4c27-4827-8d8d-009ad335a5d0",
   "metadata": {},
   "source": [
    "### Ventajas de utilizar una matriz\n",
    "\n",
    "* Las matrices pueden manejar con eficacia conjuntos de datos muy grandes.\n",
    "* Eficiencia computacional y de memoria.\n",
    "* Cálculos y análisis más rápidos que las listas.\n",
    "* Funcionalidad con diversos paquetes de Python."
   ]
  },
  {
   "cell_type": "markdown",
   "id": "f1e731f9-17f4-405a-bf56-d362c8a4d54c",
   "metadata": {},
   "source": [
    "### Conceptos básicos de una matriz en Numpy\n",
    "\n",
    "En Python, se pueden crear arrays o arreglos utilizando el paquete Numpy. Las matrices Numpy están optimizadas para análisis numéricos y contienen un único tipo de datos.\n",
    "\n",
    "Para trabajar con Numpy es necesario importar el paquete *numpy* de la siguiente manera:"
   ]
  },
  {
   "cell_type": "code",
   "execution_count": 1,
   "id": "5027eb36-f208-433a-bf57-ffdb6fe4d357",
   "metadata": {
    "ExecuteTime": {
     "end_time": "2025-01-29T23:33:43.706008Z",
     "start_time": "2025-01-29T23:33:43.704692Z"
    }
   },
   "outputs": [],
   "source": [
    "# Importar numpy\n",
    "import numpy as np"
   ]
  },
  {
   "cell_type": "markdown",
   "id": "12911720-d821-42b8-94fc-f3ed416ace5d",
   "metadata": {},
   "source": [
    "Ya que se tiene el paquete se procede a la creación de las matrices utilizando listas y la función *np.array()*"
   ]
  },
  {
   "cell_type": "markdown",
   "id": "b021a09b-e686-4af2-8204-f6c41970b2f8",
   "metadata": {},
   "source": [
    "### Crear vectores"
   ]
  },
  {
   "cell_type": "code",
   "execution_count": 2,
   "id": "743f54c2-7574-4ef6-bd69-8042cd8baafe",
   "metadata": {
    "ExecuteTime": {
     "end_time": "2025-01-29T23:33:43.719720Z",
     "start_time": "2025-01-29T23:33:43.718498Z"
    }
   },
   "outputs": [
    {
     "name": "stdout",
     "output_type": "stream",
     "text": [
      "[1 2 3 4 5]\n"
     ]
    }
   ],
   "source": [
    "# Vectores\n",
    "vector = np.array([1, 2, 3, 4, 5])\n",
    "vector\n",
    "print(vector)"
   ]
  },
  {
   "cell_type": "code",
   "execution_count": 3,
   "id": "87955582-e7b6-47ef-8f2a-baa0015fa3b3",
   "metadata": {
    "ExecuteTime": {
     "end_time": "2025-01-29T23:33:43.734891Z",
     "start_time": "2025-01-29T23:33:43.733694Z"
    }
   },
   "outputs": [
    {
     "data": {
      "text/plain": [
       "array([ 2,  4,  6,  8, 10])"
      ]
     },
     "execution_count": 3,
     "metadata": {},
     "output_type": "execute_result"
    }
   ],
   "source": [
    "# Crear un arreglo en numpy a partir de una lista\n",
    "lista = [2,4,6,8,10]\n",
    "l1 = np.array(lista)\n",
    "l1"
   ]
  },
  {
   "cell_type": "markdown",
   "id": "cd20fe6a-6047-4100-a68d-4019650b96b0",
   "metadata": {},
   "source": [
    "### Crear matrices"
   ]
  },
  {
   "cell_type": "code",
   "execution_count": 4,
   "id": "eaf8925d-04a2-4a81-9c3f-0239de3cd731",
   "metadata": {
    "ExecuteTime": {
     "end_time": "2025-01-29T23:33:43.755388Z",
     "start_time": "2025-01-29T23:33:43.754186Z"
    }
   },
   "outputs": [
    {
     "data": {
      "text/plain": [
       "array([[1, 2, 3],\n",
       "       [4, 5, 6]])"
      ]
     },
     "execution_count": 4,
     "metadata": {},
     "output_type": "execute_result"
    }
   ],
   "source": [
    "# Matrices de numeros de 2 x 3 renglon, columna\n",
    "matriz = np.array([\n",
    "    [1,2,3],\n",
    "    [4,5,6]\n",
    "])\n",
    "matriz"
   ]
  },
  {
   "cell_type": "code",
   "execution_count": 5,
   "id": "69c39ce6-df1c-493e-a676-a7583011906a",
   "metadata": {
    "ExecuteTime": {
     "end_time": "2025-01-29T23:33:43.819317Z",
     "start_time": "2025-01-29T23:33:43.818082Z"
    }
   },
   "outputs": [
    {
     "data": {
      "text/plain": [
       "array([[10., 20., 30., 40.],\n",
       "       [ 1.,  2.,  3.,  4.]])"
      ]
     },
     "execution_count": 5,
     "metadata": {},
     "output_type": "execute_result"
    }
   ],
   "source": [
    "lista1 = [10,20,30,40]\n",
    "lista2 = [1,2,3,4]\n",
    "arreglo = np.array([lista1, lista2], dtype = float)\n",
    "arreglo"
   ]
  },
  {
   "cell_type": "markdown",
   "id": "b208f739-0ed3-4ef4-b99c-773f8803704a",
   "metadata": {},
   "source": [
    "### Crear arreglos en tres dimensiones"
   ]
  },
  {
   "cell_type": "code",
   "execution_count": 6,
   "id": "9f9058a8-4a25-42ec-933f-bf80de71913a",
   "metadata": {
    "ExecuteTime": {
     "end_time": "2025-01-29T23:33:43.840060Z",
     "start_time": "2025-01-29T23:33:43.838861Z"
    }
   },
   "outputs": [
    {
     "data": {
      "text/plain": [
       "array([[[ 1,  2,  3],\n",
       "        [ 4,  5,  6]],\n",
       "\n",
       "       [[ 7,  8,  9],\n",
       "        [10, 11, 12]]])"
      ]
     },
     "execution_count": 6,
     "metadata": {},
     "output_type": "execute_result"
    }
   ],
   "source": [
    "tridimencional = np.array([[[1,2,3],[4,5,6]],[[7,8,9],[10,11,12]]])\n",
    "tridimencional"
   ]
  },
  {
   "cell_type": "code",
   "execution_count": 7,
   "id": "f38df7cd-6e01-44d7-8ff8-67022638118d",
   "metadata": {
    "ExecuteTime": {
     "end_time": "2025-01-29T23:33:43.856474Z",
     "start_time": "2025-01-29T23:33:43.855240Z"
    }
   },
   "outputs": [
    {
     "data": {
      "text/plain": [
       "array([[[ 1,  2,  3],\n",
       "        [ 4,  5,  6]],\n",
       "\n",
       "       [[ 7,  8,  9],\n",
       "        [10, 11, 12]]])"
      ]
     },
     "execution_count": 7,
     "metadata": {},
     "output_type": "execute_result"
    }
   ],
   "source": [
    "tri = np.array([\n",
    "    [\n",
    "        [1,2,3], [4,5,6]\n",
    "    ],\n",
    "    [\n",
    "        [7,8,9], [10,11,12]\n",
    "    ]\n",
    "])\n",
    "tri"
   ]
  },
  {
   "cell_type": "markdown",
   "id": "2a4583e0-d19f-4c3a-af76-f83592e82cce",
   "metadata": {},
   "source": [
    "## <font color = darkblue> Métodos útiles para crear arrays"
   ]
  },
  {
   "cell_type": "markdown",
   "id": "b0173389-c043-4351-b758-c1c7933c76fb",
   "metadata": {},
   "source": [
    "### Arrays con ceros"
   ]
  },
  {
   "cell_type": "code",
   "execution_count": 8,
   "id": "76859e61-0d42-47a4-ac1f-1699f34e738c",
   "metadata": {
    "ExecuteTime": {
     "end_time": "2025-01-29T23:33:43.917804Z",
     "start_time": "2025-01-29T23:33:43.916704Z"
    }
   },
   "outputs": [
    {
     "name": "stdout",
     "output_type": "stream",
     "text": [
      "[0. 0. 0. 0. 0.]\n"
     ]
    }
   ],
   "source": [
    "ceros = np.zeros(5)  # Crea un array de 5 elementos con ceros\n",
    "print(ceros)"
   ]
  },
  {
   "cell_type": "code",
   "execution_count": 9,
   "id": "e51646ba-5a21-4966-b59a-d46c4e83ba5c",
   "metadata": {
    "ExecuteTime": {
     "end_time": "2025-01-29T23:33:43.981256Z",
     "start_time": "2025-01-29T23:33:43.980056Z"
    }
   },
   "outputs": [
    {
     "name": "stdout",
     "output_type": "stream",
     "text": [
      "[[0. 0. 0. 0.]\n",
      " [0. 0. 0. 0.]\n",
      " [0. 0. 0. 0.]]\n"
     ]
    }
   ],
   "source": [
    "biceros = np.zeros((3, 4))  # Matriz de 3 filas y 4 columnas\n",
    "print(biceros)"
   ]
  },
  {
   "cell_type": "code",
   "execution_count": 10,
   "id": "63692a29-b84c-4585-830b-3c236ff8fb85",
   "metadata": {
    "ExecuteTime": {
     "end_time": "2025-01-29T23:33:44.030679Z",
     "start_time": "2025-01-29T23:33:44.029520Z"
    }
   },
   "outputs": [
    {
     "name": "stdout",
     "output_type": "stream",
     "text": [
      "[[[0. 0. 0. 0.]\n",
      "  [0. 0. 0. 0.]\n",
      "  [0. 0. 0. 0.]]\n",
      "\n",
      " [[0. 0. 0. 0.]\n",
      "  [0. 0. 0. 0.]\n",
      "  [0. 0. 0. 0.]]]\n"
     ]
    }
   ],
   "source": [
    "triceros = np.zeros((2, 3, 4))\n",
    "print(triceros)"
   ]
  },
  {
   "cell_type": "code",
   "execution_count": 11,
   "id": "56acc8fd-58de-4164-99a2-83da5e4db709",
   "metadata": {
    "ExecuteTime": {
     "end_time": "2025-01-29T23:33:43.999007Z",
     "start_time": "2025-01-29T23:33:43.997786Z"
    }
   },
   "outputs": [
    {
     "name": "stdout",
     "output_type": "stream",
     "text": [
      "[[0 0 0]\n",
      " [0 0 0]\n",
      " [0 0 0]]\n"
     ]
    }
   ],
   "source": [
    "# Matriz de ceros pero con tipo de datos entero\n",
    "cerosenteros = np.zeros((3, 3), dtype=int)\n",
    "print(cerosenteros)"
   ]
  },
  {
   "cell_type": "markdown",
   "id": "da647e25-5c20-4089-a206-0c27514c15dc",
   "metadata": {},
   "source": [
    "### Arrays con unos"
   ]
  },
  {
   "cell_type": "code",
   "execution_count": 12,
   "id": "be91f10c-1b1c-4507-8618-82f2b61765e4",
   "metadata": {
    "ExecuteTime": {
     "end_time": "2025-01-29T23:33:44.072213Z",
     "start_time": "2025-01-29T23:33:44.070999Z"
    }
   },
   "outputs": [
    {
     "name": "stdout",
     "output_type": "stream",
     "text": [
      "[1. 1. 1. 1. 1.]\n"
     ]
    }
   ],
   "source": [
    "unos = np.ones(5)  # Crea un array de 5 elementos con unos\n",
    "print(unos)"
   ]
  },
  {
   "cell_type": "code",
   "execution_count": 13,
   "id": "25f30208-8196-4345-8099-0aacb5cc56b9",
   "metadata": {
    "ExecuteTime": {
     "end_time": "2025-01-29T23:33:44.101725Z",
     "start_time": "2025-01-29T23:33:44.100498Z"
    }
   },
   "outputs": [
    {
     "name": "stdout",
     "output_type": "stream",
     "text": [
      "[[1. 1. 1. 1.]\n",
      " [1. 1. 1. 1.]\n",
      " [1. 1. 1. 1.]]\n"
     ]
    }
   ],
   "source": [
    "biunos = np.ones((3, 4))  # Matriz de 3 filas y 4 columnas llena de unos\n",
    "print(biunos)"
   ]
  },
  {
   "cell_type": "markdown",
   "id": "899de377-8154-4124-ab89-2d54205d18d3",
   "metadata": {},
   "source": [
    "### Arrays con valores constantes"
   ]
  },
  {
   "cell_type": "code",
   "execution_count": 14,
   "id": "17a34bd2-0e54-4266-93f1-41476814091c",
   "metadata": {
    "ExecuteTime": {
     "end_time": "2025-01-29T23:33:44.141023Z",
     "start_time": "2025-01-29T23:33:44.139732Z"
    }
   },
   "outputs": [
    {
     "name": "stdout",
     "output_type": "stream",
     "text": [
      "[7 7 7 7 7]\n"
     ]
    }
   ],
   "source": [
    "constantes = np.full(5, 7)  # Array de 5 elementos, todos con el valor 7\n",
    "print(constantes)"
   ]
  },
  {
   "cell_type": "code",
   "execution_count": 15,
   "id": "743e5279-a198-4c7e-94db-d693b1efe388",
   "metadata": {
    "ExecuteTime": {
     "end_time": "2025-01-29T23:33:44.167838Z",
     "start_time": "2025-01-29T23:33:44.166640Z"
    }
   },
   "outputs": [
    {
     "name": "stdout",
     "output_type": "stream",
     "text": [
      "[[5 5 5 5]\n",
      " [5 5 5 5]\n",
      " [5 5 5 5]]\n"
     ]
    }
   ],
   "source": [
    "biconstantes = np.full((3, 4), 5)  # Matriz de 3 filas y 4 columnas con el valor 5\n",
    "print(biconstantes)"
   ]
  },
  {
   "cell_type": "code",
   "execution_count": 16,
   "id": "a5b5ee549f7dc86f",
   "metadata": {
    "ExecuteTime": {
     "end_time": "2025-01-29T23:33:44.210612Z",
     "start_time": "2025-01-29T23:33:44.209393Z"
    }
   },
   "outputs": [
    {
     "name": "stdout",
     "output_type": "stream",
     "text": [
      "[[[-2 -2 -2 -2]\n",
      "  [-2 -2 -2 -2]\n",
      "  [-2 -2 -2 -2]]\n",
      "\n",
      " [[-2 -2 -2 -2]\n",
      "  [-2 -2 -2 -2]\n",
      "  [-2 -2 -2 -2]]]\n"
     ]
    }
   ],
   "source": [
    "triconstantes = np.full((2, 3, 4), -2)  # Array 3D lleno de -2\n",
    "print(triconstantes)"
   ]
  },
  {
   "cell_type": "markdown",
   "id": "59e9d38f-51a4-4859-8edb-928a14c0e785",
   "metadata": {},
   "source": [
    "### Arrays con rango de valores"
   ]
  },
  {
   "cell_type": "code",
   "execution_count": 17,
   "id": "30276993-4cf5-4f52-93e6-6cc32190f048",
   "metadata": {
    "ExecuteTime": {
     "end_time": "2025-01-29T23:33:44.240305Z",
     "start_time": "2025-01-29T23:33:44.239117Z"
    }
   },
   "outputs": [
    {
     "name": "stdout",
     "output_type": "stream",
     "text": [
      "[0 2 4 6 8]\n"
     ]
    }
   ],
   "source": [
    "rango = np.arange(0, 10, 2)  # Desde 0 hasta 10 (sin incluirlo) con paso de 2\n",
    "print(rango)"
   ]
  },
  {
   "cell_type": "markdown",
   "id": "201c876a-0e92-4382-8476-41b4da275155",
   "metadata": {},
   "source": [
    "### Arrays con valores distribuidos uniformemente"
   ]
  },
  {
   "cell_type": "code",
   "execution_count": 18,
   "id": "e838cbaf-d47c-4c72-bd02-53ef15d38105",
   "metadata": {
    "ExecuteTime": {
     "end_time": "2025-01-29T23:33:44.283333Z",
     "start_time": "2025-01-29T23:33:44.282114Z"
    }
   },
   "outputs": [
    {
     "name": "stdout",
     "output_type": "stream",
     "text": [
      "[ 0.   2.5  5.   7.5 10. ]\n"
     ]
    }
   ],
   "source": [
    "# Division Equidistante\n",
    "lins = np.linspace(0, 10, 5)  # 5 valores entre 0 y 10\n",
    "print(lins)"
   ]
  },
  {
   "cell_type": "code",
   "execution_count": 19,
   "id": "25a5c31a-0934-4180-af2e-cc9f5c312962",
   "metadata": {
    "ExecuteTime": {
     "end_time": "2025-01-29T23:33:44.312525Z",
     "start_time": "2025-01-29T23:33:44.311315Z"
    }
   },
   "outputs": [
    {
     "name": "stdout",
     "output_type": "stream",
     "text": [
      "[[5.98985484 1.80680822 3.59819007]\n",
      " [5.77321918 1.01291391 3.87009138]\n",
      " [7.00505004 9.98214146 7.12992874]]\n"
     ]
    }
   ],
   "source": [
    "# Distribucion uniforme aleatoria\n",
    "aleatorios = np.random.uniform(1, 10, (3, 3))  # Matriz 3x3 con valores entre 1 y 10\n",
    "print(aleatorios)"
   ]
  },
  {
   "cell_type": "markdown",
   "id": "24de7627-226b-40bb-82b5-8cf81c5101eb",
   "metadata": {},
   "source": [
    "### Diagrama de lineas\n",
    "\n",
    "Un diagrama de líneas es un gráfico que muestra datos en forma de puntos conectados por líneas. Se usa para representar eventos que ocurren en un intervalo de tiempo, como el número de visitantes por mes."
   ]
  },
  {
   "cell_type": "code",
   "execution_count": 20,
   "id": "50f14cce-9f81-493b-b7b6-68dc700c43ed",
   "metadata": {
    "ExecuteTime": {
     "end_time": "2025-01-29T23:33:44.358941Z",
     "start_time": "2025-01-29T23:33:44.357819Z"
    }
   },
   "outputs": [],
   "source": [
    "# Generar 20 números desde -5 hasta 5\n",
    "x = np.linspace(-5, 5, 20)\n",
    "y1 = x ** 2\n",
    "y2 = x ** 3"
   ]
  },
  {
   "cell_type": "code",
   "execution_count": 21,
   "id": "127373f2-d96e-40e7-9e54-9d5c2c0f8171",
   "metadata": {
    "ExecuteTime": {
     "end_time": "2025-01-29T23:33:44.385319Z",
     "start_time": "2025-01-29T23:33:44.384138Z"
    }
   },
   "outputs": [
    {
     "data": {
      "image/png": "[encoded data removed]",
      "text/plain": [
       "<Figure size 500x400 with 1 Axes>"
      ]
     },
     "metadata": {},
     "output_type": "display_data"
    }
   ],
   "source": [
    "import matplotlib.pyplot as plt\n",
    "\n",
    "plt.figure(figsize=(5,4)) # Especificando el tamaño\n",
    "plt.plot(x, y1, marker='8', color='red', label='$y = x^{2}$') #Graficando\n",
    "plt.plot(x, y2, marker='8', color='blue', label='$y = x^{2}$') #Graficando\n",
    "plt.legend(loc='upper center')\n",
    "plt.title('Variaciones de $x^{2}$', color='green', size=12) # Título del gráfico\n",
    "plt.xlabel('Eje X', color='red', size=8) # Título del eje de las x\n",
    "plt.ylabel('Eje Y', color='red', size=8) # Título del eje de las y\n",
    "plt.grid() # Grid cuadricula\n",
    "plt.show()"
   ]
  },
  {
   "cell_type": "markdown",
   "id": "e7e868b5-b2c6-4139-b3b7-14bab5eb89c0",
   "metadata": {},
   "source": [
    "## <font color = darkblue> Propiedades de los arrays"
   ]
  },
  {
   "cell_type": "markdown",
   "id": "1a77b302-eafe-4941-891c-09a95989e432",
   "metadata": {},
   "source": [
    "### Número de dimensiones"
   ]
  },
  {
   "cell_type": "code",
   "execution_count": 22,
   "id": "5ccbae42-db92-4d66-b2ac-762ac1ca0c63",
   "metadata": {
    "ExecuteTime": {
     "end_time": "2025-01-29T23:33:44.437888Z",
     "start_time": "2025-01-29T23:33:44.436743Z"
    }
   },
   "outputs": [
    {
     "name": "stdout",
     "output_type": "stream",
     "text": [
      "[[1 2 3]\n",
      " [4 5 6]]\n",
      "Número de dimensiones 2\n"
     ]
    }
   ],
   "source": [
    "# Con la propiedad de arreglos ndim, obtenemos el número de dimensiones\n",
    "x.ndim\n",
    "\n",
    "matriz = np.array([[1,2,3],[4,5,6]])\n",
    "print(matriz)\n",
    "print(\"Número de dimensiones\", matriz.ndim)"
   ]
  },
  {
   "cell_type": "code",
   "execution_count": 23,
   "id": "8ac35466-2514-4a53-aec0-571429e92a59",
   "metadata": {
    "ExecuteTime": {
     "end_time": "2025-01-29T23:33:44.471609Z",
     "start_time": "2025-01-29T23:33:44.470415Z"
    }
   },
   "outputs": [
    {
     "name": "stdout",
     "output_type": "stream",
     "text": [
      "[[[0. 0.]\n",
      "  [0. 0.]]\n",
      "\n",
      " [[0. 0.]\n",
      "  [0. 0.]]\n",
      "\n",
      " [[0. 0.]\n",
      "  [0. 0.]]]\n",
      "Número de dimensiones 3\n"
     ]
    }
   ],
   "source": [
    "# Construir una matriz de CEROS, 3 matrices de 2 x 2\n",
    "matriz_ceros = np.zeros((3,2,2))\n",
    "print(matriz_ceros)\n",
    "print(\"Número de dimensiones\", matriz_ceros.ndim)"
   ]
  },
  {
   "cell_type": "markdown",
   "id": "362672d8-c1fe-4eb4-8a4b-669cb49b16df",
   "metadata": {},
   "source": [
    "### Forma del array"
   ]
  },
  {
   "cell_type": "code",
   "execution_count": 24,
   "id": "5a821b1f-6e33-47f9-9db8-bebbc99ac25f",
   "metadata": {
    "ExecuteTime": {
     "end_time": "2025-01-29T23:33:44.513174Z",
     "start_time": "2025-01-29T23:33:44.512052Z"
    }
   },
   "outputs": [
    {
     "name": "stdout",
     "output_type": "stream",
     "text": [
      "La forma del arreglo matriz_ceros es: (3, 2, 2)\n"
     ]
    }
   ],
   "source": [
    "# La propiuedad shape, muestra la forma del arreglo\n",
    "print('La forma del arreglo matriz_ceros es:', matriz_ceros.shape)"
   ]
  },
  {
   "cell_type": "code",
   "execution_count": 25,
   "id": "e2e61fc8-d337-47ec-bd4a-4e1b81243d07",
   "metadata": {
    "ExecuteTime": {
     "end_time": "2025-01-29T23:33:44.544841Z",
     "start_time": "2025-01-29T23:33:44.543553Z"
    }
   },
   "outputs": [
    {
     "name": "stdout",
     "output_type": "stream",
     "text": [
      "(2, 3)\n",
      "[[1 2 3]\n",
      " [4 5 6]]\n"
     ]
    }
   ],
   "source": [
    "print(matriz.shape)\n",
    "print(matriz)"
   ]
  },
  {
   "cell_type": "markdown",
   "id": "0b6e1dec-3c4a-4c22-9625-5c369133aa72",
   "metadata": {},
   "source": [
    "### Forma de los elementos (¿Cuántos elementos hay?)"
   ]
  },
  {
   "cell_type": "code",
   "execution_count": 26,
   "id": "973b590f-897e-4799-bbe2-69c313316857",
   "metadata": {
    "ExecuteTime": {
     "end_time": "2025-01-29T23:33:44.587929Z",
     "start_time": "2025-01-29T23:33:44.586759Z"
    }
   },
   "outputs": [
    {
     "name": "stdout",
     "output_type": "stream",
     "text": [
      "El tamaño del arraglo matriz es: 6\n",
      "El tamaño del arraglo matriz es: 12\n"
     ]
    }
   ],
   "source": [
    "# Con la propiedad size obtiene el tamaño del arreglo\n",
    "print(\"El tamaño del arraglo matriz es:\", matriz.size)\n",
    "print(\"El tamaño del arraglo matriz es:\", matriz_ceros.size)"
   ]
  },
  {
   "cell_type": "code",
   "execution_count": 27,
   "id": "ccc89907-fcc0-4efa-a919-242328398ef3",
   "metadata": {
    "ExecuteTime": {
     "end_time": "2025-01-29T23:33:44.611965Z",
     "start_time": "2025-01-29T23:33:44.610798Z"
    }
   },
   "outputs": [
    {
     "data": {
      "text/plain": [
       "6"
      ]
     },
     "execution_count": 27,
     "metadata": {},
     "output_type": "execute_result"
    }
   ],
   "source": [
    "matriz.size"
   ]
  },
  {
   "cell_type": "markdown",
   "id": "347cf225-d759-4ea9-ac22-0b2acfc0454c",
   "metadata": {},
   "source": [
    "### Obtener el tipo de dato"
   ]
  },
  {
   "cell_type": "code",
   "execution_count": 28,
   "id": "0caec641-8ab6-4f20-9911-5d4eabe17a7a",
   "metadata": {
    "ExecuteTime": {
     "end_time": "2025-01-29T23:33:44.655432Z",
     "start_time": "2025-01-29T23:33:44.654230Z"
    }
   },
   "outputs": [
    {
     "data": {
      "text/plain": [
       "dtype('int32')"
      ]
     },
     "execution_count": 28,
     "metadata": {},
     "output_type": "execute_result"
    }
   ],
   "source": [
    "# Entero\n",
    "matriz.dtype"
   ]
  },
  {
   "cell_type": "code",
   "execution_count": 29,
   "id": "0586dc38-ae75-4a5c-802f-0e2d6abbf38e",
   "metadata": {
    "ExecuteTime": {
     "end_time": "2025-01-29T23:33:44.686050Z",
     "start_time": "2025-01-29T23:33:44.684729Z"
    }
   },
   "outputs": [
    {
     "data": {
      "text/plain": [
       "dtype('float64')"
      ]
     },
     "execution_count": 29,
     "metadata": {},
     "output_type": "execute_result"
    }
   ],
   "source": [
    "# Flotantes\n",
    "matriz_ceros.dtype"
   ]
  },
  {
   "cell_type": "code",
   "execution_count": 30,
   "id": "69142c3f-0731-4534-bbb5-61172f831107",
   "metadata": {
    "ExecuteTime": {
     "end_time": "2025-01-29T23:33:44.728882Z",
     "start_time": "2025-01-29T23:33:44.727734Z"
    }
   },
   "outputs": [
    {
     "data": {
      "text/plain": [
       "dtype('bool')"
      ]
     },
     "execution_count": 30,
     "metadata": {},
     "output_type": "execute_result"
    }
   ],
   "source": [
    "# Booleano\n",
    "arr_boleano = np.array([True, True, True, False])\n",
    "arr_boleano.dtype"
   ]
  },
  {
   "cell_type": "code",
   "execution_count": 31,
   "id": "530b233d-def3-4f2b-9a06-a8218f04a7e3",
   "metadata": {
    "ExecuteTime": {
     "end_time": "2025-01-29T23:33:44.753027Z",
     "start_time": "2025-01-29T23:33:44.751765Z"
    }
   },
   "outputs": [
    {
     "data": {
      "text/plain": [
       "dtype('<U1')"
      ]
     },
     "execution_count": 31,
     "metadata": {},
     "output_type": "execute_result"
    }
   ],
   "source": [
    "# String\n",
    "arr_string = np.array(['1','2','3'])\n",
    "arr_string.dtype"
   ]
  },
  {
   "cell_type": "markdown",
   "id": "81d34f25-2b24-418b-afb1-cdc1aa2667c4",
   "metadata": {},
   "source": [
    "### Definir tipo de datos\n",
    "\n",
    "\n",
    "Para optimizar el uso de los recursos del sistema es importante definir el tipo de dato apropiado de los arrays en función a los datos y al tamaño que se prevean van a contener y procesar."
   ]
  },
  {
   "cell_type": "markdown",
   "id": "5d6ab5ff-a8f4-45b2-8ec0-251e6fb3963d",
   "metadata": {},
   "source": [
    "#### Enteros\n",
    "\n",
    "* np.int8: (1 byte) -  Para enteros entre -128 y 127.\n",
    "* np.int16: (2 bytes) - Para enteros entre -32768 y 32767.\n",
    "* np.int32: (4 bytes) - Para números enteros entre -2147483648 y 2147483647.\n",
    "* np.int64: (8 bytes) - Para números enteros entre -9223372036854775808 y 8223372036854775807."
   ]
  },
  {
   "cell_type": "code",
   "execution_count": 32,
   "id": "903bde32-9250-4480-ae05-5b9f4affb29f",
   "metadata": {
    "ExecuteTime": {
     "end_time": "2025-01-29T23:33:44.791401Z",
     "start_time": "2025-01-29T23:33:44.790219Z"
    }
   },
   "outputs": [
    {
     "data": {
      "text/plain": [
       "dtype('int8')"
      ]
     },
     "execution_count": 32,
     "metadata": {},
     "output_type": "execute_result"
    }
   ],
   "source": [
    "arr_enteros = np.array([1,2,3], dtype = np.int8)\n",
    "arr_enteros.dtype"
   ]
  },
  {
   "cell_type": "code",
   "execution_count": 33,
   "id": "aa90420d-50d1-419c-996d-d790c5ac7d5d",
   "metadata": {
    "ExecuteTime": {
     "end_time": "2025-01-29T23:33:44.814867Z",
     "start_time": "2025-01-29T23:33:44.813651Z"
    }
   },
   "outputs": [
    {
     "data": {
      "text/plain": [
       "dtype('int64')"
      ]
     },
     "execution_count": 33,
     "metadata": {},
     "output_type": "execute_result"
    }
   ],
   "source": [
    "arr_enteros = np.array([1,2,3], dtype = np.int64)\n",
    "arr_enteros.dtype"
   ]
  },
  {
   "cell_type": "markdown",
   "id": "342ac670-f2d0-417c-b851-b8737b75c297",
   "metadata": {},
   "source": [
    "#### Enteros sin signo\n",
    "\n",
    "* np.uint8: (1 byte) -  Para enteros hasta 255.\n",
    "* np.uint16: (2 bytes) - Para enteros hasta 65535.\n",
    "* np.uint32: (4 bytes) - Para números enteros hasta 4294967295.\n",
    "* np.uint64: (8 bytes) - Para números enteros hasta 18446744073709551615.\n"
   ]
  },
  {
   "cell_type": "code",
   "execution_count": null,
   "id": "4c06bded-4d82-4192-8e27-3153facef4ba",
   "metadata": {
    "ExecuteTime": {
     "end_time": "2025-01-29T23:33:44.854680Z",
     "start_time": "2025-01-29T23:33:44.853483Z"
    }
   },
   "outputs": [],
   "source": []
  },
  {
   "cell_type": "code",
   "execution_count": null,
   "id": "21656b54-b140-42c3-990b-101f69056884",
   "metadata": {
    "ExecuteTime": {
     "end_time": "2025-01-29T23:33:44.883090Z",
     "start_time": "2025-01-29T23:33:44.881895Z"
    }
   },
   "outputs": [],
   "source": []
  },
  {
   "cell_type": "markdown",
   "id": "5c06c994-6a9d-410e-96c2-7df23eddd334",
   "metadata": {},
   "source": [
    "#### Flotantes\n",
    "* np.float16\n",
    "* np.float32\n",
    "* np.float64"
   ]
  },
  {
   "cell_type": "code",
   "execution_count": null,
   "id": "6ca478d4-263a-4e56-b075-2a9d97438716",
   "metadata": {
    "ExecuteTime": {
     "end_time": "2025-01-29T23:33:44.928282Z",
     "start_time": "2025-01-29T23:33:44.927087Z"
    }
   },
   "outputs": [],
   "source": []
  },
  {
   "cell_type": "code",
   "execution_count": null,
   "id": "418b1b11-d840-4dab-aad4-cb3cac6598a5",
   "metadata": {
    "ExecuteTime": {
     "end_time": "2025-01-29T23:33:44.963522Z",
     "start_time": "2025-01-29T23:33:44.962250Z"
    }
   },
   "outputs": [],
   "source": []
  },
  {
   "cell_type": "markdown",
   "id": "8655ac36-b364-460f-8425-8e5936072be2",
   "metadata": {},
   "source": [
    "#### Tipos de datos abreviados\n",
    "\n",
    "* Booleanos: 'b1'.\n",
    "* Enteros: 'i1' (int8), 'i2' (int16), 'i4' (int32), 'i8' (int64).\n",
    "* Cadenas unicode con distintas longitudes: 'u1', 'u2', 'u4', 'u8'.\n",
    "* Cadenas de bytes con distintas longitudes: 'S1', 'S2', 'S3', 'S4'.\n",
    "* Flotantes: 'f2' (float16), 'f4' (float32), 'f8' (float64).\n",
    "* Complejos: 'c8' (complex64), 'c16' (complex128)."
   ]
  },
  {
   "cell_type": "code",
   "execution_count": null,
   "id": "c142fb2f-a16c-401c-9a34-3c0a23d2dfea",
   "metadata": {
    "ExecuteTime": {
     "end_time": "2025-01-29T23:33:45.013490Z",
     "start_time": "2025-01-29T23:33:45.012251Z"
    }
   },
   "outputs": [],
   "source": []
  },
  {
   "cell_type": "code",
   "execution_count": null,
   "id": "add40241-3f3e-4deb-afda-b9bcc3eaba48",
   "metadata": {
    "ExecuteTime": {
     "end_time": "2025-01-29T23:33:45.038258Z",
     "start_time": "2025-01-29T23:33:45.037045Z"
    }
   },
   "outputs": [],
   "source": []
  },
  {
   "cell_type": "markdown",
   "id": "bf84588a-1ac8-4e34-b9f9-635f6e08d523",
   "metadata": {},
   "source": [
    "### Cambiar tipo de datos"
   ]
  },
  {
   "cell_type": "code",
   "execution_count": 34,
   "id": "a2e512f4-06e0-4ec2-8dcc-a45df4831e99",
   "metadata": {
    "ExecuteTime": {
     "end_time": "2025-01-29T23:33:45.079719Z",
     "start_time": "2025-01-29T23:33:45.078571Z"
    }
   },
   "outputs": [
    {
     "name": "stdout",
     "output_type": "stream",
     "text": [
      "Tipo de dato de matriz: int32\n",
      "Tipo de dato de arr: float16\n"
     ]
    }
   ],
   "source": [
    "matriz.dtype\n",
    "print('Tipo de dato de matriz:', matriz.dtype)\n",
    "arr = matriz.astype('float16')\n",
    "print('Tipo de dato de arr:', arr.dtype)"
   ]
  },
  {
   "cell_type": "code",
   "execution_count": null,
   "id": "0c8fb93d-6a19-454e-a7b3-5b8c1a9a43d1",
   "metadata": {
    "ExecuteTime": {
     "end_time": "2025-01-29T23:33:45.110559Z",
     "start_time": "2025-01-29T23:33:45.109265Z"
    }
   },
   "outputs": [],
   "source": []
  },
  {
   "cell_type": "markdown",
   "id": "be8656f8-7aa8-4f8d-93c5-39c8671172fd",
   "metadata": {},
   "source": [
    "## <font color = darkblue> Operaciones con arrays"
   ]
  },
  {
   "cell_type": "markdown",
   "id": "cf906e17-2b00-4e0a-8f43-8b0b370c951a",
   "metadata": {},
   "source": [
    "### Operaciones elementales"
   ]
  },
  {
   "cell_type": "code",
   "execution_count": null,
   "id": "fa72d952-a82b-4506-bf81-474c31f49df9",
   "metadata": {
    "ExecuteTime": {
     "end_time": "2025-01-29T23:33:45.154256Z",
     "start_time": "2025-01-29T23:33:45.153079Z"
    }
   },
   "outputs": [],
   "source": []
  },
  {
   "cell_type": "code",
   "execution_count": null,
   "id": "5f058002-8330-4452-84c3-00683af6df0d",
   "metadata": {
    "ExecuteTime": {
     "end_time": "2025-01-29T23:33:45.178932Z",
     "start_time": "2025-01-29T23:33:45.177759Z"
    }
   },
   "outputs": [],
   "source": []
  },
  {
   "cell_type": "code",
   "execution_count": null,
   "id": "9359e72c-99ac-4ee5-b00e-6f8e17f5c516",
   "metadata": {
    "ExecuteTime": {
     "end_time": "2025-01-29T23:33:45.220968Z",
     "start_time": "2025-01-29T23:33:45.219804Z"
    }
   },
   "outputs": [],
   "source": []
  },
  {
   "cell_type": "code",
   "execution_count": null,
   "id": "b9151fbb-36a7-4b25-a2e2-bffbbcacd0ad",
   "metadata": {
    "ExecuteTime": {
     "end_time": "2025-01-29T23:33:45.245771Z",
     "start_time": "2025-01-29T23:33:45.244586Z"
    }
   },
   "outputs": [],
   "source": []
  },
  {
   "cell_type": "code",
   "execution_count": null,
   "id": "ae29aa84-01e9-4620-a1ac-3eb1ce52642d",
   "metadata": {
    "ExecuteTime": {
     "end_time": "2025-01-29T23:33:45.283323Z",
     "start_time": "2025-01-29T23:33:45.282249Z"
    }
   },
   "outputs": [],
   "source": []
  },
  {
   "cell_type": "code",
   "execution_count": null,
   "id": "a1102026-d686-44b8-8bdc-9a9dc9f37b90",
   "metadata": {
    "ExecuteTime": {
     "end_time": "2025-01-29T23:33:45.309694Z",
     "start_time": "2025-01-29T23:33:45.308464Z"
    }
   },
   "outputs": [],
   "source": []
  },
  {
   "cell_type": "code",
   "execution_count": null,
   "id": "a93a2d70-d7e2-4b4b-8aa2-7fb56be9ee44",
   "metadata": {
    "ExecuteTime": {
     "end_time": "2025-01-29T23:33:45.355076Z",
     "start_time": "2025-01-29T23:33:45.353927Z"
    }
   },
   "outputs": [],
   "source": []
  },
  {
   "cell_type": "markdown",
   "id": "8f0feef9-2d75-465b-b9e8-f5143c2a3b88",
   "metadata": {},
   "source": [
    "### Operaciones comunes"
   ]
  },
  {
   "cell_type": "code",
   "execution_count": null,
   "id": "e28cea2d-34a8-423b-860d-29813fe1da0a",
   "metadata": {
    "ExecuteTime": {
     "end_time": "2025-01-29T23:33:45.379504Z",
     "start_time": "2025-01-29T23:33:45.378350Z"
    }
   },
   "outputs": [],
   "source": []
  },
  {
   "cell_type": "code",
   "execution_count": null,
   "id": "00786142-6161-4d61-a6f8-e58a444d7d73",
   "metadata": {
    "ExecuteTime": {
     "end_time": "2025-01-29T23:33:45.398090Z",
     "start_time": "2025-01-29T23:33:45.396865Z"
    }
   },
   "outputs": [],
   "source": []
  },
  {
   "cell_type": "code",
   "execution_count": null,
   "id": "b8ac03e9-5ce2-4b88-ad8d-9cc84d2c6995",
   "metadata": {
    "ExecuteTime": {
     "end_time": "2025-01-29T23:33:45.445992Z",
     "start_time": "2025-01-29T23:33:45.444852Z"
    }
   },
   "outputs": [],
   "source": []
  },
  {
   "cell_type": "code",
   "execution_count": null,
   "id": "c8a9e79e-d3cc-4ca7-b579-3be10b7c60bd",
   "metadata": {
    "ExecuteTime": {
     "end_time": "2025-01-29T23:33:45.497821Z",
     "start_time": "2025-01-29T23:33:45.496597Z"
    }
   },
   "outputs": [],
   "source": []
  },
  {
   "cell_type": "code",
   "execution_count": null,
   "id": "c60e7d3c-a2d4-4307-a7b4-d65c2b8f2b4d",
   "metadata": {
    "ExecuteTime": {
     "end_time": "2025-01-29T23:33:45.516193Z",
     "start_time": "2025-01-29T23:33:45.515042Z"
    }
   },
   "outputs": [],
   "source": []
  },
  {
   "cell_type": "code",
   "execution_count": null,
   "id": "03961d83-b1e0-4756-afc1-871a2899d342",
   "metadata": {
    "ExecuteTime": {
     "end_time": "2025-01-29T23:33:45.549164Z",
     "start_time": "2025-01-29T23:33:45.547935Z"
    }
   },
   "outputs": [],
   "source": []
  },
  {
   "cell_type": "code",
   "execution_count": null,
   "id": "3765bc32-fd20-486e-afc6-7fa82d429d39",
   "metadata": {
    "ExecuteTime": {
     "end_time": "2025-01-29T23:33:45.587408Z",
     "start_time": "2025-01-29T23:33:45.586254Z"
    }
   },
   "outputs": [],
   "source": []
  },
  {
   "cell_type": "code",
   "execution_count": null,
   "id": "ca37ad99-63d1-4e9b-be63-5a5c79602888",
   "metadata": {
    "ExecuteTime": {
     "end_time": "2025-01-29T23:33:45.612105Z",
     "start_time": "2025-01-29T23:33:45.610977Z"
    }
   },
   "outputs": [],
   "source": []
  },
  {
   "cell_type": "code",
   "execution_count": null,
   "id": "025b32da-5a68-4d93-be02-293ea992cba5",
   "metadata": {
    "ExecuteTime": {
     "end_time": "2025-01-29T23:33:45.654849Z",
     "start_time": "2025-01-29T23:33:45.653638Z"
    }
   },
   "outputs": [],
   "source": []
  },
  {
   "cell_type": "markdown",
   "id": "7effa980-ad22-4a70-8430-2eec84dc3406",
   "metadata": {},
   "source": [
    "### Álgebra Lineal"
   ]
  },
  {
   "cell_type": "markdown",
   "id": "ae89175d-30fb-44b4-b2d3-31389db536f4",
   "metadata": {},
   "source": [
    "#### Multiplicación de matrices\n",
    "\n",
    "<center> <img src=\"multiplicacion entre matrices.gif\" width=\"1450\"></center>"
   ]
  },
  {
   "cell_type": "code",
   "execution_count": null,
   "id": "b6a57c90-51de-4514-80b7-d09aee4a7726",
   "metadata": {
    "ExecuteTime": {
     "end_time": "2025-01-29T23:33:45.681191Z",
     "start_time": "2025-01-29T23:33:45.680016Z"
    }
   },
   "outputs": [],
   "source": []
  },
  {
   "cell_type": "code",
   "execution_count": 35,
   "id": "8ee0c16a-a694-4c5c-8243-5a29aaf74ff5",
   "metadata": {
    "ExecuteTime": {
     "end_time": "2025-01-29T23:33:45.869796Z",
     "start_time": "2025-01-29T23:33:45.719076Z"
    }
   },
   "outputs": [
    {
     "ename": "NameError",
     "evalue": "name 'A' is not defined",
     "output_type": "error",
     "traceback": [
      "\u001b[1;31m---------------------------------------------------------------------------\u001b[0m",
      "\u001b[1;31mNameError\u001b[0m                                 Traceback (most recent call last)",
      "Cell \u001b[1;32mIn[35], line 1\u001b[0m\n\u001b[1;32m----> 1\u001b[0m Multiplicacion \u001b[38;5;241m=\u001b[39m np\u001b[38;5;241m.\u001b[39mdot(A,B)\n\u001b[0;32m      2\u001b[0m Multiplicacio\n",
      "\u001b[1;31mNameError\u001b[0m: name 'A' is not defined"
     ]
    }
   ],
   "source": [
    "Multiplicacion = np.dot(A,B)\n",
    "Multiplicacio"
   ]
  },
  {
   "cell_type": "markdown",
   "id": "a5295dad-4819-4283-96f8-7cf2f3792463",
   "metadata": {},
   "source": [
    "#### Transpuesta de una matriz\n",
    "\n",
    "<center> <img src=\"transpuesta.gif\" width=\"450\"></center>"
   ]
  },
  {
   "cell_type": "code",
   "execution_count": null,
   "id": "998616c0-560d-46d4-be4a-b1cd20d2703e",
   "metadata": {},
   "outputs": [],
   "source": [
    "      # Transpuesta "
   ]
  },
  {
   "cell_type": "code",
   "execution_count": null,
   "id": "8a64df20-8afd-45f9-b936-8c6ddc0368a1",
   "metadata": {},
   "outputs": [],
   "source": []
  },
  {
   "cell_type": "code",
   "execution_count": null,
   "id": "22345587-4d37-4141-a9b6-cedc9128ed9a",
   "metadata": {},
   "outputs": [],
   "source": []
  },
  {
   "cell_type": "code",
   "execution_count": null,
   "id": "66213952-12df-4be9-90e5-495bfe64f2e8",
   "metadata": {},
   "outputs": [],
   "source": []
  },
  {
   "cell_type": "markdown",
   "id": "0f3ecf55-2222-483f-8b63-22255e1e6520",
   "metadata": {},
   "source": [
    "#### Determinante de una matriz\n",
    "\n",
    "Para obtener el determinante de una matriz, la matriz debe ser cuadrada. El resultado es un escalar."
   ]
  },
  {
   "cell_type": "code",
   "execution_count": null,
   "id": "5ef09758-1fd1-4327-8fdf-d9587f8b6790",
   "metadata": {},
   "outputs": [],
   "source": []
  },
  {
   "cell_type": "code",
   "execution_count": null,
   "id": "749fd3c8-9d47-4f16-8179-37ffd467c3c3",
   "metadata": {},
   "outputs": [],
   "source": [
    " # No funciona porque la matriz no es cuadrada"
   ]
  },
  {
   "cell_type": "markdown",
   "id": "56390d3a-2d2d-46a8-848d-bbf8f88b1845",
   "metadata": {},
   "source": [
    "#### Inversa de una matriz\n",
    "\n",
    "Para obtener la inversa de una matriz, esta debe ser cuadrada. El resultado es una matriz con las mismas dimensiones."
   ]
  },
  {
   "cell_type": "code",
   "execution_count": null,
   "id": "87fed11f-d6ef-40f3-827f-10f98982607f",
   "metadata": {},
   "outputs": [],
   "source": []
  },
  {
   "cell_type": "code",
   "execution_count": null,
   "id": "29d915e8-c1de-404c-adac-f972fe497adb",
   "metadata": {
    "ExecuteTime": {
     "end_time": "2025-01-29T23:33:45.881018Z",
     "start_time": "2025-01-29T23:33:45.879935Z"
    }
   },
   "outputs": [],
   "source": []
  },
  {
   "cell_type": "markdown",
   "id": "31ed6bce-c642-4a8d-ab31-86c4d1176461",
   "metadata": {},
   "source": [
    "## <font color = darkblue> Indexación y Slicing\n",
    "La indexación y el slicing son dos formas de acceder a elementos en Python, pero se diferencian en que la indexación devuelve un único elemento, mientras que el slicing devuelve una lista de elementos."
   ]
  },
  {
   "cell_type": "markdown",
   "id": "ad6facac-db8f-48f0-946a-d5d187de0844",
   "metadata": {},
   "source": [
    "### Acceso a elementos"
   ]
  },
  {
   "cell_type": "code",
   "execution_count": null,
   "id": "0b4f82f2-72f8-404d-97ce-fe8053b36e90",
   "metadata": {
    "ExecuteTime": {
     "end_time": "2025-01-29T23:33:45.911058Z",
     "start_time": "2025-01-29T23:33:45.909774Z"
    }
   },
   "outputs": [],
   "source": [
    "matriz = np.array([[1,2,3,4],[5,6,7,8],[9,10,11,12]] )\n",
    "matriz"
   ]
  },
  {
   "cell_type": "code",
   "execution_count": null,
   "id": "c8819640-6689-418a-812d-a2084cf92ab1",
   "metadata": {
    "ExecuteTime": {
     "end_time": "2025-01-29T23:33:46.200482Z",
     "start_time": "2025-01-29T23:33:46.199185Z"
    }
   },
   "outputs": [],
   "source": [
    "     # Acceso a la primera fila"
   ]
  },
  {
   "cell_type": "code",
   "execution_count": null,
   "id": "7e59b3eb-da5a-40d7-84be-bbdb8a25dad6",
   "metadata": {
    "ExecuteTime": {
     "end_time": "2025-01-29T23:33:46.378274Z",
     "start_time": "2025-01-29T23:33:46.376900Z"
    }
   },
   "outputs": [],
   "source": [
    "# Acceso al elemento (1,1)\n",
    "matriz[0,0]"
   ]
  },
  {
   "cell_type": "code",
   "execution_count": null,
   "id": "1833bef0-ddad-4044-93a3-59241b367503",
   "metadata": {
    "ExecuteTime": {
     "end_time": "2025-01-29T23:33:46.410487Z",
     "start_time": "2025-01-29T23:33:46.408996Z"
    }
   },
   "outputs": [],
   "source": [
    "# Acceso al elemento (2,2)\n",
    "matriz[2,2]"
   ]
  },
  {
   "cell_type": "code",
   "execution_count": null,
   "id": "04bbd008-b36a-4915-8953-787163a53ac8",
   "metadata": {
    "ExecuteTime": {
     "end_time": "2025-01-29T23:33:46.448170Z",
     "start_time": "2025-01-29T23:33:46.446737Z"
    }
   },
   "outputs": [],
   "source": [
    "# Acceso al elemento (2,3)\n",
    "matriz[2,3]"
   ]
  },
  {
   "cell_type": "code",
   "execution_count": null,
   "id": "ca5f6e8b-a79d-4837-91c0-c9e5318fe73e",
   "metadata": {},
   "outputs": [],
   "source": [
    "arreglo = np.linspace(0,20,20, dtype = int)\n",
    "print(arreglo)\n",
    "# Imprimir el primer elememnto del arreglo\n",
    "print(arreglo[0])\n",
    "print(arreglo[2:6]) # Imprimir los elementos del 2 al 5\n",
    "print(arreglo[10:16]) # Imprimir los elementos del 10 al 15\n",
    "print(arreglo[-1]) # Imprimir el último elemento\n",
    "print(arreglo[10:]) # Imprimir del 10 hasta el último elemento\n",
    "print(arreglo[:5])"
   ]
  },
  {
   "cell_type": "markdown",
   "id": "f075f408-3e66-4e4c-99a3-75618ac0b0f4",
   "metadata": {},
   "source": [
    "### Indexación avanzada"
   ]
  },
  {
   "cell_type": "code",
   "execution_count": null,
   "id": "c8019d78-8bf3-4af0-b20e-67ed504779b8",
   "metadata": {
    "ExecuteTime": {
     "end_time": "2025-01-29T23:33:46.474478Z",
     "start_time": "2025-01-29T23:33:46.473114Z"
    }
   },
   "outputs": [],
   "source": [
    "# Acceso a la primer fila\n",
    "print(matriz)\n",
    "print(matriz[0,:])"
   ]
  },
  {
   "cell_type": "code",
   "execution_count": null,
   "id": "bb3c1d49-dcfa-45eb-89cb-026fc377c58b",
   "metadata": {
    "ExecuteTime": {
     "end_time": "2025-01-29T23:33:46.516945Z",
     "start_time": "2025-01-29T23:33:46.515611Z"
    }
   },
   "outputs": [],
   "source": [
    "# Acceso a la segunda columna\n",
    "print(matriz[:,1])\n",
    "\n",
    "# En forma de columna 7 y 11\n",
    "print(matriz[1:,2])\n",
    "\n",
    "# Imprimir la columna 3\n",
    "print(matriz[:, 3])\n",
    "\n",
    "# Imprimir los elementos 9,10 y 11\n",
    "print(matriz[2,:3])"
   ]
  },
  {
   "cell_type": "markdown",
   "id": "54742fe6-d0df-4bd0-bf36-d4698ed29d9e",
   "metadata": {},
   "source": [
    "### Modificación de valores"
   ]
  },
  {
   "cell_type": "code",
   "execution_count": null,
   "id": "17aba4ce-c619-4e59-a1f2-024be082afff",
   "metadata": {
    "ExecuteTime": {
     "end_time": "2025-01-29T23:33:46.547130Z",
     "start_time": "2025-01-29T23:33:46.545811Z"
    }
   },
   "outputs": [],
   "source": [
    "# Modificar el valor (1,1)\n",
    "print(matriz)\n",
    "matriz[0,0] = -1\n",
    "print(matriz)"
   ]
  },
  {
   "cell_type": "code",
   "execution_count": null,
   "id": "62458887-0007-4208-95e3-56aa6f088341",
   "metadata": {
    "ExecuteTime": {
     "end_time": "2025-01-29T23:33:46.588706Z",
     "start_time": "2025-01-29T23:33:46.587389Z"
    }
   },
   "outputs": [],
   "source": [
    "# Modificar la primera fila\n",
    "matriz[0] = np.array([-1,-1,-1,-1])\n",
    "matriz\n",
    "\n",
    "# Sustituir 6 y 7 por -1\n",
    "matriz[1,1:3] = -1\n",
    "matriz"
   ]
  },
  {
   "cell_type": "code",
   "execution_count": null,
   "id": "7a1a7868-4314-400e-9b65-90f75d2be2e0",
   "metadata": {},
   "outputs": [],
   "source": [
    "import matplotlib.pyplot as plt\n",
    "\n",
    "semestres = [1,2,3,4,5,6,7]\n",
    "semestres\n",
    "\n",
    "promedio = [92.83, 96, 90.17, 87.14, 94.33, 93.33, 94.5]\n",
    "promedio\n",
    "\n",
    "plt.figure(figsize=(5,4)) # Especificando el tamaño\n",
    "plt.plot(semestres, promedio, marker='8', color='red', label='Promedio') #Graficando\n",
    "plt.legend(loc='upper center')\n",
    "plt.title('Calificaciones del Yorch', color='green', size=12) # Título del gráfico\n",
    "plt.xlabel('Semestres', color='red', size=8) # Título del eje de las x\n",
    "# plt.ylabel('Calificaciones', color='red', size=8) # Título del eje de las y\n",
    "plt.grid() # Grid cuadricula\n",
    "plt.show()"
   ]
  },
  {
   "cell_type": "markdown",
   "id": "778439eb-e463-49b5-b3f0-89d53a9000d8",
   "metadata": {},
   "source": [
    "## <font color = darkblue> Manipulación de arrays\n",
    "\n",
    "Con las funciones que se verán a continuación se permite el manejo de las matrices para obtener una estructura distinta del arreglo."
   ]
  },
  {
   "cell_type": "markdown",
   "id": "7e253b06-7e9a-42a1-96e1-a1c665ad1d42",
   "metadata": {},
   "source": [
    "#### Cambiar la forma del array"
   ]
  },
  {
   "cell_type": "code",
   "execution_count": null,
   "id": "484b1c0e-8a76-41c8-96ff-7fb3567029b9",
   "metadata": {
    "ExecuteTime": {
     "end_time": "2025-01-29T23:33:46.624940Z",
     "start_time": "2025-01-29T23:33:46.623640Z"
    }
   },
   "outputs": [],
   "source": [
    "matriz = np.array([[1,2,3],[4,5,6]])\n",
    "print(matriz)\n",
    "# Cambiar la matriz de 2 x 3 a 3 x 2\n",
    "# reshape para cambiar la forma\n",
    "print(matriz.reshape((3,2)))"
   ]
  },
  {
   "cell_type": "code",
   "execution_count": null,
   "id": "3696f323-42b2-4875-83b1-6581226a6c2b",
   "metadata": {
    "ExecuteTime": {
     "end_time": "2025-01-29T23:33:46.668455Z",
     "start_time": "2025-01-29T23:33:46.667261Z"
    }
   },
   "outputs": [],
   "source": [
    "# Generar una matriz de 3 x 3 de cero\n",
    "matriz = np.zeros((3,3))\n",
    "print(matriz)\n",
    "\n",
    "# Modificicar a un arreglo de 9 elementos\n",
    "matriz2 = matriz.reshape((9))\n",
    "print(matriz2)"
   ]
  },
  {
   "cell_type": "code",
   "execution_count": null,
   "id": "c37e906c-a358-4e22-b510-12aec28fe540",
   "metadata": {
    "ExecuteTime": {
     "end_time": "2025-01-29T23:33:46.692173Z",
     "start_time": "2025-01-29T23:33:46.690873Z"
    }
   },
   "outputs": [],
   "source": [
    "# Debe coincidir la cantidad de elementos\n",
    "matriz2 = matriz.reshape((9,1))\n",
    "matriz2"
   ]
  },
  {
   "cell_type": "markdown",
   "id": "1ef4b0a1-1d35-4b01-a383-409d652a8570",
   "metadata": {},
   "source": [
    "#### Concatenación "
   ]
  },
  {
   "cell_type": "code",
   "execution_count": null,
   "id": "9d148e3d-ea92-4447-aa3e-70281e12b1e3",
   "metadata": {
    "ExecuteTime": {
     "end_time": "2025-01-29T23:33:46.727358Z",
     "start_time": "2025-01-29T23:33:46.726084Z"
    }
   },
   "outputs": [],
   "source": [
    "l1 = [1,2,3]\n",
    "l2 = [4,5,6]\n",
    "l3 = l1 + l2\n",
    "#print(l3)\n",
    "\n",
    "# Definir 2 arreglos\n",
    "arr1 = np.array([1,2,3])\n",
    "arr2 = np.array([4,5,6])\n",
    "\n",
    "# Los arreglos se concatenan en fila\n",
    "arr_concatenados = np.concatenate((arr1,arr2))\n",
    "#print(arr_concatenados)\n",
    "\n",
    "# Generar un vector de 5 elementos\n",
    "# Generar un vector de 8 elementos\n",
    "v1 = np.arange(10,20,2)\n",
    "v2 = np.linspace(10,20,8)\n",
    "print(v1)\n",
    "print(v2)\n",
    "v3 = np.concatenate((v1,v2))\n",
    "print(v3)"
   ]
  },
  {
   "cell_type": "code",
   "execution_count": null,
   "id": "7e1c94dd-a7f4-4ad8-8bb2-9b60c7dad594",
   "metadata": {
    "ExecuteTime": {
     "end_time": "2025-01-29T23:33:46.752401Z",
     "start_time": "2025-01-29T23:33:46.751151Z"
    }
   },
   "outputs": [],
   "source": [
    "# Los vectores se concatenan en fila\n",
    "v3 = np.concatenate((v1,v2))\n",
    "print(v3)"
   ]
  },
  {
   "cell_type": "code",
   "execution_count": null,
   "id": "727faa9e-2432-4231-8bd0-1d5a72fc9cae",
   "metadata": {
    "ExecuteTime": {
     "end_time": "2025-01-29T23:33:46.794140Z",
     "start_time": "2025-01-29T23:33:46.792790Z"
    }
   },
   "outputs": [],
   "source": [
    "# Las matrices con la misma cantidad de columnas\n",
    "m1 = np.zeros((2,3))\n",
    "m2 = np.ones((3,3))\n"
   ]
  },
  {
   "cell_type": "code",
   "execution_count": null,
   "id": "250473b3-7f97-445f-bc4f-66be4060241c",
   "metadata": {
    "ExecuteTime": {
     "end_time": "2025-01-29T23:33:46.820214Z",
     "start_time": "2025-01-29T23:33:46.818895Z"
    }
   },
   "outputs": [],
   "source": [
    "# Concatenar por columna\n",
    "m3 = np.concatenate((m1,m2), axis = 0)\n",
    "print(m3)"
   ]
  },
  {
   "cell_type": "code",
   "execution_count": null,
   "id": "ab951b56-2a23-4584-8b24-2c2b31026643",
   "metadata": {
    "ExecuteTime": {
     "end_time": "2025-01-29T23:33:46.854901Z",
     "start_time": "2025-01-29T23:33:46.853638Z"
    }
   },
   "outputs": [],
   "source": [
    "# Las matrices con mismo número de filas\n",
    "m1 = np.zeros((3,2))\n",
    "m2 = np.ones((3,4))"
   ]
  },
  {
   "cell_type": "code",
   "execution_count": null,
   "id": "9d29477a-1ade-4a32-b816-40109bee9bba",
   "metadata": {
    "ExecuteTime": {
     "end_time": "2025-01-29T23:33:46.880946Z",
     "start_time": "2025-01-29T23:33:46.879615Z"
    }
   },
   "outputs": [],
   "source": [
    "# Concatenar por fila\n",
    "m3 = np.concatenate((m2,m1), axis = 1)\n",
    "print(m3)"
   ]
  },
  {
   "cell_type": "markdown",
   "id": "47ce2d55-e376-4ec9-badf-265dd9861cd3",
   "metadata": {},
   "source": [
    "#### Separar arreglos"
   ]
  },
  {
   "cell_type": "code",
   "execution_count": null,
   "id": "6a8a087e-69ec-45d6-9e94-d4276812b990",
   "metadata": {
    "ExecuteTime": {
     "end_time": "2025-01-29T23:33:46.916131Z",
     "start_time": "2025-01-29T23:33:46.915072Z"
    }
   },
   "outputs": [],
   "source": [
    "cadena = 'elyorch.gl@jiquilpan.tencm.mx'\n",
    "cadena2 = cadena.split('.')\n",
    "cadena2"
   ]
  },
  {
   "cell_type": "code",
   "execution_count": null,
   "id": "92ea3fc1-8121-4c8a-9d23-8816eecc59a0",
   "metadata": {
    "ExecuteTime": {
     "end_time": "2025-01-29T23:33:46.944400Z",
     "start_time": "2025-01-29T23:33:46.943094Z"
    }
   },
   "outputs": [],
   "source": [
    "arr = np.array([1,2,3,4,5,6])\n",
    "arr\n",
    "# Divide en 2 partes \n",
    "split = np.array_split(arr,2)\n",
    "split"
   ]
  },
  {
   "cell_type": "code",
   "execution_count": null,
   "id": "db15e60a-4cfa-4e05-80b1-d68966e3136e",
   "metadata": {
    "ExecuteTime": {
     "end_time": "2025-01-29T23:33:46.985437Z",
     "start_time": "2025-01-29T23:33:46.984088Z"
    }
   },
   "outputs": [],
   "source": [
    "split[0]\n",
    "split[0][2]"
   ]
  },
  {
   "cell_type": "code",
   "execution_count": null,
   "id": "960a033e-e7b0-4c3c-bdc8-e12ea58a87ec",
   "metadata": {
    "ExecuteTime": {
     "end_time": "2025-01-29T23:33:47.008929Z",
     "start_time": "2025-01-29T23:33:47.007597Z"
    }
   },
   "outputs": [],
   "source": [
    "# Divide en 3 partes y toma las filas disponibles\n",
    "matriz = np.array([[1,2,3],[2,3,4],[7,8,9]])\n",
    "matriz"
   ]
  },
  {
   "cell_type": "code",
   "execution_count": null,
   "id": "ecb92113-8a3b-4265-ae7e-942720ca7021",
   "metadata": {
    "ExecuteTime": {
     "end_time": "2025-01-29T23:33:47.045846Z",
     "start_time": "2025-01-29T23:33:47.044577Z"
    }
   },
   "outputs": [],
   "source": [
    "# Divide por filas\n",
    "split = np.array_split(matriz,3)\n",
    "split"
   ]
  },
  {
   "cell_type": "code",
   "execution_count": null,
   "id": "5e09045b-02e1-452e-9147-731b5c4f0000",
   "metadata": {
    "ExecuteTime": {
     "end_time": "2025-01-29T23:33:47.071822Z",
     "start_time": "2025-01-29T23:33:47.070528Z"
    }
   },
   "outputs": [],
   "source": [
    "# Divide por columnas\n",
    "split = np.array_split(matriz,3)\n",
    "split\n",
    "\n",
    "for a in split:\n",
    "    print(a[0][1])"
   ]
  },
  {
   "cell_type": "code",
   "execution_count": null,
   "id": "5842b443-371d-474b-b6c9-0a715f1546a5",
   "metadata": {},
   "outputs": [],
   "source": [
    "matriz = np.array([[1,2,3],[4,5,6]])\n",
    "print(matriz)\n",
    "# matriz_traspuesta = matriz.T\n",
    "# print(matriz_traspuesta)\n",
    "# Divide por columnas\n",
    "split = np.array_split(matriz.T, 3)\n",
    "# split\n",
    "print(\"----------\")\n",
    "for a in split:\n",
    "    print(a)"
   ]
  },
  {
   "cell_type": "markdown",
   "id": "1f58bebf-a84c-4f92-a1b9-45d81bd2445a",
   "metadata": {},
   "source": [
    "#### Aplanar un array"
   ]
  },
  {
   "cell_type": "code",
   "execution_count": null,
   "id": "6a9de724-b2ad-494b-acba-5cea5928c43f",
   "metadata": {
    "ExecuteTime": {
     "end_time": "2025-01-29T23:33:47.115085Z",
     "start_time": "2025-01-29T23:33:47.113892Z"
    }
   },
   "outputs": [],
   "source": [
    "# Crear un arreglo de unos de 10 x 5\n",
    "arr_unos = np.ones((10,5))\n",
    "arr_unos"
   ]
  },
  {
   "cell_type": "code",
   "execution_count": null,
   "id": "1f9a160e-bd43-4e65-8967-5bca6bc1d569",
   "metadata": {
    "ExecuteTime": {
     "end_time": "2025-01-29T23:33:47.139748Z",
     "start_time": "2025-01-29T23:33:47.138573Z"
    }
   },
   "outputs": [],
   "source": [
    "# Aplanar el arreglo\n",
    "# arr_aplanado = arr_unos.ravel()\n",
    "# arr_aplanado\n",
    "\n",
    "arr_aplanado2 = arr_unos.flatten()\n",
    "print(arr_aplanado2)"
   ]
  },
  {
   "cell_type": "markdown",
   "id": "9c67c6f5-ab39-4990-b5f1-2fcbb442f547",
   "metadata": {},
   "source": [
    "## <font color = darkblue> Generación de números aleatorios\n",
    "\n",
    "NumPy utiliza como base el generador de números pseudoaleatorios PCG64 (Permuted Congruential Generator) desde la versión 1.17.0. Este generador reemplazó al previamente usado Mersenne Twister como el generador predeterminado."
   ]
  },
  {
   "cell_type": "markdown",
   "id": "9b71c369-39ee-4078-a02b-16bc912412cb",
   "metadata": {},
   "source": [
    "### Números aleatorios entre 0 y 1"
   ]
  },
  {
   "cell_type": "code",
   "execution_count": null,
   "id": "7f12aa4a-c3af-4265-b410-5695eb579eaa",
   "metadata": {
    "ExecuteTime": {
     "end_time": "2025-01-29T23:33:47.183193Z",
     "start_time": "2025-01-29T23:33:47.181869Z"
    }
   },
   "outputs": [],
   "source": [
    "# Matriz 3x4 con valores aleatorios entre 0 y 1\n",
    "matriz_random = np.random.rand(3,4)\n",
    "matriz_random"
   ]
  },
  {
   "cell_type": "code",
   "execution_count": null,
   "id": "7205b2e1-fc55-4c27-aadd-1eb1d89b413f",
   "metadata": {
    "ExecuteTime": {
     "end_time": "2025-01-29T23:33:47.208455Z",
     "start_time": "2025-01-29T23:33:47.207109Z"
    }
   },
   "outputs": [],
   "source": [
    "# Media\n",
    "print(f\"La media es: {matriz_random.mean()}\")"
   ]
  },
  {
   "cell_type": "code",
   "execution_count": null,
   "id": "7b5f9699-4059-4e7a-ac2d-5b844633cc74",
   "metadata": {
    "ExecuteTime": {
     "end_time": "2025-01-29T23:33:47.252186Z",
     "start_time": "2025-01-29T23:33:47.250721Z"
    }
   },
   "outputs": [],
   "source": [
    "# Suma\n",
    "print(f\"La suma de los elementos del arerglo es: {matriz_random.sum():.2f}\")"
   ]
  },
  {
   "cell_type": "markdown",
   "id": "cc652d24-123c-4ec3-97b1-39997b6ee383",
   "metadata": {},
   "source": [
    "### Numeros aleatorios enteros en un rango"
   ]
  },
  {
   "cell_type": "code",
   "execution_count": null,
   "id": "f1f53c43-4ba4-4634-90ab-2f9708b6c6b9",
   "metadata": {
    "ExecuteTime": {
     "end_time": "2025-01-29T23:33:47.277557Z",
     "start_time": "2025-01-29T23:33:47.276251Z"
    }
   },
   "outputs": [],
   "source": [
    "# Matriz 2x3 con valores entre 1 y 10\n",
    "matriz = np.random.randint(1,10, (5,4))\n",
    "matriz"
   ]
  },
  {
   "cell_type": "code",
   "execution_count": null,
   "id": "f4a56d49-c20b-48ca-97e4-a2b5b5956034",
   "metadata": {
    "ExecuteTime": {
     "end_time": "2025-01-29T23:33:47.319081Z",
     "start_time": "2025-01-29T23:33:47.317820Z"
    }
   },
   "outputs": [],
   "source": [
    "# Matriz 2x3 con valores entre 1 y 50\n",
    "matriz = np.random.randint(1,50, (5,3))\n",
    "matriz"
   ]
  },
  {
   "cell_type": "markdown",
   "id": "1cb5b51e-fc77-43b1-be79-b55277746b2b",
   "metadata": {},
   "source": [
    "### Configurar una semilla para reproducibilidad"
   ]
  },
  {
   "cell_type": "markdown",
   "id": "cc79d8e6-ee4d-4d71-8513-5f1dbf455af7",
   "metadata": {},
   "source": [
    "np.random.seed(42)"
   ]
  },
  {
   "cell_type": "code",
   "execution_count": null,
   "id": "56daeb3d-cb74-416f-8476-64b9e0a1f6aa",
   "metadata": {
    "ExecuteTime": {
     "end_time": "2025-01-29T23:33:47.344046Z",
     "start_time": "2025-01-29T23:33:47.342721Z"
    }
   },
   "outputs": [],
   "source": [
    "# Matriz 3x4 con valores aleatorios entre 0 y 1\n",
    "np.random.seed(42)\n",
    "matriz = np.random.rand(3,4)\n",
    "matriz"
   ]
  },
  {
   "cell_type": "markdown",
   "id": "f13066d0-c62b-4fc8-925b-e4b4957bc82a",
   "metadata": {},
   "source": [
    "## <font color = darkblue> Estadística descriptiva\n",
    "\n",
    "La estadística descriptiva es una rama de la estadística que se encarga de organizar, resumir y representar datos numéricos. Su objetivo es facilitar la interpretación de los resultados de una investigación. Dentro de la estadística descriptiva se tienen medidas de tendencia central o posición, con las cuales se permite obtener de manera analítica la localización de un conjunto de datos. Y también se tienen medidas de dispersión, que de manera analítica permiten obtener una medida de la dispersión de los datos. Esta parte de la estadística se puede desarrollar en numpy.\n",
    "\n",
    "### Medidas de posición\n",
    "\n",
    "#### Media aritmética\n",
    "La media aritmética cuya fórmula se muestra a continuación:\n",
    "\n",
    "$$\\bar{x} = \\frac{1}{n} \\sum_{i=1}^{n}x_{i}$$\n",
    "\n",
    "se puede calcular con la función np.mean(array)."
   ]
  },
  {
   "cell_type": "code",
   "execution_count": null,
   "id": "b9069977-cdec-47e3-bc8f-517c832a9ea4",
   "metadata": {
    "ExecuteTime": {
     "end_time": "2025-01-29T23:33:47.384307Z",
     "start_time": "2025-01-29T23:33:47.383048Z"
    }
   },
   "outputs": [],
   "source": [
    "arreglo = np.random.randint(1, 50, 10)\n",
    "print(arreglo)\n",
    "media_arit = np.mean(arreglo)\n",
    "print(\"La media aritmetica es:\", media_arit)"
   ]
  },
  {
   "cell_type": "code",
   "execution_count": null,
   "id": "897f6b32-ba41-44bd-91aa-585d5f6c96bd",
   "metadata": {
    "ExecuteTime": {
     "end_time": "2025-01-29T23:33:47.409580Z",
     "start_time": "2025-01-29T23:33:47.408413Z"
    }
   },
   "outputs": [],
   "source": [
    "matriz = np.random.randint(1,50, (3,4))\n",
    "print(matriz)\n",
    "# Media aritmetica total\n",
    "media_total = np.mean(matriz)\n",
    "print(\"La meida aritmetica total es: \", media_total)\n",
    "\n",
    "# Media aritmetica por filas\n",
    "media_filas = np.mean(matriz, axis = 1)\n",
    "print(\"La media aritmetica de las filas es:\", media_filas)\n",
    "\n",
    "# Media aritmetica por columnas\n",
    "media_columnas = np.mean(matriz, axis = 0)\n",
    "print(\"La media aritmetica de las columnas es:\", media_columnas)"
   ]
  },
  {
   "cell_type": "markdown",
   "id": "e599ef05-6095-40a5-b391-b6bd764f0581",
   "metadata": {},
   "source": [
    "#### Mediana\n",
    "\n",
    "Otra medida de posición es la mediana, con ella se encuentra el valor central del conjunto de datos ordenados, se utiliza la siguiente expresión.\n",
    "\n",
    "$$\\tilde{x} =\n",
    "\\begin{cases}\n",
    "x_{\\frac{n+1}{2}} & \\text{si n es impar}  \\\\\n",
    "\\frac{x_{\\frac{n}{2}} + x_{\\frac{n+1}{2}}}{2}& \\text{si n es par} \n",
    "\\end{cases}\n",
    "$$\n",
    "\n",
    "se puede obtener con np.median"
   ]
  },
  {
   "cell_type": "code",
   "execution_count": null,
   "id": "65e44cfa-938c-4e71-a497-1f516c91465e",
   "metadata": {
    "ExecuteTime": {
     "end_time": "2025-01-29T23:33:47.450938Z",
     "start_time": "2025-01-29T23:33:47.449659Z"
    }
   },
   "outputs": [],
   "source": [
    "print(arreglo)\n",
    "# Mediana del vector\n",
    "mediana = np.median(arreglo)\n",
    "print(\"La mediana del arreglo es: \", mediana)"
   ]
  },
  {
   "cell_type": "code",
   "execution_count": null,
   "id": "774107ac-ebf2-48a4-b142-77fe9a8217f8",
   "metadata": {
    "ExecuteTime": {
     "end_time": "2025-01-29T23:33:47.476023Z",
     "start_time": "2025-01-29T23:33:47.474755Z"
    }
   },
   "outputs": [],
   "source": [
    "print(matriz)\n",
    "mediana_total = np.median(matriz)\n",
    "print(\"La mediana total es: \", mediana_total)\n",
    "# Media de las filas\n",
    "mediana_filas = np.median(matriz, axis = 1)\n",
    "print(\"La mediana de las filas es: \", mediana_filas)\n",
    "\n",
    "# Media de las columnas\n",
    "mediana_columnas = np.median(matriz, axis = 0)\n",
    "print(\"La mediana de las columnas es: \", mediana_columnas)"
   ]
  },
  {
   "cell_type": "markdown",
   "id": "e8fb90cf-b78a-4153-a12f-a8691c0c2acd",
   "metadata": {},
   "source": [
    "#### Cuartiles \n",
    "\n",
    "Los cuartiles son medidas de posición que representan en intervalos de 25\\% el conjunto de datos observado. Permiten encontrar el punto en que se encuentra el 25\\%, 50\\%, y 75\\% de la información en un conjunto de datos ordenados."
   ]
  },
  {
   "cell_type": "code",
   "execution_count": null,
   "id": "66c62ddd-6183-4dd0-8ca1-4b8c7cd04adf",
   "metadata": {
    "ExecuteTime": {
     "end_time": "2025-01-29T23:33:47.516313Z",
     "start_time": "2025-01-29T23:33:47.515116Z"
    }
   },
   "outputs": [],
   "source": [
    "arreglo = np.array([10,20,30,40,50,60,70,80,90,100])\n",
    "print(arreglo)\n",
    "cuartil1 = np.percentile(arreglo, 25)  # Primer cuartil (25%)\n",
    "cuartil2 = np.percentile(arreglo, 50)  # Segundo cuartil o Mediana (50%)\n",
    "cuartil3 = np.percentile(arreglo, 75)  # Tercer cuartil (75%)\n",
    "\n",
    "print(\"Cuartil 1 (25%):\", cuartil1)\n",
    "print(\"Cuartil 2 (50% - Mediana):\", cuartil2)\n",
    "print(\"Cuartil 3 (75%):\", cuartil3)"
   ]
  },
  {
   "cell_type": "markdown",
   "id": "7bbff13c-81a0-4e05-8bc9-fc10d5f2984a",
   "metadata": {},
   "source": [
    "### Medidas de dispersión\n",
    "\n",
    "#### Desviación estándar\n",
    "La desviación estándar es una medida de la dispersión de un conjunto de datos. Se utiliza para estudiar la variabilidad de una variable continua en una muestra.  Su fórmula es la siguiente:\n",
    "\n",
    "$$s = \\sqrt{\\frac{1}{n-1} \\sum_{i=1}^{n} (x_{i} - \\bar{x})^{2}} $$\n",
    "\n",
    "con numpy se obtiene utilizando np.std\n"
   ]
  },
  {
   "cell_type": "code",
   "execution_count": null,
   "id": "31a973d7-301b-4265-8e84-e240c01dbf92",
   "metadata": {
    "ExecuteTime": {
     "end_time": "2025-01-29T23:33:47.544029Z",
     "start_time": "2025-01-29T23:33:47.542722Z"
    }
   },
   "outputs": [],
   "source": [
    "print(arreglo)\n",
    "\n",
    "# Desviacion del vector\n",
    "desviacion = np.std(arreglo)\n",
    "print(\"La desciacion del arreglo es:\", desviacion)"
   ]
  },
  {
   "cell_type": "markdown",
   "id": "328d7da7-7e28-4173-abbb-962521f2b79f",
   "metadata": {},
   "source": [
    "#### Varianza\n",
    "La varianza es una medida de dispersión que indica la variabilidad de un conjunto de datos en relación con su media. Es decir, la varianza cuantifica qué tan dispersos están los datos alrededor de la media.\n",
    "\n",
    "$$s^{2} = \\frac{1}{n-1} \\sum_{i=1}^{n} (x_{i} - \\bar{x})^{2} $$\n",
    "\n",
    "con numpy se obtiene utilizando np.var"
   ]
  },
  {
   "cell_type": "code",
   "execution_count": null,
   "id": "d0bc4139-cffc-4048-b45c-185f7cefcd46",
   "metadata": {
    "ExecuteTime": {
     "end_time": "2025-01-29T23:33:47.588291Z",
     "start_time": "2025-01-29T23:33:47.587024Z"
    }
   },
   "outputs": [],
   "source": [
    "print(arreglo)\n",
    "\n",
    "# Varianza del vector\n",
    "varianza = np.var(arreglo)\n",
    "print(\"La varianza del arreglo es: \", varianza)"
   ]
  },
  {
   "cell_type": "markdown",
   "id": "6e79f323-af5e-4786-9f67-695c6a33a325",
   "metadata": {},
   "source": [
    "#### Rango\n",
    "\n",
    "El rango en estadística es la diferencia entre el valor más grande y el más pequeño de un conjunto de datos. También se le conoce como amplitud o recorrido.\n",
    "\n",
    "$$R = \\max{x_{i}} - \\min{x_{i}} $$"
   ]
  },
  {
   "cell_type": "code",
   "execution_count": null,
   "id": "0b9c101b-bdd7-4e0b-85d6-30277c6d3dbd",
   "metadata": {
    "ExecuteTime": {
     "end_time": "2025-01-29T23:33:47.612997Z",
     "start_time": "2025-01-29T23:33:47.611779Z"
    }
   },
   "outputs": [],
   "source": [
    "print(arreglo)\n",
    "\n",
    "# Mediana del vector\n",
    "mediana = np.median(arreglo)\n",
    "print(mediana)\n",
    "# Distancia entre el dato menor y el mayor\n",
    "rango = np.max(arreglo) - np.min(arreglo)\n",
    "print(\"El rango del arreglo es: \", rango)"
   ]
  },
  {
   "cell_type": "markdown",
   "id": "e26544b7-6884-4939-919e-7d8e913cdcf1",
   "metadata": {},
   "source": [
    "### Histograma \n",
    "Representación gráfica de una distribución de frecuencias por medio de barras, cuyas alturas representan las correspondientes frecuencias.\n"
   ]
  },
  {
   "cell_type": "code",
   "execution_count": null,
   "id": "f8857383-b0fe-4d15-a912-0ec9cae54afb",
   "metadata": {
    "ExecuteTime": {
     "end_time": "2025-01-29T23:33:47.668256Z",
     "start_time": "2025-01-29T23:33:47.666939Z"
    }
   },
   "outputs": [],
   "source": [
    "# Generar datos de ejemplo (distribución normal)\n",
    "# np.random.normal(mu, sigma, size) → genera 'size' datos con media 'mu' y desviación estándar 'sigma'\n",
    "mu = 0  # Media\n",
    "sigma = 1  # Desviación estándar\n",
    "size = 1000  # Número de datos\n",
    "\n",
    "# Generamos 1000 datos con distribución normal\n",
    "datos = np.random.normal(mu, sigma, size)\n",
    "\n",
    "#Histograma\n",
    "plt.hist(datos, bins=30, edgecolor='black', alpha=0.7)\n",
    "\n",
    "# Agregar etiquetas y título\n",
    "plt.title('Histograma de Distribución Normal')\n",
    "plt.xlabel('Valores')\n",
    "plt.ylabel('Frecuencia')\n",
    "\n",
    "# Mostrar el gráfico\n",
    "plt.show()\n"
   ]
  },
  {
   "cell_type": "code",
   "execution_count": null,
   "id": "18710ddd-d2ed-4cb9-972f-a9ebfd8add00",
   "metadata": {
    "ExecuteTime": {
     "end_time": "2025-01-29T23:33:47.693363Z",
     "start_time": "2025-01-29T23:33:47.692049Z"
    }
   },
   "outputs": [],
   "source": [
    "# Generar 5 muestras de la distribución exponencial\n",
    "# np.random.exponential(scale, size) → genera 'size' muestras con parámetro 'scale'\n",
    "scale = 1  # Parámetro de escala (lambda = 1 / media)\n",
    "size = 5  # Número de muestras\n",
    "\n",
    "# Generamos 5 muestras\n",
    "muestras = np.random.exponential(scale, size)\n",
    "\n",
    "# Histograma\n",
    "plt.hist(muestras, bins=5, edgecolor='black', alpha=0.7)\n",
    "\n",
    "# Agregar etiquetas y título\n",
    "plt.title('Histograma de 5 Muestras de Distribución Exponencial')\n",
    "plt.xlabel('Valores')\n",
    "plt.ylabel('Frecuencia')\n",
    "\n",
    "# Mostrar el gráfico\n",
    "plt.show()\n",
    "\n",
    "# Imprimir las muestras generadas\n",
    "print(\"Muestras generadas:\", muestras)"
   ]
  },
  {
   "cell_type": "markdown",
   "id": "cadcf136-01fa-4f0f-9e9e-324fb9e2263c",
   "metadata": {},
   "source": [
    "#### Boxplot\n",
    "\n",
    "Un boxplot, también conocido como diagrama de caja, es un gráfico que muestra la distribución de datos numéricos mediante sus cuartiles. Este tipo de gráfico permite visualizar la mediana, los cuartiles, los valores atípicos y la simetría de los datos."
   ]
  },
  {
   "cell_type": "code",
   "execution_count": null,
   "id": "5890ac8e-a709-4342-801e-edae23a6aecf",
   "metadata": {
    "ExecuteTime": {
     "end_time": "2025-01-29T23:33:47.731373Z",
     "start_time": "2025-01-29T23:33:47.730055Z"
    }
   },
   "outputs": [],
   "source": [
    "# Generar 1000 muestras de la distribución exponencial\n",
    "\n",
    "# Crear el boxplot\n",
    "\n",
    "# Personalizar el gráfico\n",
    "\n",
    "\n",
    "\n",
    "# Mostrar el gráfico\n"
   ]
  },
  {
   "cell_type": "code",
   "execution_count": null,
   "id": "49cb34dc-f1b8-4ee3-963c-294a1f635138",
   "metadata": {
    "ExecuteTime": {
     "end_time": "2025-01-29T23:33:47.757351Z",
     "start_time": "2025-01-29T23:33:47.756176Z"
    }
   },
   "outputs": [],
   "source": []
  },
  {
   "cell_type": "markdown",
   "id": "b1de57bf-2206-4972-a47f-8883deb4bc0f",
   "metadata": {},
   "source": [
    "#### Scatter plot \n",
    "Un scatter plot, o diagrama de dispersión, es una herramienta que se utiliza para mostrar y comparar valores numéricos. Se usa para identificar relaciones entre variables y comprobar su solidez. \n"
   ]
  },
  {
   "cell_type": "code",
   "execution_count": null,
   "id": "fdc5d9fe-506c-49d4-be5f-7bb4eb0e8213",
   "metadata": {
    "ExecuteTime": {
     "end_time": "2025-01-29T23:33:47.804897Z",
     "start_time": "2025-01-29T23:33:47.803620Z"
    }
   },
   "outputs": [],
   "source": [
    "# Generar datos ficticios\n",
    "# Semilla para reproducibilidad\n",
    " # Valores aleatorios para el eje X\n",
    " # Valores aleatorios para el eje Y\n",
    "  # Colores aleatorios\n",
    " # Tamaños de los puntos\n",
    "\n",
    "\n",
    "# Crear el scatter plot\n"
   ]
  },
  {
   "cell_type": "code",
   "execution_count": null,
   "id": "ef28e135-2fa3-452f-9fe4-6507d78c6472",
   "metadata": {
    "ExecuteTime": {
     "end_time": "2025-01-29T23:33:47.831751Z",
     "start_time": "2025-01-29T23:33:47.830398Z"
    }
   },
   "outputs": [],
   "source": [
    "# Ejemplo: x y y tienen una relación lineal\n",
    "# Tamaños de los puntos\n",
    "\n",
    " # s = tamaño de los puntos, \n"
   ]
  }
 ],
 "metadata": {
  "kernelspec": {
   "display_name": "Python 3 (ipykernel)",
   "language": "python",
   "name": "python3"
  },
  "language_info": {
   "codemirror_mode": {
    "name": "ipython",
    "version": 3
   },
   "file_extension": ".py",
   "mimetype": "text/x-python",
   "name": "python",
   "nbconvert_exporter": "python",
   "pygments_lexer": "ipython3",
   "version": "3.12.7"
  }
 },
 "nbformat": 4,
 "nbformat_minor": 5
}
