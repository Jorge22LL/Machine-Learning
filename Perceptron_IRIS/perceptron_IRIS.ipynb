{
 "cells": [
  {
   "cell_type": "code",
   "execution_count": 1,
   "id": "61afb420-5277-4228-becd-d4ff0333ddc1",
   "metadata": {},
   "outputs": [],
   "source": [
    "#Importar librerías \n",
    "import numpy as np\n",
    "import pandas as pd\n",
    "import seaborn as sns\n",
    "import matplotlib.pyplot as plt"
   ]
  },
  {
   "cell_type": "markdown",
   "id": "9c70229a-7e13-4c40-b077-5a031232b035",
   "metadata": {},
   "source": [
    "### Analisis del dataset"
   ]
  },
  {
   "cell_type": "code",
   "execution_count": 3,
   "id": "357d1653-bac1-41c9-9597-dbe993d9295d",
   "metadata": {},
   "outputs": [
    {
     "data": {
      "text/html": [
       "<div>\n",
       "<style scoped>\n",
       "    .dataframe tbody tr th:only-of-type {\n",
       "        vertical-align: middle;\n",
       "    }\n",
       "\n",
       "    .dataframe tbody tr th {\n",
       "        vertical-align: top;\n",
       "    }\n",
       "\n",
       "    .dataframe thead th {\n",
       "        text-align: right;\n",
       "    }\n",
       "</style>\n",
       "<table border=\"1\" class=\"dataframe\">\n",
       "  <thead>\n",
       "    <tr style=\"text-align: right;\">\n",
       "      <th></th>\n",
       "      <th>sepal_length</th>\n",
       "      <th>sepal_width</th>\n",
       "      <th>petal_length</th>\n",
       "      <th>petal_width</th>\n",
       "      <th>species</th>\n",
       "    </tr>\n",
       "  </thead>\n",
       "  <tbody>\n",
       "    <tr>\n",
       "      <th>0</th>\n",
       "      <td>5.1</td>\n",
       "      <td>3.5</td>\n",
       "      <td>1.4</td>\n",
       "      <td>0.2</td>\n",
       "      <td>Iris-setosa</td>\n",
       "    </tr>\n",
       "    <tr>\n",
       "      <th>1</th>\n",
       "      <td>4.9</td>\n",
       "      <td>3.0</td>\n",
       "      <td>1.4</td>\n",
       "      <td>0.2</td>\n",
       "      <td>Iris-setosa</td>\n",
       "    </tr>\n",
       "    <tr>\n",
       "      <th>2</th>\n",
       "      <td>4.7</td>\n",
       "      <td>3.2</td>\n",
       "      <td>1.3</td>\n",
       "      <td>0.2</td>\n",
       "      <td>Iris-setosa</td>\n",
       "    </tr>\n",
       "    <tr>\n",
       "      <th>3</th>\n",
       "      <td>4.6</td>\n",
       "      <td>3.1</td>\n",
       "      <td>1.5</td>\n",
       "      <td>0.2</td>\n",
       "      <td>Iris-setosa</td>\n",
       "    </tr>\n",
       "    <tr>\n",
       "      <th>4</th>\n",
       "      <td>5.0</td>\n",
       "      <td>3.6</td>\n",
       "      <td>1.4</td>\n",
       "      <td>0.2</td>\n",
       "      <td>Iris-setosa</td>\n",
       "    </tr>\n",
       "    <tr>\n",
       "      <th>...</th>\n",
       "      <td>...</td>\n",
       "      <td>...</td>\n",
       "      <td>...</td>\n",
       "      <td>...</td>\n",
       "      <td>...</td>\n",
       "    </tr>\n",
       "    <tr>\n",
       "      <th>145</th>\n",
       "      <td>6.7</td>\n",
       "      <td>3.0</td>\n",
       "      <td>5.2</td>\n",
       "      <td>2.3</td>\n",
       "      <td>Iris-virginica</td>\n",
       "    </tr>\n",
       "    <tr>\n",
       "      <th>146</th>\n",
       "      <td>6.3</td>\n",
       "      <td>2.5</td>\n",
       "      <td>5.0</td>\n",
       "      <td>1.9</td>\n",
       "      <td>Iris-virginica</td>\n",
       "    </tr>\n",
       "    <tr>\n",
       "      <th>147</th>\n",
       "      <td>6.5</td>\n",
       "      <td>3.0</td>\n",
       "      <td>5.2</td>\n",
       "      <td>2.0</td>\n",
       "      <td>Iris-virginica</td>\n",
       "    </tr>\n",
       "    <tr>\n",
       "      <th>148</th>\n",
       "      <td>6.2</td>\n",
       "      <td>3.4</td>\n",
       "      <td>5.4</td>\n",
       "      <td>2.3</td>\n",
       "      <td>Iris-virginica</td>\n",
       "    </tr>\n",
       "    <tr>\n",
       "      <th>149</th>\n",
       "      <td>5.9</td>\n",
       "      <td>3.0</td>\n",
       "      <td>5.1</td>\n",
       "      <td>1.8</td>\n",
       "      <td>Iris-virginica</td>\n",
       "    </tr>\n",
       "  </tbody>\n",
       "</table>\n",
       "<p>150 rows × 5 columns</p>\n",
       "</div>"
      ],
      "text/plain": [
       "     sepal_length  sepal_width  petal_length  petal_width         species\n",
       "0             5.1          3.5           1.4          0.2     Iris-setosa\n",
       "1             4.9          3.0           1.4          0.2     Iris-setosa\n",
       "2             4.7          3.2           1.3          0.2     Iris-setosa\n",
       "3             4.6          3.1           1.5          0.2     Iris-setosa\n",
       "4             5.0          3.6           1.4          0.2     Iris-setosa\n",
       "..            ...          ...           ...          ...             ...\n",
       "145           6.7          3.0           5.2          2.3  Iris-virginica\n",
       "146           6.3          2.5           5.0          1.9  Iris-virginica\n",
       "147           6.5          3.0           5.2          2.0  Iris-virginica\n",
       "148           6.2          3.4           5.4          2.3  Iris-virginica\n",
       "149           5.9          3.0           5.1          1.8  Iris-virginica\n",
       "\n",
       "[150 rows x 5 columns]"
      ]
     },
     "execution_count": 3,
     "metadata": {},
     "output_type": "execute_result"
    }
   ],
   "source": [
    "# Crear data frame\n",
    "df = pd.read_csv(\"IRIS.csv\")\n",
    "df"
   ]
  },
  {
   "cell_type": "code",
   "execution_count": 4,
   "id": "0235cda6-8c5b-48ad-a2a5-523ff54abfcb",
   "metadata": {},
   "outputs": [
    {
     "name": "stdout",
     "output_type": "stream",
     "text": [
      "<class 'pandas.core.frame.DataFrame'>\n",
      "RangeIndex: 150 entries, 0 to 149\n",
      "Data columns (total 5 columns):\n",
      " #   Column        Non-Null Count  Dtype  \n",
      "---  ------        --------------  -----  \n",
      " 0   sepal_length  150 non-null    float64\n",
      " 1   sepal_width   150 non-null    float64\n",
      " 2   petal_length  150 non-null    float64\n",
      " 3   petal_width   150 non-null    float64\n",
      " 4   species       150 non-null    object \n",
      "dtypes: float64(4), object(1)\n",
      "memory usage: 6.0+ KB\n"
     ]
    }
   ],
   "source": [
    "df.info()"
   ]
  },
  {
   "cell_type": "markdown",
   "id": "7c1eea7b-07ea-4129-9de9-e3675d8867cf",
   "metadata": {},
   "source": [
    "### Limpieza de datos\n",
    "Primero verificaremos los datos nulos y los duplicados"
   ]
  },
  {
   "cell_type": "code",
   "execution_count": 6,
   "id": "88f8a06f-f88f-47c1-9f92-48661e0abcca",
   "metadata": {},
   "outputs": [
    {
     "name": "stdout",
     "output_type": "stream",
     "text": [
      "3\n"
     ]
    }
   ],
   "source": [
    "# Verificar filas duplicadas\n",
    "print(df.duplicated().sum())"
   ]
  },
  {
   "cell_type": "code",
   "execution_count": 7,
   "id": "217a4864-84ce-493a-890d-fbf2a8830a22",
   "metadata": {},
   "outputs": [],
   "source": [
    "# Eliminamos las filas duplicadas\n",
    "df = df.drop_duplicates()"
   ]
  },
  {
   "cell_type": "code",
   "execution_count": 8,
   "id": "56a52f88-e552-4a12-b830-077398a468b8",
   "metadata": {},
   "outputs": [
    {
     "data": {
      "text/plain": [
       "sepal_length    0\n",
       "sepal_width     0\n",
       "petal_length    0\n",
       "petal_width     0\n",
       "species         0\n",
       "dtype: int64"
      ]
     },
     "execution_count": 8,
     "metadata": {},
     "output_type": "execute_result"
    }
   ],
   "source": [
    "# Verificar valores nulos\n",
    "df.isnull().sum()"
   ]
  },
  {
   "cell_type": "markdown",
   "id": "d650e5fe-a2d1-4d9a-b90b-c9198581a8b5",
   "metadata": {},
   "source": [
    "### Columnas no necesarias\n",
    "Como solo tendremos en cuenta las columnas 'sepal length' y 'petal length' para las entradas, las demas no son necesarias, dejando solo esas y  la de 'species' paras las salidas"
   ]
  },
  {
   "cell_type": "code",
   "execution_count": 10,
   "id": "6b8fa853-0c80-4434-8709-babca7667093",
   "metadata": {},
   "outputs": [],
   "source": [
    "df = df.drop('sepal_width', axis = 1)\n",
    "df = df.drop('petal_width', axis = 1)"
   ]
  },
  {
   "cell_type": "code",
   "execution_count": 11,
   "id": "0a2b057d-0f6d-4ed7-835b-3926c229323f",
   "metadata": {},
   "outputs": [
    {
     "data": {
      "text/html": [
       "<div>\n",
       "<style scoped>\n",
       "    .dataframe tbody tr th:only-of-type {\n",
       "        vertical-align: middle;\n",
       "    }\n",
       "\n",
       "    .dataframe tbody tr th {\n",
       "        vertical-align: top;\n",
       "    }\n",
       "\n",
       "    .dataframe thead th {\n",
       "        text-align: right;\n",
       "    }\n",
       "</style>\n",
       "<table border=\"1\" class=\"dataframe\">\n",
       "  <thead>\n",
       "    <tr style=\"text-align: right;\">\n",
       "      <th></th>\n",
       "      <th>sepal_length</th>\n",
       "      <th>petal_length</th>\n",
       "      <th>species</th>\n",
       "    </tr>\n",
       "  </thead>\n",
       "  <tbody>\n",
       "    <tr>\n",
       "      <th>0</th>\n",
       "      <td>5.1</td>\n",
       "      <td>1.4</td>\n",
       "      <td>Iris-setosa</td>\n",
       "    </tr>\n",
       "    <tr>\n",
       "      <th>1</th>\n",
       "      <td>4.9</td>\n",
       "      <td>1.4</td>\n",
       "      <td>Iris-setosa</td>\n",
       "    </tr>\n",
       "    <tr>\n",
       "      <th>2</th>\n",
       "      <td>4.7</td>\n",
       "      <td>1.3</td>\n",
       "      <td>Iris-setosa</td>\n",
       "    </tr>\n",
       "    <tr>\n",
       "      <th>3</th>\n",
       "      <td>4.6</td>\n",
       "      <td>1.5</td>\n",
       "      <td>Iris-setosa</td>\n",
       "    </tr>\n",
       "    <tr>\n",
       "      <th>4</th>\n",
       "      <td>5.0</td>\n",
       "      <td>1.4</td>\n",
       "      <td>Iris-setosa</td>\n",
       "    </tr>\n",
       "    <tr>\n",
       "      <th>...</th>\n",
       "      <td>...</td>\n",
       "      <td>...</td>\n",
       "      <td>...</td>\n",
       "    </tr>\n",
       "    <tr>\n",
       "      <th>145</th>\n",
       "      <td>6.7</td>\n",
       "      <td>5.2</td>\n",
       "      <td>Iris-virginica</td>\n",
       "    </tr>\n",
       "    <tr>\n",
       "      <th>146</th>\n",
       "      <td>6.3</td>\n",
       "      <td>5.0</td>\n",
       "      <td>Iris-virginica</td>\n",
       "    </tr>\n",
       "    <tr>\n",
       "      <th>147</th>\n",
       "      <td>6.5</td>\n",
       "      <td>5.2</td>\n",
       "      <td>Iris-virginica</td>\n",
       "    </tr>\n",
       "    <tr>\n",
       "      <th>148</th>\n",
       "      <td>6.2</td>\n",
       "      <td>5.4</td>\n",
       "      <td>Iris-virginica</td>\n",
       "    </tr>\n",
       "    <tr>\n",
       "      <th>149</th>\n",
       "      <td>5.9</td>\n",
       "      <td>5.1</td>\n",
       "      <td>Iris-virginica</td>\n",
       "    </tr>\n",
       "  </tbody>\n",
       "</table>\n",
       "<p>147 rows × 3 columns</p>\n",
       "</div>"
      ],
      "text/plain": [
       "     sepal_length  petal_length         species\n",
       "0             5.1           1.4     Iris-setosa\n",
       "1             4.9           1.4     Iris-setosa\n",
       "2             4.7           1.3     Iris-setosa\n",
       "3             4.6           1.5     Iris-setosa\n",
       "4             5.0           1.4     Iris-setosa\n",
       "..            ...           ...             ...\n",
       "145           6.7           5.2  Iris-virginica\n",
       "146           6.3           5.0  Iris-virginica\n",
       "147           6.5           5.2  Iris-virginica\n",
       "148           6.2           5.4  Iris-virginica\n",
       "149           5.9           5.1  Iris-virginica\n",
       "\n",
       "[147 rows x 3 columns]"
      ]
     },
     "execution_count": 11,
     "metadata": {},
     "output_type": "execute_result"
    }
   ],
   "source": [
    "df"
   ]
  },
  {
   "cell_type": "markdown",
   "id": "2b40dcaf-7287-4ba8-a28c-994ea07767aa",
   "metadata": {},
   "source": [
    "### Eliminaremos los valores de 'species'\n",
    "Como se indica, solo analizaremos las tipos de flores 'versicilor' y 'setosa'"
   ]
  },
  {
   "cell_type": "code",
   "execution_count": 13,
   "id": "d923acd7-15d3-42ae-9bb8-bc2136108e0f",
   "metadata": {},
   "outputs": [
    {
     "data": {
      "text/plain": [
       "array(['Iris-setosa', 'Iris-versicolor', 'Iris-virginica'], dtype=object)"
      ]
     },
     "execution_count": 13,
     "metadata": {},
     "output_type": "execute_result"
    }
   ],
   "source": [
    "# Analisamos los valores que tenemos en 'species'\n",
    "df['species'].unique()"
   ]
  },
  {
   "cell_type": "code",
   "execution_count": 14,
   "id": "7bb9d00d-6c7e-4dd3-a594-2eeacd5e0d89",
   "metadata": {},
   "outputs": [],
   "source": [
    "# Eliminar la 'Iris-virginica' que no tomaremos en cuenta para nuestro analisis\n",
    "df = df[~(df['species'] == 'Iris-virginica')]"
   ]
  },
  {
   "cell_type": "code",
   "execution_count": 15,
   "id": "7e18058f-18d5-42dc-a6ee-182a6cbb01a0",
   "metadata": {},
   "outputs": [
    {
     "data": {
      "text/plain": [
       "array(['Iris-setosa', 'Iris-versicolor'], dtype=object)"
      ]
     },
     "execution_count": 15,
     "metadata": {},
     "output_type": "execute_result"
    }
   ],
   "source": [
    "df['species'].unique()"
   ]
  },
  {
   "cell_type": "markdown",
   "id": "839fcb7b-bbda-4f22-874c-c019b301fe68",
   "metadata": {},
   "source": [
    "### Guardar el data set limpio"
   ]
  },
  {
   "cell_type": "code",
   "execution_count": 17,
   "id": "9d4c4a4e-c297-4a99-993a-f120d43f5920",
   "metadata": {},
   "outputs": [
    {
     "data": {
      "text/html": [
       "<div>\n",
       "<style scoped>\n",
       "    .dataframe tbody tr th:only-of-type {\n",
       "        vertical-align: middle;\n",
       "    }\n",
       "\n",
       "    .dataframe tbody tr th {\n",
       "        vertical-align: top;\n",
       "    }\n",
       "\n",
       "    .dataframe thead th {\n",
       "        text-align: right;\n",
       "    }\n",
       "</style>\n",
       "<table border=\"1\" class=\"dataframe\">\n",
       "  <thead>\n",
       "    <tr style=\"text-align: right;\">\n",
       "      <th></th>\n",
       "      <th>sepal_length</th>\n",
       "      <th>petal_length</th>\n",
       "      <th>species</th>\n",
       "    </tr>\n",
       "  </thead>\n",
       "  <tbody>\n",
       "    <tr>\n",
       "      <th>0</th>\n",
       "      <td>5.1</td>\n",
       "      <td>1.4</td>\n",
       "      <td>Iris-setosa</td>\n",
       "    </tr>\n",
       "    <tr>\n",
       "      <th>1</th>\n",
       "      <td>4.9</td>\n",
       "      <td>1.4</td>\n",
       "      <td>Iris-setosa</td>\n",
       "    </tr>\n",
       "    <tr>\n",
       "      <th>2</th>\n",
       "      <td>4.7</td>\n",
       "      <td>1.3</td>\n",
       "      <td>Iris-setosa</td>\n",
       "    </tr>\n",
       "    <tr>\n",
       "      <th>3</th>\n",
       "      <td>4.6</td>\n",
       "      <td>1.5</td>\n",
       "      <td>Iris-setosa</td>\n",
       "    </tr>\n",
       "    <tr>\n",
       "      <th>4</th>\n",
       "      <td>5.0</td>\n",
       "      <td>1.4</td>\n",
       "      <td>Iris-setosa</td>\n",
       "    </tr>\n",
       "    <tr>\n",
       "      <th>...</th>\n",
       "      <td>...</td>\n",
       "      <td>...</td>\n",
       "      <td>...</td>\n",
       "    </tr>\n",
       "    <tr>\n",
       "      <th>93</th>\n",
       "      <td>5.7</td>\n",
       "      <td>4.2</td>\n",
       "      <td>Iris-versicolor</td>\n",
       "    </tr>\n",
       "    <tr>\n",
       "      <th>94</th>\n",
       "      <td>5.7</td>\n",
       "      <td>4.2</td>\n",
       "      <td>Iris-versicolor</td>\n",
       "    </tr>\n",
       "    <tr>\n",
       "      <th>95</th>\n",
       "      <td>6.2</td>\n",
       "      <td>4.3</td>\n",
       "      <td>Iris-versicolor</td>\n",
       "    </tr>\n",
       "    <tr>\n",
       "      <th>96</th>\n",
       "      <td>5.1</td>\n",
       "      <td>3.0</td>\n",
       "      <td>Iris-versicolor</td>\n",
       "    </tr>\n",
       "    <tr>\n",
       "      <th>97</th>\n",
       "      <td>5.7</td>\n",
       "      <td>4.1</td>\n",
       "      <td>Iris-versicolor</td>\n",
       "    </tr>\n",
       "  </tbody>\n",
       "</table>\n",
       "<p>98 rows × 3 columns</p>\n",
       "</div>"
      ],
      "text/plain": [
       "    sepal_length  petal_length          species\n",
       "0            5.1           1.4      Iris-setosa\n",
       "1            4.9           1.4      Iris-setosa\n",
       "2            4.7           1.3      Iris-setosa\n",
       "3            4.6           1.5      Iris-setosa\n",
       "4            5.0           1.4      Iris-setosa\n",
       "..           ...           ...              ...\n",
       "93           5.7           4.2  Iris-versicolor\n",
       "94           5.7           4.2  Iris-versicolor\n",
       "95           6.2           4.3  Iris-versicolor\n",
       "96           5.1           3.0  Iris-versicolor\n",
       "97           5.7           4.1  Iris-versicolor\n",
       "\n",
       "[98 rows x 3 columns]"
      ]
     },
     "execution_count": 17,
     "metadata": {},
     "output_type": "execute_result"
    }
   ],
   "source": [
    "# Guardar los datos en un dataset nuevo\n",
    "df.to_csv(\"IRIS_limpio.csv\",  index=False)\n",
    "df = pd.read_csv(\"IRIS_limpio.csv\")\n",
    "df"
   ]
  },
  {
   "cell_type": "markdown",
   "id": "d494c7b4-3670-4336-892f-e891f7fd2b1f",
   "metadata": {},
   "source": [
    "### Definicion de entradas y salidas, así como la graficacion (scatter)"
   ]
  },
  {
   "cell_type": "code",
   "execution_count": 30,
   "id": "27222e11-75b2-4b73-b3e3-8ce00d9e4cb5",
   "metadata": {},
   "outputs": [],
   "source": [
    "# Entradas\n",
    "inputs = np.array(df[['sepal_length', 'petal_length']].values)\n",
    "# Salidas\n",
    "# Cambiamos los valores de 'Iris-setosa', 'Iris-versicolor' en la columna 'species' para facilitar el aprendizaje\n",
    "labels = np.where(df['species'] == 'Iris-setosa', 1, 0)"
   ]
  },
  {
   "cell_type": "code",
   "execution_count": 32,
   "id": "9c7f4a1a-a0b3-4bef-bcaf-a544d0125b92",
   "metadata": {},
   "outputs": [
    {
     "data": {
      "image/png": "[encoded data removed]",
      "text/plain": [
       "<Figure size 640x480 with 1 Axes>"
      ]
     },
     "metadata": {},
     "output_type": "display_data"
    }
   ],
   "source": [
    "# Graficar los datos para observar si son linealmente separables\n",
    "plt.scatter(inputs[:,0], inputs[:,1], c = labels, cmap='cool', marker = 'o', s = 150)\n",
    "plt.title(\"Identificación del tipo de flor IRIS\")\n",
    "plt.xlabel(\"X1: Sépalo\")\n",
    "plt.ylabel(\"X2: Pétalo\")\n",
    "plt.grid(True)\n",
    "plt.show()"
   ]
  },
  {
   "cell_type": "code",
   "execution_count": 34,
   "id": "ddd825f5-1a68-4308-b229-202ef192ab33",
   "metadata": {},
   "outputs": [],
   "source": [
    "# Definición de hiperparametros\n",
    "learning_rate = 0.05\n",
    "bias = np.random.rand() # 0.122\n",
    "epochs = 10\n",
    "weigths = [0.356, 0.259] # No es hiperparametro"
   ]
  },
  {
   "cell_type": "code",
   "execution_count": 36,
   "id": "3b7c2db4-281c-49d2-b2ec-964b75af37b4",
   "metadata": {},
   "outputs": [],
   "source": [
    "# Clase Perceptron\n",
    "class Perceptron():\n",
    "    def __init__(self, inputs, labels, learning_rate, weigths, bias, epochs = 20):\n",
    "        self.inputs = inputs\n",
    "        self.labels = labels\n",
    "        self.learning_rate = learning_rate\n",
    "        self.weigths = weigths\n",
    "        self.bias = bias\n",
    "        self.epochs = epochs\n",
    "\n",
    "    def activation(self, z):\n",
    "        return 1 if z > 0 else 0\n",
    "\n",
    "    def predict(self, input_x, weights_ajustados, bias_weights):\n",
    "        # Calcular la funcion ponderada Z\n",
    "        z = np.dot(input_x, weights_ajustados) + bias_weights\n",
    "        # Calcular 'Y' predicha\n",
    "        y_pred = self.activation(z)\n",
    "        return y_pred\n",
    "\n",
    "    def fit(self):\n",
    "        # Abrir en un ciclo de acuerdo a las iteraciones (Epochs)\n",
    "        for epoch in range(self.epochs):\n",
    "            print(f\"Epoch {epoch+1}/{self.epochs}\", end = \" \")\n",
    "\n",
    "            # Variable para obtener el Errro por cada Epoch\n",
    "            total_error = 0\n",
    "            # Abrir ciclo para recorrer las entradas\n",
    "            for input, label in zip(self.inputs, self.labels):\n",
    "                # print(f\"Input {input}, Label: {label}\")\n",
    "                # Calcular la función ponderada Z\n",
    "                z = np.dot(input, self.weigths) + self.bias\n",
    "                # Calcular y predicha\n",
    "                y_pred = self.activation(z)\n",
    "                # Calculamos el error\n",
    "                error = label - y_pred\n",
    "                total_error += abs(error)\n",
    "                # Calcular el Delta W\n",
    "                delta_w = self.learning_rate * error * input\n",
    "                # Actualizar los weights\n",
    "                self.weigths = self.weigths + delta_w\n",
    "                # Actualizar el bias\n",
    "                delta_bias = self.learning_rate * error\n",
    "                self.bias = self.bias + delta_bias\n",
    "\n",
    "            # Calcular el error promedio\n",
    "            average_error = total_error/len(self.labels)\n",
    "            print(f\"Average Error: {average_error}\")\n",
    "        # Retornar los pesos y bias actualizados\n",
    "        return self.weigths, self.bias"
   ]
  },
  {
   "cell_type": "code",
   "execution_count": 38,
   "id": "9cab2c90-15d0-4334-ba22-a1dfd0eff8cd",
   "metadata": {},
   "outputs": [
    {
     "name": "stdout",
     "output_type": "stream",
     "text": [
      "Epoch 1/10 Average Error: 0.02040816326530612\n",
      "Epoch 2/10 Average Error: 0.030612244897959183\n",
      "Epoch 3/10 Average Error: 0.01020408163265306\n",
      "Epoch 4/10 Average Error: 0.0\n",
      "Epoch 5/10 Average Error: 0.0\n",
      "Epoch 6/10 Average Error: 0.0\n",
      "Epoch 7/10 Average Error: 0.0\n",
      "Epoch 8/10 Average Error: 0.0\n",
      "Epoch 9/10 Average Error: 0.0\n",
      "Epoch 10/10 Average Error: 0.0\n",
      "Weigths fit: [ 0.091 -0.226] Bias fit: 0.088715665970312\n"
     ]
    }
   ],
   "source": [
    "# Crear el objeto perceptron\n",
    "perceptron = Perceptron(inputs, labels, learning_rate, weigths, bias, epochs)\n",
    "\n",
    "# Entrada del perceptron\n",
    "w,b = perceptron.fit()\n",
    "print(f\"Weigths fit: {w} Bias fit: {b}\")"
   ]
  },
  {
   "cell_type": "code",
   "execution_count": 54,
   "id": "21ea6f29-ff6c-4d59-aaae-abe242d6942c",
   "metadata": {},
   "outputs": [
    {
     "name": "stdout",
     "output_type": "stream",
     "text": [
      "[5.0,1.5]-->1\n",
      "[6.1,4.7]-->0\n",
      "[5.5,3.8]-->0\n"
     ]
    }
   ],
   "source": [
    "# Función para hacer predicciones con nuevas entradas\n",
    "print(f\"[5.0,1.5]-->{perceptron.predict([5.0,1.5],w,b)}\")\n",
    "print(f\"[6.1,4.7]-->{perceptron.predict([6.1,4.7],w,b)}\")\n",
    "print(f\"[5.5,3.8]-->{perceptron.predict([5.5,3.8],w,b)}\")\n",
    "# Teniendo en cuenta que 1 --> 'Iris-setosa'\n",
    "# Y que 0 --> 'Iris-versicolor'"
   ]
  }
 ],
 "metadata": {
  "kernelspec": {
   "display_name": "Python [conda env:base] *",
   "language": "python",
   "name": "conda-base-py"
  },
  "language_info": {
   "codemirror_mode": {
    "name": "ipython",
    "version": 3
   },
   "file_extension": ".py",
   "mimetype": "text/x-python",
   "name": "python",
   "nbconvert_exporter": "python",
   "pygments_lexer": "ipython3",
   "version": "3.12.7"
  }
 },
 "nbformat": 4,
 "nbformat_minor": 5
}
