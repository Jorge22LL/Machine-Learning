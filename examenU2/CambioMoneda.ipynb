{
 "cells": [
  {
   "cell_type": "code",
   "execution_count": 403,
   "id": "21143962-9caf-4d24-b227-ece4c9cdf42a",
   "metadata": {},
   "outputs": [],
   "source": [
    "import numpy as np\n",
    "import tensorflow as tf\n",
    "from tensorflow import keras\n",
    "from sklearn.model_selection import train_test_split\n",
    "import matplotlib.pyplot as plt"
   ]
  },
  {
   "cell_type": "code",
   "execution_count": 405,
   "id": "41df11e2-b4e3-4d28-a965-22305520064e",
   "metadata": {},
   "outputs": [],
   "source": [
    "# 1. Crear dataset\n",
    "np.random.seed(42)\n",
    "mxn = np.random.uniform(1000, 100000, 1000)  # salarios en MXN ENTRADAS\n",
    "usd = mxn / 17.8                            # conversión a USD SALIDAS\n",
    "\n",
    "#print(mxn)\n",
    "#print(usd)"
   ]
  },
  {
   "cell_type": "code",
   "execution_count": 407,
   "id": "8f4c3f0c-562f-43c4-b571-d87e66150299",
   "metadata": {},
   "outputs": [],
   "source": [
    "# 2. Separar 80% entrenamiento y 20% validación\n",
    "x_train, x_val, y_train, y_val = train_test_split(mxn, usd, test_size=0.2, random_state=42)"
   ]
  },
  {
   "cell_type": "code",
   "execution_count": 439,
   "id": "5257da55-a557-4bea-8616-3dc2643b7c00",
   "metadata": {},
   "outputs": [],
   "source": [
    "# Definir los hiperparametros\n",
    "learning_rate = 0.05\n",
    "epochs = 10"
   ]
  },
  {
   "cell_type": "code",
   "execution_count": 441,
   "id": "bb708798-8f06-4040-86f4-9b038ac7cd0f",
   "metadata": {},
   "outputs": [],
   "source": [
    "# Diseñar la red neuronal: Una capa de entrada y una de salida\n",
    "capa = tf.keras.layers.Dense(units = 1, input_shape = [1])\n",
    "\n",
    "# Crear el modelo con keras\n",
    "modelo = tf.keras.Sequential([capa])"
   ]
  },
  {
   "cell_type": "code",
   "execution_count": 443,
   "id": "d27fba3d-abf0-4e7e-b487-909dc5576def",
   "metadata": {},
   "outputs": [],
   "source": [
    "# Compilar el modelo\n",
    "modelo.compile(\n",
    "    optimizer=tf.keras.optimizers.Adam(learning_rate),\n",
    "    loss='mean_squared_error'\n",
    ")"
   ]
  },
  {
   "cell_type": "code",
   "execution_count": 445,
   "id": "e0b9109f-ecb1-4ebc-b147-9c3b90133a82",
   "metadata": {},
   "outputs": [
    {
     "name": "stdout",
     "output_type": "stream",
     "text": [
      "Entrenando . . .\n",
      "Modelo entrenado\n"
     ]
    }
   ],
   "source": [
    "# Entrenar el modelo usando datos de validación\n",
    "print(\"Entrenando . . .\")\n",
    "historial = modelo.fit(\n",
    "    x_train, y_train,\n",
    "    validation_data=(x_val, y_val),\n",
    "    epochs=epochs,\n",
    "    verbose=False\n",
    ")\n",
    "print(\"Modelo entrenado\")"
   ]
  },
  {
   "cell_type": "code",
   "execution_count": 447,
   "id": "e664c24c-c339-4b38-82a1-ccf0d388a8a4",
   "metadata": {},
   "outputs": [
    {
     "data": {
      "text/plain": [
       "[<matplotlib.lines.Line2D at 0x2a3a6f311f0>]"
      ]
     },
     "execution_count": 447,
     "metadata": {},
     "output_type": "execute_result"
    },
    {
     "data": {
      "image/png": "[encoded data removed]",
      "text/plain": [
       "<Figure size 640x480 with 1 Axes>"
      ]
     },
     "metadata": {},
     "output_type": "display_data"
    }
   ],
   "source": [
    "# Mostrar la pérdida de entrenamiento y validación\n",
    "import matplotlib.pyplot as plt\n",
    "plt.xlabel(\"No. Epochs\")\n",
    "plt.ylabel(\"Magnitud de pérdida\")\n",
    "plt.plot(historial.history['loss'])"
   ]
  },
  {
   "cell_type": "code",
   "execution_count": 449,
   "id": "7c6bdd09-ae91-4d20-8635-4e99821d36f8",
   "metadata": {},
   "outputs": [
    {
     "name": "stdout",
     "output_type": "stream",
     "text": [
      "\u001b[1m1/1\u001b[0m \u001b[32m━━━━━━━━━━━━━━━━━━━━\u001b[0m\u001b[37m\u001b[0m \u001b[1m0s\u001b[0m 185ms/step\n",
      "3000 es equivalente a 168.16587829589844 Dolares\n",
      "\u001b[1m1/1\u001b[0m \u001b[32m━━━━━━━━━━━━━━━━━━━━\u001b[0m\u001b[37m\u001b[0m \u001b[1m0s\u001b[0m 113ms/step\n",
      "5000 es equivalente a 280.5350646972656 Dolares\n"
     ]
    }
   ],
   "source": [
    "# Intentar predecir\n",
    "monedas = np.array([3000])\n",
    "resultado = modelo.predict(monedas)\n",
    "print(f\"{monedas[0]} es equivalente a {resultado[0][0]} Dolares\")\n",
    "monedas = np.array([5000])\n",
    "resultado = modelo.predict(monedas)\n",
    "print(f\"{monedas[0]} es equivalente a {resultado[0][0]} Dolares\")"
   ]
  },
  {
   "cell_type": "code",
   "execution_count": 389,
   "id": "c041cf84-c1df-48e5-82dc-0181ddca6648",
   "metadata": {},
   "outputs": [],
   "source": [
    "# 7. Guardar el modelo\n",
    "model.save(\"modelo_conversion.keras\")"
   ]
  }
 ],
 "metadata": {
  "kernelspec": {
   "display_name": "Python [conda env:base] *",
   "language": "python",
   "name": "conda-base-py"
  },
  "language_info": {
   "codemirror_mode": {
    "name": "ipython",
    "version": 3
   },
   "file_extension": ".py",
   "mimetype": "text/x-python",
   "name": "python",
   "nbconvert_exporter": "python",
   "pygments_lexer": "ipython3",
   "version": "3.12.7"
  }
 },
 "nbformat": 4,
 "nbformat_minor": 5
}
