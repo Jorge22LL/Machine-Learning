{
 "cells": [
  {
   "cell_type": "code",
   "execution_count": 25,
   "id": "d64cd450-e4a3-47fb-a530-db7b2b98daf0",
   "metadata": {},
   "outputs": [],
   "source": [
    "# Importar librerías necesarias\n",
    "import pandas as pd\n",
    "import matplotlib.pyplot as plt\n",
    "import seaborn as sns"
   ]
  },
  {
   "cell_type": "code",
   "execution_count": 11,
   "id": "a2c36b94-2836-49af-b79b-3e6fb2c19852",
   "metadata": {},
   "outputs": [
    {
     "data": {
      "text/html": [
       "<div>\n",
       "<style scoped>\n",
       "    .dataframe tbody tr th:only-of-type {\n",
       "        vertical-align: middle;\n",
       "    }\n",
       "\n",
       "    .dataframe tbody tr th {\n",
       "        vertical-align: top;\n",
       "    }\n",
       "\n",
       "    .dataframe thead th {\n",
       "        text-align: right;\n",
       "    }\n",
       "</style>\n",
       "<table border=\"1\" class=\"dataframe\">\n",
       "  <thead>\n",
       "    <tr style=\"text-align: right;\">\n",
       "      <th></th>\n",
       "      <th>Unnamed: 0</th>\n",
       "      <th>speaker</th>\n",
       "      <th>dialog</th>\n",
       "      <th>length</th>\n",
       "    </tr>\n",
       "  </thead>\n",
       "  <tbody>\n",
       "    <tr>\n",
       "      <th>0</th>\n",
       "      <td>0</td>\n",
       "      <td>amlo</td>\n",
       "      <td>Amigas, amigos, paisanas, paisanos de Palenque:</td>\n",
       "      <td>47</td>\n",
       "    </tr>\n",
       "    <tr>\n",
       "      <th>1</th>\n",
       "      <td>1</td>\n",
       "      <td>amlo</td>\n",
       "      <td>Me da mucho gusto estar de nuevo en trabajos d...</td>\n",
       "      <td>91</td>\n",
       "    </tr>\n",
       "    <tr>\n",
       "      <th>2</th>\n",
       "      <td>2</td>\n",
       "      <td>amlo</td>\n",
       "      <td>Antes de entrar en materia, quiero enviar un s...</td>\n",
       "      <td>471</td>\n",
       "    </tr>\n",
       "    <tr>\n",
       "      <th>3</th>\n",
       "      <td>3</td>\n",
       "      <td>amlo</td>\n",
       "      <td>Di la instrucción de que se mantengan trabajan...</td>\n",
       "      <td>338</td>\n",
       "    </tr>\n",
       "    <tr>\n",
       "      <th>4</th>\n",
       "      <td>4</td>\n",
       "      <td>amlo</td>\n",
       "      <td>Quiero decirles a mis paisanos que padecen, qu...</td>\n",
       "      <td>113</td>\n",
       "    </tr>\n",
       "    <tr>\n",
       "      <th>...</th>\n",
       "      <td>...</td>\n",
       "      <td>...</td>\n",
       "      <td>...</td>\n",
       "      <td>...</td>\n",
       "    </tr>\n",
       "    <tr>\n",
       "      <th>155502</th>\n",
       "      <td>155502</td>\n",
       "      <td>amlo</td>\n",
       "      <td>¡Que viva Francisco I. Madero!</td>\n",
       "      <td>30</td>\n",
       "    </tr>\n",
       "    <tr>\n",
       "      <th>155503</th>\n",
       "      <td>155503</td>\n",
       "      <td>amlo</td>\n",
       "      <td>¡Que viva Venustiano Carranza!</td>\n",
       "      <td>30</td>\n",
       "    </tr>\n",
       "    <tr>\n",
       "      <th>155504</th>\n",
       "      <td>155504</td>\n",
       "      <td>amlo</td>\n",
       "      <td>¡Viva México!</td>\n",
       "      <td>13</td>\n",
       "    </tr>\n",
       "    <tr>\n",
       "      <th>155505</th>\n",
       "      <td>155505</td>\n",
       "      <td>amlo</td>\n",
       "      <td>¡Viva México!</td>\n",
       "      <td>13</td>\n",
       "    </tr>\n",
       "    <tr>\n",
       "      <th>155506</th>\n",
       "      <td>155506</td>\n",
       "      <td>amlo</td>\n",
       "      <td>¡Viva México!</td>\n",
       "      <td>13</td>\n",
       "    </tr>\n",
       "  </tbody>\n",
       "</table>\n",
       "<p>155507 rows × 4 columns</p>\n",
       "</div>"
      ],
      "text/plain": [
       "        Unnamed: 0 speaker                                             dialog  \\\n",
       "0                0    amlo    Amigas, amigos, paisanas, paisanos de Palenque:   \n",
       "1                1    amlo  Me da mucho gusto estar de nuevo en trabajos d...   \n",
       "2                2    amlo  Antes de entrar en materia, quiero enviar un s...   \n",
       "3                3    amlo  Di la instrucción de que se mantengan trabajan...   \n",
       "4                4    amlo  Quiero decirles a mis paisanos que padecen, qu...   \n",
       "...            ...     ...                                                ...   \n",
       "155502      155502    amlo                     ¡Que viva Francisco I. Madero!   \n",
       "155503      155503    amlo                     ¡Que viva Venustiano Carranza!   \n",
       "155504      155504    amlo                                      ¡Viva México!   \n",
       "155505      155505    amlo                                      ¡Viva México!   \n",
       "155506      155506    amlo                                      ¡Viva México!   \n",
       "\n",
       "        length  \n",
       "0           47  \n",
       "1           91  \n",
       "2          471  \n",
       "3          338  \n",
       "4          113  \n",
       "...        ...  \n",
       "155502      30  \n",
       "155503      30  \n",
       "155504      13  \n",
       "155505      13  \n",
       "155506      13  \n",
       "\n",
       "[155507 rows x 4 columns]"
      ]
     },
     "execution_count": 11,
     "metadata": {},
     "output_type": "execute_result"
    }
   ],
   "source": [
    "# Cargar el dataset\n",
    "df_dialogos = pd.read_csv(\"dataset_dialogos.csv\")\n",
    "df_dialogos"
   ]
  },
  {
   "cell_type": "markdown",
   "id": "4f1e083f-002a-42c0-a9ce-b64a35b7f01f",
   "metadata": {},
   "source": [
    "## Columna irrelevante\n",
    "Como podemos observar la columna que se encuentra sin nombre 'Unnammed' se puede sustituir en este caso por la columna de id que tenemos por defecto, ya que estan cumpliendo con la misma funcion"
   ]
  },
  {
   "cell_type": "code",
   "execution_count": 5,
   "id": "cbbf1de4-c27b-4f1d-8eb1-697e95311eda",
   "metadata": {},
   "outputs": [
    {
     "name": "stdout",
     "output_type": "stream",
     "text": [
      "<class 'pandas.core.frame.DataFrame'>\n",
      "RangeIndex: 155507 entries, 0 to 155506\n",
      "Data columns (total 4 columns):\n",
      " #   Column      Non-Null Count   Dtype \n",
      "---  ------      --------------   ----- \n",
      " 0   Unnamed: 0  155507 non-null  int64 \n",
      " 1   speaker     155507 non-null  object\n",
      " 2   dialog      155507 non-null  object\n",
      " 3   length      155507 non-null  int64 \n",
      "dtypes: int64(2), object(2)\n",
      "memory usage: 4.7+ MB\n"
     ]
    }
   ],
   "source": [
    "df_dialogos.info()"
   ]
  },
  {
   "cell_type": "code",
   "execution_count": 15,
   "id": "f70f0999-0b44-4420-81fb-301833109f15",
   "metadata": {},
   "outputs": [
    {
     "data": {
      "text/plain": [
       "Unnamed: 0    0\n",
       "speaker       0\n",
       "dialog        0\n",
       "length        0\n",
       "dtype: int64"
      ]
     },
     "execution_count": 15,
     "metadata": {},
     "output_type": "execute_result"
    }
   ],
   "source": [
    "# Verificar valores nulos\n",
    "df_dialogos.isnull().sum()"
   ]
  },
  {
   "cell_type": "markdown",
   "id": "8c731486-f483-4e5f-970a-6eca03cc767e",
   "metadata": {},
   "source": [
    "## No hay valores nulos\n",
    "Como podemos observar, las todas las columnas se encuentran con datos por lo cual no hay que eliminar o cambiar los datos nulos"
   ]
  },
  {
   "cell_type": "code",
   "execution_count": 18,
   "id": "bf1d17c6-430d-4531-a484-558b5eeecb0a",
   "metadata": {},
   "outputs": [
    {
     "data": {
      "text/plain": [
       "0"
      ]
     },
     "execution_count": 18,
     "metadata": {},
     "output_type": "execute_result"
    }
   ],
   "source": [
    "# Verificar filas duplicadas\n",
    "df_dialogos.duplicated().sum()"
   ]
  },
  {
   "cell_type": "markdown",
   "id": "2007030b-fa8f-41b8-9a6a-2e461911005a",
   "metadata": {},
   "source": [
    "## No hay filas duplicadas\n",
    "Podemos decir que no encontramos ninguna fila duplicada por lo cual no tenemos que manipular datos en este ambito"
   ]
  },
  {
   "cell_type": "code",
   "execution_count": 27,
   "id": "4942beff-d084-4030-8d46-d4481dea0c47",
   "metadata": {},
   "outputs": [
    {
     "data": {
      "image/png": "[encoded data removed]",
      "text/plain": [
       "<Figure size 1000x500 with 1 Axes>"
      ]
     },
     "metadata": {},
     "output_type": "display_data"
    }
   ],
   "source": [
    "# Visualización de la distribución de la longitud de los diálogos\n",
    "plt.figure(figsize=(10, 5))\n",
    "sns.histplot(df_dialogos['length'], bins=50, kde=True)\n",
    "plt.xlabel(\"Longitud del diálogo (número de caracteres)\")\n",
    "plt.ylabel(\"Frecuencia\")\n",
    "plt.title(\"Distribución de la longitud de los diálogos\")\n",
    "plt.show()"
   ]
  },
  {
   "cell_type": "code",
   "execution_count": 29,
   "id": "55ca0511-bb9a-4935-9e12-ece2b1b38f9b",
   "metadata": {},
   "outputs": [
    {
     "name": "stdout",
     "output_type": "stream",
     "text": [
      "        Unnamed: 0       speaker     dialog  length\n",
      "253            253          amlo    ¿Mande?       7\n",
      "286            286          amlo     A ver.       6\n",
      "364            364  lopez-gatell    ¿Mande?       7\n",
      "413            413          amlo  Muy bien.       9\n",
      "456            456  lopez-gatell   Gracias.       8\n",
      "...            ...           ...        ...     ...\n",
      "155191      155191          amlo    ¿Mande?       7\n",
      "155235      155235          amlo        Sí.       3\n",
      "155238      155238          amlo    ¿Mande?       7\n",
      "155268      155268          amlo  Muy bien.       9\n",
      "155335      155335          amlo    ¿Mande?       7\n",
      "\n",
      "[1920 rows x 4 columns]\n"
     ]
    }
   ],
   "source": [
    "short_dialogs = df_dialogos[df_dialogos['length'] < 10]\n",
    "print(short_dialogs)"
   ]
  },
  {
   "cell_type": "markdown",
   "id": "71d5355d-9e1e-407d-99b1-905e2cb61eb3",
   "metadata": {},
   "source": [
    "## Datos de la columna 'dialog'\n",
    "Como podemos observar en la grafica hay dialogos que pueden ser eliminados, ya que no representan gran cosa en nuestro dataset, como podemos observar son muchisimos dialogos que solo son como '¿Mande?', 'A ver', etc. Los cuales no son relevantes para nuestro dataset"
   ]
  },
  {
   "cell_type": "markdown",
   "id": "a0137aa7-608f-4f81-a335-5de74fc0cddd",
   "metadata": {},
   "source": [
    "## Posibilidad de eliminar la columnna 'length'\n",
    "Como ya tenemos la respectiva longitud de nuestro dialogos, se puede elimnar esta columna, ya que no logra aportar gran informacion a nuestro dataset"
   ]
  }
 ],
 "metadata": {
  "kernelspec": {
   "display_name": "Python [conda env:base] *",
   "language": "python",
   "name": "conda-base-py"
  },
  "language_info": {
   "codemirror_mode": {
    "name": "ipython",
    "version": 3
   },
   "file_extension": ".py",
   "mimetype": "text/x-python",
   "name": "python",
   "nbconvert_exporter": "python",
   "pygments_lexer": "ipython3",
   "version": "3.12.7"
  }
 },
 "nbformat": 4,
 "nbformat_minor": 5
}
