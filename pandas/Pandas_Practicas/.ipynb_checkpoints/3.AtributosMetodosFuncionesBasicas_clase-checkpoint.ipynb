{
 "cells": [
  {
   "cell_type": "code",
   "execution_count": 1,
   "id": "3cadeaac",
   "metadata": {},
   "outputs": [],
   "source": [
    "# Importar las librerias\n"
   ]
  },
  {
   "cell_type": "code",
   "execution_count": 2,
   "id": "faf4a761",
   "metadata": {},
   "outputs": [],
   "source": [
    "# reading the csv file\n"
   ]
  },
  {
   "cell_type": "code",
   "execution_count": 1,
   "id": "e6159fe8",
   "metadata": {},
   "outputs": [],
   "source": [
    "# mostrando el dataframe\n"
   ]
  },
  {
   "cell_type": "markdown",
   "id": "63bf386f",
   "metadata": {},
   "source": [
    "# Atributos"
   ]
  },
  {
   "cell_type": "code",
   "execution_count": 3,
   "id": "8889cc6c",
   "metadata": {},
   "outputs": [],
   "source": [
    "# obteniendo acceso al atributo shape\n"
   ]
  },
  {
   "cell_type": "code",
   "execution_count": 7,
   "id": "c1d18854",
   "metadata": {},
   "outputs": [],
   "source": [
    "# obteniendo acceso al atributo index\n"
   ]
  },
  {
   "cell_type": "code",
   "execution_count": 9,
   "id": "002ebb03",
   "metadata": {},
   "outputs": [],
   "source": [
    "# obteniendo acceso al atributo columns\n"
   ]
  },
  {
   "cell_type": "code",
   "execution_count": 11,
   "id": "1928828c",
   "metadata": {},
   "outputs": [],
   "source": [
    "# tipo de dato de cada columna\n"
   ]
  },
  {
   "cell_type": "markdown",
   "id": "3ee3d60a",
   "metadata": {},
   "source": [
    "# Metodos"
   ]
  },
  {
   "cell_type": "code",
   "execution_count": 13,
   "id": "d6ff61f9",
   "metadata": {},
   "outputs": [],
   "source": [
    "# mostrando las 5 primeras filas\n"
   ]
  },
  {
   "cell_type": "code",
   "execution_count": 15,
   "id": "7852fee9",
   "metadata": {},
   "outputs": [],
   "source": [
    "# mostrando informacion del dataframe\n"
   ]
  },
  {
   "cell_type": "code",
   "execution_count": 17,
   "id": "7e44a628",
   "metadata": {},
   "outputs": [],
   "source": [
    "# obteniendo valores estadisticos del dataframe\n"
   ]
  },
  {
   "cell_type": "markdown",
   "id": "22a32e4e",
   "metadata": {},
   "source": [
    "# Funciones"
   ]
  },
  {
   "cell_type": "code",
   "execution_count": 19,
   "id": "a71af478",
   "metadata": {},
   "outputs": [],
   "source": [
    "# obtener el tamaño del dataframe (filas)\n"
   ]
  },
  {
   "cell_type": "code",
   "execution_count": 21,
   "id": "595fcbde",
   "metadata": {
    "scrolled": true
   },
   "outputs": [],
   "source": [
    "# obtener el maximo index\n"
   ]
  },
  {
   "cell_type": "code",
   "execution_count": 23,
   "id": "7aba282f",
   "metadata": {},
   "outputs": [],
   "source": [
    "# obtener el minimo index\n"
   ]
  },
  {
   "cell_type": "code",
   "execution_count": 25,
   "id": "8ce53edc",
   "metadata": {},
   "outputs": [],
   "source": [
    "# obtener el tipo de dato\n"
   ]
  },
  {
   "cell_type": "code",
   "execution_count": 27,
   "id": "224775a3",
   "metadata": {},
   "outputs": [],
   "source": [
    "# redondear valores del dataframe\n"
   ]
  }
 ],
 "metadata": {
  "kernelspec": {
   "display_name": "Python 3 (ipykernel)",
   "language": "python",
   "name": "python3"
  },
  "language_info": {
   "codemirror_mode": {
    "name": "ipython",
    "version": 3
   },
   "file_extension": ".py",
   "mimetype": "text/x-python",
   "name": "python",
   "nbconvert_exporter": "python",
   "pygments_lexer": "ipython3",
   "version": "3.12.7"
  },
  "toc": {
   "base_numbering": 1,
   "nav_menu": {},
   "number_sections": true,
   "sideBar": true,
   "skip_h1_title": false,
   "title_cell": "Table of Contents",
   "title_sidebar": "Contents",
   "toc_cell": false,
   "toc_position": {},
   "toc_section_display": true,
   "toc_window_display": false
  }
 },
 "nbformat": 4,
 "nbformat_minor": 5
}
