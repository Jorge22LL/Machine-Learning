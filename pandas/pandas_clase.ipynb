{
 "cells": [
  {
   "cell_type": "markdown",
   "id": "50e6c76e-50c6-497f-b378-587da77caa49",
   "metadata": {},
   "source": [
    "### Configuración de pandsas y su importación"
   ]
  },
  {
   "cell_type": "code",
   "execution_count": 2,
   "id": "f70ae4b3-2094-477a-a11d-43018d3f0a05",
   "metadata": {},
   "outputs": [],
   "source": [
    "# Instalar pandas\n",
    "#!pip install pandas\n",
    "import pandas as pd"
   ]
  },
  {
   "cell_type": "markdown",
   "id": "3fe9bd1a-0b35-4fa2-b4ba-5f1e085ebd60",
   "metadata": {},
   "source": [
    "### Crear una serie a partir de una lista"
   ]
  },
  {
   "cell_type": "code",
   "execution_count": 4,
   "id": "c09b9938-2114-4c12-a3bf-22d09d019f21",
   "metadata": {},
   "outputs": [
    {
     "data": {
      "text/plain": [
       "['Challenger', 'Toyota', 'Mazda', 'KIA', 'Mitsubishi', 'Ferrari']"
      ]
     },
     "execution_count": 4,
     "metadata": {},
     "output_type": "execute_result"
    }
   ],
   "source": [
    "carros = ['Challenger', 'Toyota', 'Mazda', 'KIA', 'Mitsubishi', 'Ferrari']\n",
    "carros"
   ]
  },
  {
   "cell_type": "code",
   "execution_count": 5,
   "id": "d1cfa10b-ff24-40de-b8b2-155f198c80dc",
   "metadata": {},
   "outputs": [
    {
     "data": {
      "text/plain": [
       "0    Challenger\n",
       "1        Toyota\n",
       "2         Mazda\n",
       "3           KIA\n",
       "4    Mitsubishi\n",
       "5       Ferrari\n",
       "dtype: object"
      ]
     },
     "execution_count": 5,
     "metadata": {},
     "output_type": "execute_result"
    }
   ],
   "source": [
    "# Crear una serie\n",
    "pd.Series(carros)"
   ]
  },
  {
   "cell_type": "markdown",
   "id": "a4416cf9-c228-44c3-9abb-b65a7eba2c5f",
   "metadata": {},
   "source": [
    "### Crear un DataFrame a partir de una lista de diccionarios (JSON)"
   ]
  },
  {
   "cell_type": "code",
   "execution_count": 9,
   "id": "60b70db5-e9e5-4c1e-892a-e0253d082c21",
   "metadata": {},
   "outputs": [
    {
     "data": {
      "text/plain": [
       "[{'Nombre': 'Jetta Variant',\n",
       "  'Motor': 'Motor 4.0 Turbo',\n",
       "  'Year': 2020,\n",
       "  'Kilometraje': 44410.0,\n",
       "  'Cero_km': False,\n",
       "  'Valor': 120000},\n",
       " {'Nombre': 'Camaro',\n",
       "  'Motor': 'Motor 4.54 LS',\n",
       "  'Year': 2022,\n",
       "  'Kilometraje': 12000.0,\n",
       "  'Cero_km': False,\n",
       "  'Valor': 480000},\n",
       " {'Nombre': 'Challenger',\n",
       "  'Motor': 'Motor Turbo 4.3',\n",
       "  'Year': 2025,\n",
       "  'Kilometraje': 0.0,\n",
       "  'Cero_km': True,\n",
       "  'Valor': 680000},\n",
       " {'Nombre': 'Audio 8 spider',\n",
       "  'Motor': 'Motor 8.0 Turbo',\n",
       "  'Year': 2032,\n",
       "  'Kilometraje': 0.0,\n",
       "  'Cero_km': True,\n",
       "  'Valor': 4450000}]"
      ]
     },
     "execution_count": 9,
     "metadata": {},
     "output_type": "execute_result"
    }
   ],
   "source": [
    "datos = [\n",
    "    {\"Nombre\": 'Jetta Variant', \"Motor\": 'Motor 4.0 Turbo', \"Year\": 2020, \"Kilometraje\": 44410.0, \"Cero_km\": False, \"Valor\": 120000},\n",
    "    {\"Nombre\": 'Camaro', \"Motor\": 'Motor 4.54 LS', \"Year\": 2022, \"Kilometraje\": 12000.0, \"Cero_km\": False, \"Valor\": 480000},\n",
    "    {\"Nombre\": 'Challenger', \"Motor\": 'Motor Turbo 4.3', \"Year\": 2025, \"Kilometraje\": 0.0, \"Cero_km\": True, \"Valor\": 680000},\n",
    "    {\"Nombre\": 'Audio 8 spider', \"Motor\": 'Motor 8.0 Turbo', \"Year\": 2032, \"Kilometraje\": 0.0, \"Cero_km\": True, \"Valor\": 4450000}\n",
    "]\n",
    "datos"
   ]
  },
  {
   "cell_type": "code",
   "execution_count": 10,
   "id": "a92d409e-ed07-4e37-b3cc-ede0a3a6fb22",
   "metadata": {},
   "outputs": [
    {
     "data": {
      "text/html": [
       "<div>\n",
       "<style scoped>\n",
       "    .dataframe tbody tr th:only-of-type {\n",
       "        vertical-align: middle;\n",
       "    }\n",
       "\n",
       "    .dataframe tbody tr th {\n",
       "        vertical-align: top;\n",
       "    }\n",
       "\n",
       "    .dataframe thead th {\n",
       "        text-align: right;\n",
       "    }\n",
       "</style>\n",
       "<table border=\"1\" class=\"dataframe\">\n",
       "  <thead>\n",
       "    <tr style=\"text-align: right;\">\n",
       "      <th></th>\n",
       "      <th>Nombre</th>\n",
       "      <th>Motor</th>\n",
       "      <th>Year</th>\n",
       "      <th>Kilometraje</th>\n",
       "      <th>Cero_km</th>\n",
       "      <th>Valor</th>\n",
       "    </tr>\n",
       "  </thead>\n",
       "  <tbody>\n",
       "    <tr>\n",
       "      <th>0</th>\n",
       "      <td>Jetta Variant</td>\n",
       "      <td>Motor 4.0 Turbo</td>\n",
       "      <td>2020</td>\n",
       "      <td>44410.0</td>\n",
       "      <td>False</td>\n",
       "      <td>120000</td>\n",
       "    </tr>\n",
       "    <tr>\n",
       "      <th>1</th>\n",
       "      <td>Camaro</td>\n",
       "      <td>Motor 4.54 LS</td>\n",
       "      <td>2022</td>\n",
       "      <td>12000.0</td>\n",
       "      <td>False</td>\n",
       "      <td>480000</td>\n",
       "    </tr>\n",
       "    <tr>\n",
       "      <th>2</th>\n",
       "      <td>Challenger</td>\n",
       "      <td>Motor Turbo 4.3</td>\n",
       "      <td>2025</td>\n",
       "      <td>0.0</td>\n",
       "      <td>True</td>\n",
       "      <td>680000</td>\n",
       "    </tr>\n",
       "    <tr>\n",
       "      <th>3</th>\n",
       "      <td>Audio 8 spider</td>\n",
       "      <td>Motor 8.0 Turbo</td>\n",
       "      <td>2032</td>\n",
       "      <td>0.0</td>\n",
       "      <td>True</td>\n",
       "      <td>4450000</td>\n",
       "    </tr>\n",
       "  </tbody>\n",
       "</table>\n",
       "</div>"
      ],
      "text/plain": [
       "           Nombre            Motor  Year  Kilometraje  Cero_km    Valor\n",
       "0   Jetta Variant  Motor 4.0 Turbo  2020      44410.0    False   120000\n",
       "1          Camaro    Motor 4.54 LS  2022      12000.0    False   480000\n",
       "2      Challenger  Motor Turbo 4.3  2025          0.0     True   680000\n",
       "3  Audio 8 spider  Motor 8.0 Turbo  2032          0.0     True  4450000"
      ]
     },
     "execution_count": 10,
     "metadata": {},
     "output_type": "execute_result"
    }
   ],
   "source": [
    "dataset = pd.DataFrame(datos)\n",
    "dataset"
   ]
  },
  {
   "cell_type": "code",
   "execution_count": 11,
   "id": "c174b3ca-5979-45b1-b36d-95f24a919d20",
   "metadata": {},
   "outputs": [
    {
     "data": {
      "text/plain": [
       "array(['Nombre', 'Motor', 'Year', 'Kilometraje', 'Cero_km', 'Valor'],\n",
       "      dtype=object)"
      ]
     },
     "execution_count": 11,
     "metadata": {},
     "output_type": "execute_result"
    }
   ],
   "source": [
    "# Nombre de las columnas\n",
    "dataset.columns.values"
   ]
  },
  {
   "cell_type": "code",
   "execution_count": 13,
   "id": "f43f6e07-8711-44e3-a139-4628c0fee73d",
   "metadata": {},
   "outputs": [
    {
     "data": {
      "text/plain": [
       "array(['Nombre', 'Motor', 'Year', 'Kilometraje'], dtype=object)"
      ]
     },
     "execution_count": 13,
     "metadata": {},
     "output_type": "execute_result"
    }
   ],
   "source": [
    "# Mostrar las primeras 3 columnas\n",
    "dataset.columns.values[:4]"
   ]
  },
  {
   "cell_type": "code",
   "execution_count": 14,
   "id": "9abb5317-5b50-4307-b91a-73c1c5bbca4c",
   "metadata": {},
   "outputs": [
    {
     "data": {
      "text/plain": [
       "'Valor'"
      ]
     },
     "execution_count": 14,
     "metadata": {},
     "output_type": "execute_result"
    }
   ],
   "source": [
    "# Mostrar la última columna\n",
    "dataset.columns.values[-1]"
   ]
  },
  {
   "cell_type": "markdown",
   "id": "047ead2d-ae6f-422a-8ba0-5ea9bbae0d23",
   "metadata": {},
   "source": [
    "### Cambiar el orden en que se muestran las columnas"
   ]
  },
  {
   "cell_type": "code",
   "execution_count": 15,
   "id": "8ee62be2-ff2b-4537-aaaa-ab5dcc3e5f8e",
   "metadata": {},
   "outputs": [
    {
     "data": {
      "text/html": [
       "<div>\n",
       "<style scoped>\n",
       "    .dataframe tbody tr th:only-of-type {\n",
       "        vertical-align: middle;\n",
       "    }\n",
       "\n",
       "    .dataframe tbody tr th {\n",
       "        vertical-align: top;\n",
       "    }\n",
       "\n",
       "    .dataframe thead th {\n",
       "        text-align: right;\n",
       "    }\n",
       "</style>\n",
       "<table border=\"1\" class=\"dataframe\">\n",
       "  <thead>\n",
       "    <tr style=\"text-align: right;\">\n",
       "      <th></th>\n",
       "      <th>Nombre</th>\n",
       "      <th>Valor</th>\n",
       "      <th>Motor</th>\n",
       "      <th>Year</th>\n",
       "      <th>Kilometraje</th>\n",
       "      <th>Cero_km</th>\n",
       "    </tr>\n",
       "  </thead>\n",
       "  <tbody>\n",
       "    <tr>\n",
       "      <th>0</th>\n",
       "      <td>Jetta Variant</td>\n",
       "      <td>120000</td>\n",
       "      <td>Motor 4.0 Turbo</td>\n",
       "      <td>2020</td>\n",
       "      <td>44410.0</td>\n",
       "      <td>False</td>\n",
       "    </tr>\n",
       "    <tr>\n",
       "      <th>1</th>\n",
       "      <td>Camaro</td>\n",
       "      <td>480000</td>\n",
       "      <td>Motor 4.54 LS</td>\n",
       "      <td>2022</td>\n",
       "      <td>12000.0</td>\n",
       "      <td>False</td>\n",
       "    </tr>\n",
       "    <tr>\n",
       "      <th>2</th>\n",
       "      <td>Challenger</td>\n",
       "      <td>680000</td>\n",
       "      <td>Motor Turbo 4.3</td>\n",
       "      <td>2025</td>\n",
       "      <td>0.0</td>\n",
       "      <td>True</td>\n",
       "    </tr>\n",
       "    <tr>\n",
       "      <th>3</th>\n",
       "      <td>Audio 8 spider</td>\n",
       "      <td>4450000</td>\n",
       "      <td>Motor 8.0 Turbo</td>\n",
       "      <td>2032</td>\n",
       "      <td>0.0</td>\n",
       "      <td>True</td>\n",
       "    </tr>\n",
       "  </tbody>\n",
       "</table>\n",
       "</div>"
      ],
      "text/plain": [
       "           Nombre    Valor            Motor  Year  Kilometraje  Cero_km\n",
       "0   Jetta Variant   120000  Motor 4.0 Turbo  2020      44410.0    False\n",
       "1          Camaro   480000    Motor 4.54 LS  2022      12000.0    False\n",
       "2      Challenger   680000  Motor Turbo 4.3  2025          0.0     True\n",
       "3  Audio 8 spider  4450000  Motor 8.0 Turbo  2032          0.0     True"
      ]
     },
     "execution_count": 15,
     "metadata": {},
     "output_type": "execute_result"
    }
   ],
   "source": [
    "dataset[['Nombre', 'Valor', 'Motor', 'Year', 'Kilometraje', 'Cero_km']]"
   ]
  },
  {
   "cell_type": "markdown",
   "id": "09d461ab-952f-4537-ba7b-b7178d986a11",
   "metadata": {},
   "source": [
    "### Cambiar el nombre de las columnas"
   ]
  },
  {
   "cell_type": "code",
   "execution_count": 16,
   "id": "74f6e1a0-1d4b-4bee-ad24-e95c791741dc",
   "metadata": {},
   "outputs": [
    {
     "data": {
      "text/html": [
       "<div>\n",
       "<style scoped>\n",
       "    .dataframe tbody tr th:only-of-type {\n",
       "        vertical-align: middle;\n",
       "    }\n",
       "\n",
       "    .dataframe tbody tr th {\n",
       "        vertical-align: top;\n",
       "    }\n",
       "\n",
       "    .dataframe thead th {\n",
       "        text-align: right;\n",
       "    }\n",
       "</style>\n",
       "<table border=\"1\" class=\"dataframe\">\n",
       "  <thead>\n",
       "    <tr style=\"text-align: right;\">\n",
       "      <th></th>\n",
       "      <th>Name</th>\n",
       "      <th>Engine</th>\n",
       "      <th>Year</th>\n",
       "      <th>Milage</th>\n",
       "      <th>Zero_ml</th>\n",
       "      <th>Price</th>\n",
       "    </tr>\n",
       "  </thead>\n",
       "  <tbody>\n",
       "    <tr>\n",
       "      <th>0</th>\n",
       "      <td>Jetta Variant</td>\n",
       "      <td>Motor 4.0 Turbo</td>\n",
       "      <td>2020</td>\n",
       "      <td>44410.0</td>\n",
       "      <td>False</td>\n",
       "      <td>120000</td>\n",
       "    </tr>\n",
       "    <tr>\n",
       "      <th>1</th>\n",
       "      <td>Camaro</td>\n",
       "      <td>Motor 4.54 LS</td>\n",
       "      <td>2022</td>\n",
       "      <td>12000.0</td>\n",
       "      <td>False</td>\n",
       "      <td>480000</td>\n",
       "    </tr>\n",
       "    <tr>\n",
       "      <th>2</th>\n",
       "      <td>Challenger</td>\n",
       "      <td>Motor Turbo 4.3</td>\n",
       "      <td>2025</td>\n",
       "      <td>0.0</td>\n",
       "      <td>True</td>\n",
       "      <td>680000</td>\n",
       "    </tr>\n",
       "    <tr>\n",
       "      <th>3</th>\n",
       "      <td>Audio 8 spider</td>\n",
       "      <td>Motor 8.0 Turbo</td>\n",
       "      <td>2032</td>\n",
       "      <td>0.0</td>\n",
       "      <td>True</td>\n",
       "      <td>4450000</td>\n",
       "    </tr>\n",
       "  </tbody>\n",
       "</table>\n",
       "</div>"
      ],
      "text/plain": [
       "             Name           Engine  Year   Milage  Zero_ml    Price\n",
       "0   Jetta Variant  Motor 4.0 Turbo  2020  44410.0    False   120000\n",
       "1          Camaro    Motor 4.54 LS  2022  12000.0    False   480000\n",
       "2      Challenger  Motor Turbo 4.3  2025      0.0     True   680000\n",
       "3  Audio 8 spider  Motor 8.0 Turbo  2032      0.0     True  4450000"
      ]
     },
     "execution_count": 16,
     "metadata": {},
     "output_type": "execute_result"
    }
   ],
   "source": [
    "dataset = dataset.rename(columns = {\n",
    "    \"Nombre\": 'Name',\n",
    "    \"Motor\": 'Engine',\n",
    "    \"Year\": 'Year',\n",
    "    \"Kilometraje\": 'Milage',\n",
    "    \"Cero_km\": 'Zero_ml',\n",
    "    \"Valor\": 'Price'\n",
    "}\n",
    ")\n",
    "dataset"
   ]
  },
  {
   "cell_type": "markdown",
   "id": "251626b8-fef8-4a9f-b168-ced4cae82cd4",
   "metadata": {},
   "source": [
    "### Seleccionar columnas"
   ]
  },
  {
   "cell_type": "code",
   "execution_count": 19,
   "id": "538692a8-8ce8-4751-8cd3-1680c3b02842",
   "metadata": {},
   "outputs": [
    {
     "data": {
      "text/plain": [
       "0    Motor 4.0 Turbo\n",
       "1      Motor 4.54 LS\n",
       "2    Motor Turbo 4.3\n",
       "3    Motor 8.0 Turbo\n",
       "Name: Engine, dtype: object"
      ]
     },
     "execution_count": 19,
     "metadata": {},
     "output_type": "execute_result"
    }
   ],
   "source": [
    "dataset[\"Engine\"]"
   ]
  },
  {
   "cell_type": "code",
   "execution_count": 22,
   "id": "e7ce5b50-d834-499a-bd14-307591b66e64",
   "metadata": {},
   "outputs": [
    {
     "data": {
      "text/html": [
       "<div>\n",
       "<style scoped>\n",
       "    .dataframe tbody tr th:only-of-type {\n",
       "        vertical-align: middle;\n",
       "    }\n",
       "\n",
       "    .dataframe tbody tr th {\n",
       "        vertical-align: top;\n",
       "    }\n",
       "\n",
       "    .dataframe thead th {\n",
       "        text-align: right;\n",
       "    }\n",
       "</style>\n",
       "<table border=\"1\" class=\"dataframe\">\n",
       "  <thead>\n",
       "    <tr style=\"text-align: right;\">\n",
       "      <th></th>\n",
       "      <th>Name</th>\n",
       "      <th>Price</th>\n",
       "    </tr>\n",
       "  </thead>\n",
       "  <tbody>\n",
       "    <tr>\n",
       "      <th>0</th>\n",
       "      <td>Jetta Variant</td>\n",
       "      <td>120000</td>\n",
       "    </tr>\n",
       "    <tr>\n",
       "      <th>1</th>\n",
       "      <td>Camaro</td>\n",
       "      <td>480000</td>\n",
       "    </tr>\n",
       "    <tr>\n",
       "      <th>2</th>\n",
       "      <td>Challenger</td>\n",
       "      <td>680000</td>\n",
       "    </tr>\n",
       "    <tr>\n",
       "      <th>3</th>\n",
       "      <td>Audio 8 spider</td>\n",
       "      <td>4450000</td>\n",
       "    </tr>\n",
       "  </tbody>\n",
       "</table>\n",
       "</div>"
      ],
      "text/plain": [
       "             Name    Price\n",
       "0   Jetta Variant   120000\n",
       "1          Camaro   480000\n",
       "2      Challenger   680000\n",
       "3  Audio 8 spider  4450000"
      ]
     },
     "execution_count": 22,
     "metadata": {},
     "output_type": "execute_result"
    }
   ],
   "source": [
    "dataset[[\"Name\", \"Price\"]]"
   ]
  },
  {
   "cell_type": "markdown",
   "id": "7f598143-82c4-4770-96c9-ccf9b4874f9d",
   "metadata": {},
   "source": [
    "### Mostrar las 2 filas "
   ]
  },
  {
   "cell_type": "code",
   "execution_count": 23,
   "id": "37aa2157-c1fa-4a72-b198-1a16421ff796",
   "metadata": {},
   "outputs": [
    {
     "data": {
      "text/html": [
       "<div>\n",
       "<style scoped>\n",
       "    .dataframe tbody tr th:only-of-type {\n",
       "        vertical-align: middle;\n",
       "    }\n",
       "\n",
       "    .dataframe tbody tr th {\n",
       "        vertical-align: top;\n",
       "    }\n",
       "\n",
       "    .dataframe thead th {\n",
       "        text-align: right;\n",
       "    }\n",
       "</style>\n",
       "<table border=\"1\" class=\"dataframe\">\n",
       "  <thead>\n",
       "    <tr style=\"text-align: right;\">\n",
       "      <th></th>\n",
       "      <th>Name</th>\n",
       "      <th>Engine</th>\n",
       "      <th>Year</th>\n",
       "      <th>Milage</th>\n",
       "      <th>Zero_ml</th>\n",
       "      <th>Price</th>\n",
       "    </tr>\n",
       "  </thead>\n",
       "  <tbody>\n",
       "    <tr>\n",
       "      <th>0</th>\n",
       "      <td>Jetta Variant</td>\n",
       "      <td>Motor 4.0 Turbo</td>\n",
       "      <td>2020</td>\n",
       "      <td>44410.0</td>\n",
       "      <td>False</td>\n",
       "      <td>120000</td>\n",
       "    </tr>\n",
       "    <tr>\n",
       "      <th>1</th>\n",
       "      <td>Camaro</td>\n",
       "      <td>Motor 4.54 LS</td>\n",
       "      <td>2022</td>\n",
       "      <td>12000.0</td>\n",
       "      <td>False</td>\n",
       "      <td>480000</td>\n",
       "    </tr>\n",
       "  </tbody>\n",
       "</table>\n",
       "</div>"
      ],
      "text/plain": [
       "            Name           Engine  Year   Milage  Zero_ml   Price\n",
       "0  Jetta Variant  Motor 4.0 Turbo  2020  44410.0    False  120000\n",
       "1         Camaro    Motor 4.54 LS  2022  12000.0    False  480000"
      ]
     },
     "execution_count": 23,
     "metadata": {},
     "output_type": "execute_result"
    }
   ],
   "source": [
    "dataset.head(2)"
   ]
  },
  {
   "cell_type": "markdown",
   "id": "5bc01417-7925-4305-a2e6-672dc8321993",
   "metadata": {},
   "source": [
    "### Ver las últimas filas"
   ]
  },
  {
   "cell_type": "code",
   "execution_count": 24,
   "id": "59719687-ae29-4a18-9529-49c1a78b6f80",
   "metadata": {},
   "outputs": [
    {
     "data": {
      "text/html": [
       "<div>\n",
       "<style scoped>\n",
       "    .dataframe tbody tr th:only-of-type {\n",
       "        vertical-align: middle;\n",
       "    }\n",
       "\n",
       "    .dataframe tbody tr th {\n",
       "        vertical-align: top;\n",
       "    }\n",
       "\n",
       "    .dataframe thead th {\n",
       "        text-align: right;\n",
       "    }\n",
       "</style>\n",
       "<table border=\"1\" class=\"dataframe\">\n",
       "  <thead>\n",
       "    <tr style=\"text-align: right;\">\n",
       "      <th></th>\n",
       "      <th>Name</th>\n",
       "      <th>Engine</th>\n",
       "      <th>Year</th>\n",
       "      <th>Milage</th>\n",
       "      <th>Zero_ml</th>\n",
       "      <th>Price</th>\n",
       "    </tr>\n",
       "  </thead>\n",
       "  <tbody>\n",
       "    <tr>\n",
       "      <th>2</th>\n",
       "      <td>Challenger</td>\n",
       "      <td>Motor Turbo 4.3</td>\n",
       "      <td>2025</td>\n",
       "      <td>0.0</td>\n",
       "      <td>True</td>\n",
       "      <td>680000</td>\n",
       "    </tr>\n",
       "    <tr>\n",
       "      <th>3</th>\n",
       "      <td>Audio 8 spider</td>\n",
       "      <td>Motor 8.0 Turbo</td>\n",
       "      <td>2032</td>\n",
       "      <td>0.0</td>\n",
       "      <td>True</td>\n",
       "      <td>4450000</td>\n",
       "    </tr>\n",
       "  </tbody>\n",
       "</table>\n",
       "</div>"
      ],
      "text/plain": [
       "             Name           Engine  Year  Milage  Zero_ml    Price\n",
       "2      Challenger  Motor Turbo 4.3  2025     0.0     True   680000\n",
       "3  Audio 8 spider  Motor 8.0 Turbo  2032     0.0     True  4450000"
      ]
     },
     "execution_count": 24,
     "metadata": {},
     "output_type": "execute_result"
    }
   ],
   "source": [
    "dataset.tail(2)"
   ]
  },
  {
   "cell_type": "markdown",
   "id": "524daca3-a636-4f46-935e-4d10e64593f1",
   "metadata": {},
   "source": [
    "### Obtner un resumen del dataset"
   ]
  },
  {
   "cell_type": "code",
   "execution_count": 25,
   "id": "df208973-cf4d-4df4-ab3d-671641ec8a94",
   "metadata": {},
   "outputs": [
    {
     "data": {
      "text/html": [
       "<div>\n",
       "<style scoped>\n",
       "    .dataframe tbody tr th:only-of-type {\n",
       "        vertical-align: middle;\n",
       "    }\n",
       "\n",
       "    .dataframe tbody tr th {\n",
       "        vertical-align: top;\n",
       "    }\n",
       "\n",
       "    .dataframe thead th {\n",
       "        text-align: right;\n",
       "    }\n",
       "</style>\n",
       "<table border=\"1\" class=\"dataframe\">\n",
       "  <thead>\n",
       "    <tr style=\"text-align: right;\">\n",
       "      <th></th>\n",
       "      <th>Year</th>\n",
       "      <th>Milage</th>\n",
       "      <th>Price</th>\n",
       "    </tr>\n",
       "  </thead>\n",
       "  <tbody>\n",
       "    <tr>\n",
       "      <th>count</th>\n",
       "      <td>4.000000</td>\n",
       "      <td>4.000000</td>\n",
       "      <td>4.000000e+00</td>\n",
       "    </tr>\n",
       "    <tr>\n",
       "      <th>mean</th>\n",
       "      <td>2024.750000</td>\n",
       "      <td>14102.500000</td>\n",
       "      <td>1.432500e+06</td>\n",
       "    </tr>\n",
       "    <tr>\n",
       "      <th>std</th>\n",
       "      <td>5.251984</td>\n",
       "      <td>20981.945215</td>\n",
       "      <td>2.024967e+06</td>\n",
       "    </tr>\n",
       "    <tr>\n",
       "      <th>min</th>\n",
       "      <td>2020.000000</td>\n",
       "      <td>0.000000</td>\n",
       "      <td>1.200000e+05</td>\n",
       "    </tr>\n",
       "    <tr>\n",
       "      <th>25%</th>\n",
       "      <td>2021.500000</td>\n",
       "      <td>0.000000</td>\n",
       "      <td>3.900000e+05</td>\n",
       "    </tr>\n",
       "    <tr>\n",
       "      <th>50%</th>\n",
       "      <td>2023.500000</td>\n",
       "      <td>6000.000000</td>\n",
       "      <td>5.800000e+05</td>\n",
       "    </tr>\n",
       "    <tr>\n",
       "      <th>75%</th>\n",
       "      <td>2026.750000</td>\n",
       "      <td>20102.500000</td>\n",
       "      <td>1.622500e+06</td>\n",
       "    </tr>\n",
       "    <tr>\n",
       "      <th>max</th>\n",
       "      <td>2032.000000</td>\n",
       "      <td>44410.000000</td>\n",
       "      <td>4.450000e+06</td>\n",
       "    </tr>\n",
       "  </tbody>\n",
       "</table>\n",
       "</div>"
      ],
      "text/plain": [
       "              Year        Milage         Price\n",
       "count     4.000000      4.000000  4.000000e+00\n",
       "mean   2024.750000  14102.500000  1.432500e+06\n",
       "std       5.251984  20981.945215  2.024967e+06\n",
       "min    2020.000000      0.000000  1.200000e+05\n",
       "25%    2021.500000      0.000000  3.900000e+05\n",
       "50%    2023.500000   6000.000000  5.800000e+05\n",
       "75%    2026.750000  20102.500000  1.622500e+06\n",
       "max    2032.000000  44410.000000  4.450000e+06"
      ]
     },
     "execution_count": 25,
     "metadata": {},
     "output_type": "execute_result"
    }
   ],
   "source": [
    "dataset.describe()"
   ]
  },
  {
   "cell_type": "markdown",
   "id": "58ab97c9-2f54-4853-9142-515d235a63cf",
   "metadata": {},
   "source": [
    "### Seleccionar lineas (datos)"
   ]
  },
  {
   "cell_type": "code",
   "execution_count": 32,
   "id": "1151b771-3257-4f98-bc44-2f55b219709f",
   "metadata": {},
   "outputs": [
    {
     "data": {
      "text/html": [
       "<div>\n",
       "<style scoped>\n",
       "    .dataframe tbody tr th:only-of-type {\n",
       "        vertical-align: middle;\n",
       "    }\n",
       "\n",
       "    .dataframe tbody tr th {\n",
       "        vertical-align: top;\n",
       "    }\n",
       "\n",
       "    .dataframe thead th {\n",
       "        text-align: right;\n",
       "    }\n",
       "</style>\n",
       "<table border=\"1\" class=\"dataframe\">\n",
       "  <thead>\n",
       "    <tr style=\"text-align: right;\">\n",
       "      <th></th>\n",
       "      <th>Name</th>\n",
       "      <th>Engine</th>\n",
       "      <th>Year</th>\n",
       "      <th>Milage</th>\n",
       "      <th>Zero_ml</th>\n",
       "      <th>Price</th>\n",
       "    </tr>\n",
       "  </thead>\n",
       "  <tbody>\n",
       "    <tr>\n",
       "      <th>0</th>\n",
       "      <td>Jetta Variant</td>\n",
       "      <td>Motor 4.0 Turbo</td>\n",
       "      <td>2020</td>\n",
       "      <td>44410.0</td>\n",
       "      <td>False</td>\n",
       "      <td>120000</td>\n",
       "    </tr>\n",
       "    <tr>\n",
       "      <th>1</th>\n",
       "      <td>Camaro</td>\n",
       "      <td>Motor 4.54 LS</td>\n",
       "      <td>2022</td>\n",
       "      <td>12000.0</td>\n",
       "      <td>False</td>\n",
       "      <td>480000</td>\n",
       "    </tr>\n",
       "  </tbody>\n",
       "</table>\n",
       "</div>"
      ],
      "text/plain": [
       "            Name           Engine  Year   Milage  Zero_ml   Price\n",
       "0  Jetta Variant  Motor 4.0 Turbo  2020  44410.0    False  120000\n",
       "1         Camaro    Motor 4.54 LS  2022  12000.0    False  480000"
      ]
     },
     "execution_count": 32,
     "metadata": {},
     "output_type": "execute_result"
    }
   ],
   "source": [
    "# Mostrar las primeras 2 filas\n",
    "dataset[:2]"
   ]
  },
  {
   "cell_type": "code",
   "execution_count": 33,
   "id": "447dd89f-b42b-4489-a184-51bc72e659af",
   "metadata": {},
   "outputs": [
    {
     "data": {
      "text/html": [
       "<div>\n",
       "<style scoped>\n",
       "    .dataframe tbody tr th:only-of-type {\n",
       "        vertical-align: middle;\n",
       "    }\n",
       "\n",
       "    .dataframe tbody tr th {\n",
       "        vertical-align: top;\n",
       "    }\n",
       "\n",
       "    .dataframe thead th {\n",
       "        text-align: right;\n",
       "    }\n",
       "</style>\n",
       "<table border=\"1\" class=\"dataframe\">\n",
       "  <thead>\n",
       "    <tr style=\"text-align: right;\">\n",
       "      <th></th>\n",
       "      <th>Name</th>\n",
       "      <th>Engine</th>\n",
       "      <th>Year</th>\n",
       "      <th>Milage</th>\n",
       "      <th>Zero_ml</th>\n",
       "      <th>Price</th>\n",
       "    </tr>\n",
       "  </thead>\n",
       "  <tbody>\n",
       "    <tr>\n",
       "      <th>2</th>\n",
       "      <td>Challenger</td>\n",
       "      <td>Motor Turbo 4.3</td>\n",
       "      <td>2025</td>\n",
       "      <td>0.0</td>\n",
       "      <td>True</td>\n",
       "      <td>680000</td>\n",
       "    </tr>\n",
       "    <tr>\n",
       "      <th>3</th>\n",
       "      <td>Audio 8 spider</td>\n",
       "      <td>Motor 8.0 Turbo</td>\n",
       "      <td>2032</td>\n",
       "      <td>0.0</td>\n",
       "      <td>True</td>\n",
       "      <td>4450000</td>\n",
       "    </tr>\n",
       "  </tbody>\n",
       "</table>\n",
       "</div>"
      ],
      "text/plain": [
       "             Name           Engine  Year  Milage  Zero_ml    Price\n",
       "2      Challenger  Motor Turbo 4.3  2025     0.0     True   680000\n",
       "3  Audio 8 spider  Motor 8.0 Turbo  2032     0.0     True  4450000"
      ]
     },
     "execution_count": 33,
     "metadata": {},
     "output_type": "execute_result"
    }
   ],
   "source": [
    "# Mostrar los 2 últimos\n",
    "dataset[-2:]"
   ]
  },
  {
   "cell_type": "markdown",
   "id": "545aa2a0-10bf-4685-ae02-dc7ae1c8b258",
   "metadata": {},
   "source": [
    "### Utilizar loc (.loc) para secciones"
   ]
  },
  {
   "cell_type": "code",
   "execution_count": 34,
   "id": "2ed00073-5f01-4239-aaac-434947d8033e",
   "metadata": {},
   "outputs": [
    {
     "data": {
      "text/plain": [
       "Name        Audio 8 spider\n",
       "Engine     Motor 8.0 Turbo\n",
       "Year                  2032\n",
       "Milage                 0.0\n",
       "Zero_ml               True\n",
       "Price              4450000\n",
       "Name: 3, dtype: object"
      ]
     },
     "execution_count": 34,
     "metadata": {},
     "output_type": "execute_result"
    }
   ],
   "source": [
    "# Elemento con índice 3\n",
    "dataset.loc[3]"
   ]
  },
  {
   "cell_type": "code",
   "execution_count": 35,
   "id": "45cf4df0-c214-4385-931c-55575a09d057",
   "metadata": {},
   "outputs": [
    {
     "data": {
      "text/html": [
       "<div>\n",
       "<style scoped>\n",
       "    .dataframe tbody tr th:only-of-type {\n",
       "        vertical-align: middle;\n",
       "    }\n",
       "\n",
       "    .dataframe tbody tr th {\n",
       "        vertical-align: top;\n",
       "    }\n",
       "\n",
       "    .dataframe thead th {\n",
       "        text-align: right;\n",
       "    }\n",
       "</style>\n",
       "<table border=\"1\" class=\"dataframe\">\n",
       "  <thead>\n",
       "    <tr style=\"text-align: right;\">\n",
       "      <th></th>\n",
       "      <th>Name</th>\n",
       "      <th>Engine</th>\n",
       "      <th>Year</th>\n",
       "      <th>Milage</th>\n",
       "      <th>Zero_ml</th>\n",
       "      <th>Price</th>\n",
       "    </tr>\n",
       "  </thead>\n",
       "  <tbody>\n",
       "    <tr>\n",
       "      <th>1</th>\n",
       "      <td>Camaro</td>\n",
       "      <td>Motor 4.54 LS</td>\n",
       "      <td>2022</td>\n",
       "      <td>12000.0</td>\n",
       "      <td>False</td>\n",
       "      <td>480000</td>\n",
       "    </tr>\n",
       "    <tr>\n",
       "      <th>2</th>\n",
       "      <td>Challenger</td>\n",
       "      <td>Motor Turbo 4.3</td>\n",
       "      <td>2025</td>\n",
       "      <td>0.0</td>\n",
       "      <td>True</td>\n",
       "      <td>680000</td>\n",
       "    </tr>\n",
       "  </tbody>\n",
       "</table>\n",
       "</div>"
      ],
      "text/plain": [
       "         Name           Engine  Year   Milage  Zero_ml   Price\n",
       "1      Camaro    Motor 4.54 LS  2022  12000.0    False  480000\n",
       "2  Challenger  Motor Turbo 4.3  2025      0.0     True  680000"
      ]
     },
     "execution_count": 35,
     "metadata": {},
     "output_type": "execute_result"
    }
   ],
   "source": [
    "# Mostrar los elementos de los índices 1 y 2\n",
    "dataset.loc[[1,2]]"
   ]
  },
  {
   "cell_type": "code",
   "execution_count": 37,
   "id": "95fbfaee-25ff-40c4-aace-2640bf9fed2d",
   "metadata": {},
   "outputs": [
    {
     "data": {
      "text/html": [
       "<div>\n",
       "<style scoped>\n",
       "    .dataframe tbody tr th:only-of-type {\n",
       "        vertical-align: middle;\n",
       "    }\n",
       "\n",
       "    .dataframe tbody tr th {\n",
       "        vertical-align: top;\n",
       "    }\n",
       "\n",
       "    .dataframe thead th {\n",
       "        text-align: right;\n",
       "    }\n",
       "</style>\n",
       "<table border=\"1\" class=\"dataframe\">\n",
       "  <thead>\n",
       "    <tr style=\"text-align: right;\">\n",
       "      <th></th>\n",
       "      <th>Name</th>\n",
       "      <th>Price</th>\n",
       "    </tr>\n",
       "  </thead>\n",
       "  <tbody>\n",
       "    <tr>\n",
       "      <th>0</th>\n",
       "      <td>Jetta Variant</td>\n",
       "      <td>120000</td>\n",
       "    </tr>\n",
       "    <tr>\n",
       "      <th>1</th>\n",
       "      <td>Camaro</td>\n",
       "      <td>480000</td>\n",
       "    </tr>\n",
       "    <tr>\n",
       "      <th>2</th>\n",
       "      <td>Challenger</td>\n",
       "      <td>680000</td>\n",
       "    </tr>\n",
       "    <tr>\n",
       "      <th>3</th>\n",
       "      <td>Audio 8 spider</td>\n",
       "      <td>4450000</td>\n",
       "    </tr>\n",
       "  </tbody>\n",
       "</table>\n",
       "</div>"
      ],
      "text/plain": [
       "             Name    Price\n",
       "0   Jetta Variant   120000\n",
       "1          Camaro   480000\n",
       "2      Challenger   680000\n",
       "3  Audio 8 spider  4450000"
      ]
     },
     "execution_count": 37,
     "metadata": {},
     "output_type": "execute_result"
    }
   ],
   "source": [
    "# Mostrar el nombre y el precio\n",
    "dataset.loc[:, ['Name', 'Price']]"
   ]
  },
  {
   "cell_type": "code",
   "execution_count": 38,
   "id": "ded12f93-b2d8-4697-99f2-79725b64b757",
   "metadata": {},
   "outputs": [
    {
     "data": {
      "text/html": [
       "<div>\n",
       "<style scoped>\n",
       "    .dataframe tbody tr th:only-of-type {\n",
       "        vertical-align: middle;\n",
       "    }\n",
       "\n",
       "    .dataframe tbody tr th {\n",
       "        vertical-align: top;\n",
       "    }\n",
       "\n",
       "    .dataframe thead th {\n",
       "        text-align: right;\n",
       "    }\n",
       "</style>\n",
       "<table border=\"1\" class=\"dataframe\">\n",
       "  <thead>\n",
       "    <tr style=\"text-align: right;\">\n",
       "      <th></th>\n",
       "      <th>Name</th>\n",
       "      <th>Price</th>\n",
       "    </tr>\n",
       "  </thead>\n",
       "  <tbody>\n",
       "    <tr>\n",
       "      <th>1</th>\n",
       "      <td>Camaro</td>\n",
       "      <td>480000</td>\n",
       "    </tr>\n",
       "    <tr>\n",
       "      <th>2</th>\n",
       "      <td>Challenger</td>\n",
       "      <td>680000</td>\n",
       "    </tr>\n",
       "  </tbody>\n",
       "</table>\n",
       "</div>"
      ],
      "text/plain": [
       "         Name   Price\n",
       "1      Camaro  480000\n",
       "2  Challenger  680000"
      ]
     },
     "execution_count": 38,
     "metadata": {},
     "output_type": "execute_result"
    }
   ],
   "source": [
    "\n",
    "dataset.loc[1:2 , ['Name', 'Price']]"
   ]
  }
 ],
 "metadata": {
  "kernelspec": {
   "display_name": "Python 3 (ipykernel)",
   "language": "python",
   "name": "python3"
  },
  "language_info": {
   "codemirror_mode": {
    "name": "ipython",
    "version": 3
   },
   "file_extension": ".py",
   "mimetype": "text/x-python",
   "name": "python",
   "nbconvert_exporter": "python",
   "pygments_lexer": "ipython3",
   "version": "3.12.7"
  }
 },
 "nbformat": 4,
 "nbformat_minor": 5
}
