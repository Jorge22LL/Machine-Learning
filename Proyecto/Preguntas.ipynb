{
 "cells": [
  {
   "cell_type": "markdown",
   "id": "ace02b47-0480-48ce-ad8c-8a40a5a3e8e1",
   "metadata": {},
   "source": [
    "## PROYECTO DE MACHINE LEARNING\n",
    "\n",
    "#### **1. ¿Qué problema se quiere resolver?**\n",
    "Se busca predecir qué tipo de letrero luminoso es más adecuado para un negocio según su sector y ubicación, considerando tendencias de diseño y características previas de letreros exitosos.\n",
    "\n",
    "#### **2. ¿Tienes datos suficientes y de calidad?**\n",
    "Se cuenta con acceso a una empresa que fabrica letreros luminosos, lo que permite obtener datos sobre modelos vendidos, materiales utilizados, ubicación de instalación y tendencias de diseño. Si los datos históricos son limitados, se pueden complementar con encuestas a clientes o análisis de redes sociales. Al igual, se podria investigar en internet y hacer comparativas de cuales son las tendencias mas actuales en diferentes letreros con respecto a la empresa que se asocian.\n",
    "\n",
    "#### **3. ¿Qué métrica indicará el éxito del modelo?**\n",
    "**Precisión (Accuracy)**: Indicará qué porcentaje de veces el modelo recomienda correctamente el tipo de letrero que ha demostrado ser más efectivo para negocios similares. Una alta precisión significará que el modelo es confiable para tomar decisiones.\n",
    "\n",
    "**Coeficiente de determinación (R²)**: Medirá qué tan bien el modelo puede predecir el impacto en ventas al elegir un tipo de letrero. Un R² cercano a 1 indicará que el modelo es capaz de explicar con precisión la relación entre el tipo de letrero y el aumento en ventas."
   ]
  }
 ],
 "metadata": {
  "kernelspec": {
   "display_name": "Python [conda env:base] *",
   "language": "python",
   "name": "conda-base-py"
  },
  "language_info": {
   "codemirror_mode": {
    "name": "ipython",
    "version": 3
   },
   "file_extension": ".py",
   "mimetype": "text/x-python",
   "name": "python",
   "nbconvert_exporter": "python",
   "pygments_lexer": "ipython3",
   "version": "3.12.7"
  }
 },
 "nbformat": 4,
 "nbformat_minor": 5
}
