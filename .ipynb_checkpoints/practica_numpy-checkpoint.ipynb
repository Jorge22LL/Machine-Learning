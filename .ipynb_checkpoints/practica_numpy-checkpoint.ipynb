{
 "cells": [
  {
   "cell_type": "markdown",
   "id": "71927966-6a6d-4e73-87f1-2904434bcd23",
   "metadata": {},
   "source": [
    "## Practica con Numpy\n",
    "\n",
    "### Vectores"
   ]
  },
  {
   "cell_type": "code",
   "execution_count": 5,
   "id": "a0afae9e-a4fc-411c-b9be-0b545baaed78",
   "metadata": {},
   "outputs": [],
   "source": [
    "# Importar la libreria Numpy\n",
    "import numpy as np\n"
   ]
  },
  {
   "cell_type": "code",
   "execution_count": 6,
   "id": "8d2b420a-7d91-4a40-a7ce-7929867aae01",
   "metadata": {},
   "outputs": [
    {
     "name": "stdout",
     "output_type": "stream",
     "text": [
      "Hola desde numpy\n"
     ]
    }
   ],
   "source": [
    "print(\"Hola desde numpy\")"
   ]
  },
  {
   "cell_type": "code",
   "execution_count": 7,
   "id": "b5a86f26-c89d-4fa4-9311-d4c9dfb9752b",
   "metadata": {},
   "outputs": [
    {
     "name": "stdout",
     "output_type": "stream",
     "text": [
      "Jorge 21 False 1.65\n"
     ]
    }
   ],
   "source": [
    "# Variables en Python\n",
    "nombre = \"Jorge\"\n",
    "edad = 21\n",
    "casado = False\n",
    "estatura = 1.65\n",
    "print(nombre, edad, casado, estatura)"
   ]
  },
  {
   "cell_type": "code",
   "execution_count": 10,
   "id": "f7060c84-6fba-454e-a2c8-bd77f000f1d7",
   "metadata": {},
   "outputs": [
    {
     "name": "stdout",
     "output_type": "stream",
     "text": [
      "Nombre Jorge, Edad: 21, Estatura: 1.65\n",
      "Estado civil: Soltero\n"
     ]
    }
   ],
   "source": [
    "print(f\"Nombre {nombre}, Edad: {edad}, Estatura: {estatura}\")\n",
    "if casado == True:\n",
    "    print(\"Estado civil: Casado\")\n",
    "else:\n",
    "    print(\"Estado civil: Soltero\")"
   ]
  },
  {
   "cell_type": "code",
   "execution_count": 11,
   "id": "69cc44c2-7816-4656-96da-ffe5fd18657c",
   "metadata": {},
   "outputs": [
    {
     "name": "stdout",
     "output_type": "stream",
     "text": [
      "0\n",
      "1\n",
      "2\n",
      "3\n",
      "4\n",
      "5\n",
      "6\n",
      "7\n",
      "8\n",
      "9\n"
     ]
    }
   ],
   "source": [
    "# Ejemplo del ciclo for\n",
    "for i in range(10):\n",
    "    print(i)"
   ]
  },
  {
   "cell_type": "code",
   "execution_count": 12,
   "id": "08749d41-6bef-4c7b-80f5-c24a50d13d6e",
   "metadata": {},
   "outputs": [
    {
     "name": "stdout",
     "output_type": "stream",
     "text": [
      "0\n",
      "2\n",
      "4\n",
      "6\n",
      "8\n",
      "10\n"
     ]
    }
   ],
   "source": [
    "# Numeros pares del 0 al 10\n",
    "for i in range(11):\n",
    "    if i % 2 == 0:\n",
    "        print(i)"
   ]
  },
  {
   "cell_type": "code",
   "execution_count": 15,
   "id": "8dd3bb3c-48cd-4fc9-b7e8-d1d3f2730f9c",
   "metadata": {},
   "outputs": [
    {
     "name": "stdout",
     "output_type": "stream",
     "text": [
      "0\n",
      "2\n",
      "4\n",
      "6\n",
      "8\n",
      "10\n"
     ]
    }
   ],
   "source": [
    "for i in range(0,11,2):\n",
    "    print(i)"
   ]
  },
  {
   "cell_type": "code",
   "execution_count": 17,
   "id": "f6f74bf0-db92-4678-be9b-51322c020103",
   "metadata": {},
   "outputs": [
    {
     "name": "stdout",
     "output_type": "stream",
     "text": [
      "[18, 17, 19, 21, 18, 17, 23]\n",
      "Mayor de edad\n",
      "No es mayor de edad\n",
      "Mayor de edad\n",
      "Mayor de edad\n",
      "Mayor de edad\n",
      "No es mayor de edad\n",
      "Mayor de edad\n"
     ]
    }
   ],
   "source": [
    "# Listas []\n",
    "edades = [18, 17, 19, 21, 18, 17, 23]\n",
    "\n",
    "print(edades)\n",
    "\n",
    "for est in edades:\n",
    "    if est >= 18:\n",
    "        print(\"Mayor de edad\")\n",
    "    else:\n",
    "        print(\"No es mayor de edad\")"
   ]
  },
  {
   "cell_type": "code",
   "execution_count": 18,
   "id": "907c9ec9-9f19-4e00-9a72-507c9d8c1306",
   "metadata": {},
   "outputs": [
    {
     "name": "stdout",
     "output_type": "stream",
     "text": [
      "{'Nombre': 'Jorge Enrique Gutiérrez Llanos', 'Edad': 21, 'Sexo': 'Masculino'}\n"
     ]
    }
   ],
   "source": [
    "# Diccionarios {}\n",
    "estudiante = { \"Nombre\": 'Jorge Enrique Gutiérrez Llanos', \"Edad\": 21, \"Sexo\": 'Masculino'}\n",
    "print(estudiante)"
   ]
  },
  {
   "cell_type": "code",
   "execution_count": 21,
   "id": "5c28b564-80af-4146-b9be-2c1321cbf4e7",
   "metadata": {},
   "outputs": [
    {
     "name": "stdout",
     "output_type": "stream",
     "text": [
      "Nombre:  Jorge Enrique Gutiérrez Llanos\n",
      "Nombre:  Jorge Enrique Gutiérrez Llanos\n",
      "{'Nombre': 'Jorge Enrique Gutiérrez Llanos', 'Edad': 21, 'Sexo': 'Masculino', 'Estado_civil': 'Soltero'}\n"
     ]
    }
   ],
   "source": [
    "# Para imprimir\n",
    "print(\"Nombre: \", estudiante[\"Nombre\"])\n",
    "print(\"Nombre: \", estudiante.get(\"Nombre\"))\n",
    "# Agregar un elemento mas al diccionario\n",
    "estudiante[\"Estado_civil\"] = 'Soltero'\n",
    "print(estudiante)"
   ]
  },
  {
   "cell_type": "code",
   "execution_count": 25,
   "id": "f9707d57-174b-47f4-a3fc-7cfcc92c21c0",
   "metadata": {},
   "outputs": [
    {
     "name": "stdout",
     "output_type": "stream",
     "text": [
      "[{'estudiante': 'Karla', 'edad': 18, 'promedio': 90.8}, {'estudiante': 'Pedro', 'edad': 19, 'promedio': 90.1}, {'estudiante': 'Luis', 'edad': 23, 'promedio': 99.3}]\n",
      "Nombre: Karla Promedio: 90.8\n",
      "Nombre: Pedro Promedio: 90.1\n",
      "Nombre: Luis Promedio: 99.3\n"
     ]
    }
   ],
   "source": [
    "# Lista de diccionarios\n",
    "lista = [\n",
    "    {\"estudiante\": 'Karla', \"edad\": 18, \"promedio\": 90.8},\n",
    "    {\"estudiante\": 'Pedro', \"edad\": 19, \"promedio\": 90.1},\n",
    "    {\"estudiante\": 'Luis', \"edad\": 23, \"promedio\": 99.3},\n",
    "]\n",
    "print(lista)\n",
    "for est in lista:\n",
    "    print(f\"Nombre: {est.get(\"estudiante\")} Promedio: {est.get(\"promedio\")}\")"
   ]
  },
  {
   "cell_type": "code",
   "execution_count": 2,
   "id": "adee4298-a591-491d-af4b-1134222c0ac8",
   "metadata": {},
   "outputs": [
    {
     "name": "stdout",
     "output_type": "stream",
     "text": [
      "(1, 2, 3, 4, 5)\n",
      "('A', 'B', 'C', 'D')\n"
     ]
    }
   ],
   "source": [
    "# Tuplas\n",
    "t = (1,2,3,4,5)\n",
    "print(t)\n",
    "tupla_strings = ('A', 'B', 'C', 'D')\n",
    "print(tupla_strings)"
   ]
  }
 ],
 "metadata": {
  "kernelspec": {
   "display_name": "Python 3 (ipykernel)",
   "language": "python",
   "name": "python3"
  },
  "language_info": {
   "codemirror_mode": {
    "name": "ipython",
    "version": 3
   },
   "file_extension": ".py",
   "mimetype": "text/x-python",
   "name": "python",
   "nbconvert_exporter": "python",
   "pygments_lexer": "ipython3",
   "version": "3.12.7"
  }
 },
 "nbformat": 4,
 "nbformat_minor": 5
}
