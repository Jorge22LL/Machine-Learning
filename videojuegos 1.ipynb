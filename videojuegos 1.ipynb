{
 "cells": [
  {
   "cell_type": "markdown",
   "id": "00e7e411-29ea-4ee6-a54e-8fb61c022e76",
   "metadata": {},
   "source": [
    "# Limpieza de datos\n",
    "\n",
    "Realice las operaciones y describa lo que va encontrando"
   ]
  },
  {
   "cell_type": "markdown",
   "id": "fc481f49-3324-4369-8038-a7b5b93aac7d",
   "metadata": {},
   "source": [
    "\n",
    "## 1. Vista rápida al dataset\n"
   ]
  },
  {
   "cell_type": "code",
   "execution_count": 3,
   "id": "b1fa2d45-ea07-4940-b76c-de21f1f4992d",
   "metadata": {},
   "outputs": [
    {
     "data": {
      "text/html": [
       "<div>\n",
       "<style scoped>\n",
       "    .dataframe tbody tr th:only-of-type {\n",
       "        vertical-align: middle;\n",
       "    }\n",
       "\n",
       "    .dataframe tbody tr th {\n",
       "        vertical-align: top;\n",
       "    }\n",
       "\n",
       "    .dataframe thead th {\n",
       "        text-align: right;\n",
       "    }\n",
       "</style>\n",
       "<table border=\"1\" class=\"dataframe\">\n",
       "  <thead>\n",
       "    <tr style=\"text-align: right;\">\n",
       "      <th></th>\n",
       "      <th>name</th>\n",
       "      <th>platform</th>\n",
       "      <th>release_date</th>\n",
       "      <th>summary</th>\n",
       "      <th>meta_score</th>\n",
       "      <th>user_review</th>\n",
       "    </tr>\n",
       "  </thead>\n",
       "  <tbody>\n",
       "    <tr>\n",
       "      <th>0</th>\n",
       "      <td>The Legend of Zelda: Ocarina of Time</td>\n",
       "      <td>Nintendo 64</td>\n",
       "      <td>November 23, 1998</td>\n",
       "      <td>As a young boy, Link is tricked by Ganondorf, ...</td>\n",
       "      <td>99</td>\n",
       "      <td>9.1</td>\n",
       "    </tr>\n",
       "    <tr>\n",
       "      <th>1</th>\n",
       "      <td>Tony Hawk's Pro Skater 2</td>\n",
       "      <td>PlayStation</td>\n",
       "      <td>September 20, 2000</td>\n",
       "      <td>As most major publishers' development efforts ...</td>\n",
       "      <td>98</td>\n",
       "      <td>7.4</td>\n",
       "    </tr>\n",
       "    <tr>\n",
       "      <th>2</th>\n",
       "      <td>Grand Theft Auto IV</td>\n",
       "      <td>PlayStation 3</td>\n",
       "      <td>April 29, 2008</td>\n",
       "      <td>[Metacritic's 2008 PS3 Game of the Year; Also ...</td>\n",
       "      <td>98</td>\n",
       "      <td>7.7</td>\n",
       "    </tr>\n",
       "    <tr>\n",
       "      <th>3</th>\n",
       "      <td>SoulCalibur</td>\n",
       "      <td>Dreamcast</td>\n",
       "      <td>September 8, 1999</td>\n",
       "      <td>This is a tale of souls and swords, transcendi...</td>\n",
       "      <td>98</td>\n",
       "      <td>8.4</td>\n",
       "    </tr>\n",
       "    <tr>\n",
       "      <th>4</th>\n",
       "      <td>Grand Theft Auto IV</td>\n",
       "      <td>Xbox 360</td>\n",
       "      <td>April 29, 2008</td>\n",
       "      <td>[Metacritic's 2008 Xbox 360 Game of the Year; ...</td>\n",
       "      <td>98</td>\n",
       "      <td>7.9</td>\n",
       "    </tr>\n",
       "    <tr>\n",
       "      <th>...</th>\n",
       "      <td>...</td>\n",
       "      <td>...</td>\n",
       "      <td>...</td>\n",
       "      <td>...</td>\n",
       "      <td>...</td>\n",
       "      <td>...</td>\n",
       "    </tr>\n",
       "    <tr>\n",
       "      <th>18795</th>\n",
       "      <td>Fast &amp; Furious: Showdown</td>\n",
       "      <td>Xbox 360</td>\n",
       "      <td>May 21, 2013</td>\n",
       "      <td>Fast &amp; Furious: Showdown takes some of the fra...</td>\n",
       "      <td>22</td>\n",
       "      <td>1.3</td>\n",
       "    </tr>\n",
       "    <tr>\n",
       "      <th>18796</th>\n",
       "      <td>Drake of the 99 Dragons</td>\n",
       "      <td>Xbox</td>\n",
       "      <td>November 3, 2003</td>\n",
       "      <td>Drake is out for revenge in a supernatural Hon...</td>\n",
       "      <td>22</td>\n",
       "      <td>1.7</td>\n",
       "    </tr>\n",
       "    <tr>\n",
       "      <th>18797</th>\n",
       "      <td>Afro Samurai 2: Revenge of Kuma Volume One</td>\n",
       "      <td>PlayStation 4</td>\n",
       "      <td>September 22, 2015</td>\n",
       "      <td>Head out on a journey of redemption, driven by...</td>\n",
       "      <td>21</td>\n",
       "      <td>2.9</td>\n",
       "    </tr>\n",
       "    <tr>\n",
       "      <th>18798</th>\n",
       "      <td>Infestation: Survivor Stories (The War Z)</td>\n",
       "      <td>PC</td>\n",
       "      <td>October 15, 2012</td>\n",
       "      <td>(Formerly known as \"The War Z\") It has been 5 ...</td>\n",
       "      <td>20</td>\n",
       "      <td>1.7</td>\n",
       "    </tr>\n",
       "    <tr>\n",
       "      <th>18799</th>\n",
       "      <td>Leisure Suit Larry: Box Office Bust</td>\n",
       "      <td>PC</td>\n",
       "      <td>March 31, 2009</td>\n",
       "      <td>The Leisure Suit Larry: Box Office Bust video ...</td>\n",
       "      <td>20</td>\n",
       "      <td>2.0</td>\n",
       "    </tr>\n",
       "  </tbody>\n",
       "</table>\n",
       "<p>18800 rows × 6 columns</p>\n",
       "</div>"
      ],
      "text/plain": [
       "                                             name        platform  \\\n",
       "0            The Legend of Zelda: Ocarina of Time     Nintendo 64   \n",
       "1                        Tony Hawk's Pro Skater 2     PlayStation   \n",
       "2                             Grand Theft Auto IV   PlayStation 3   \n",
       "3                                     SoulCalibur       Dreamcast   \n",
       "4                             Grand Theft Auto IV        Xbox 360   \n",
       "...                                           ...             ...   \n",
       "18795                    Fast & Furious: Showdown        Xbox 360   \n",
       "18796                     Drake of the 99 Dragons            Xbox   \n",
       "18797  Afro Samurai 2: Revenge of Kuma Volume One   PlayStation 4   \n",
       "18798   Infestation: Survivor Stories (The War Z)              PC   \n",
       "18799         Leisure Suit Larry: Box Office Bust              PC   \n",
       "\n",
       "             release_date                                            summary  \\\n",
       "0       November 23, 1998  As a young boy, Link is tricked by Ganondorf, ...   \n",
       "1      September 20, 2000  As most major publishers' development efforts ...   \n",
       "2          April 29, 2008  [Metacritic's 2008 PS3 Game of the Year; Also ...   \n",
       "3       September 8, 1999  This is a tale of souls and swords, transcendi...   \n",
       "4          April 29, 2008  [Metacritic's 2008 Xbox 360 Game of the Year; ...   \n",
       "...                   ...                                                ...   \n",
       "18795        May 21, 2013  Fast & Furious: Showdown takes some of the fra...   \n",
       "18796    November 3, 2003  Drake is out for revenge in a supernatural Hon...   \n",
       "18797  September 22, 2015  Head out on a journey of redemption, driven by...   \n",
       "18798    October 15, 2012  (Formerly known as \"The War Z\") It has been 5 ...   \n",
       "18799      March 31, 2009  The Leisure Suit Larry: Box Office Bust video ...   \n",
       "\n",
       "       meta_score user_review  \n",
       "0              99         9.1  \n",
       "1              98         7.4  \n",
       "2              98         7.7  \n",
       "3              98         8.4  \n",
       "4              98         7.9  \n",
       "...           ...         ...  \n",
       "18795          22         1.3  \n",
       "18796          22         1.7  \n",
       "18797          21         2.9  \n",
       "18798          20         1.7  \n",
       "18799          20         2.0  \n",
       "\n",
       "[18800 rows x 6 columns]"
      ]
     },
     "execution_count": 3,
     "metadata": {},
     "output_type": "execute_result"
    }
   ],
   "source": [
    "# Importar librerías\n",
    "import pandas as pd\n",
    "import matplotlib.pyplot as plt\n",
    "\n",
    "# Lectura\n",
    "df = pd.read_csv(\"dataset_videojuegos.csv\")\n",
    "df"
   ]
  },
  {
   "cell_type": "code",
   "execution_count": 4,
   "id": "85f365f4-017f-4cdf-aac5-19475889d4dc",
   "metadata": {},
   "outputs": [
    {
     "name": "stdout",
     "output_type": "stream",
     "text": [
      "<class 'pandas.core.frame.DataFrame'>\n",
      "RangeIndex: 18800 entries, 0 to 18799\n",
      "Data columns (total 6 columns):\n",
      " #   Column        Non-Null Count  Dtype \n",
      "---  ------        --------------  ----- \n",
      " 0   name          18800 non-null  object\n",
      " 1   platform      18800 non-null  object\n",
      " 2   release_date  18800 non-null  object\n",
      " 3   summary       18686 non-null  object\n",
      " 4   meta_score    18800 non-null  int64 \n",
      " 5   user_review   18800 non-null  object\n",
      "dtypes: int64(1), object(5)\n",
      "memory usage: 881.4+ KB\n"
     ]
    }
   ],
   "source": [
    "df.info()"
   ]
  },
  {
   "cell_type": "markdown",
   "id": "54ec2643-72e6-45d0-bc97-8c79e6f0effe",
   "metadata": {},
   "source": [
    "## 2. Datos duplicados"
   ]
  },
  {
   "cell_type": "code",
   "execution_count": 6,
   "id": "2d05b2a0-9aa2-4207-afb0-63185241e9b9",
   "metadata": {},
   "outputs": [
    {
     "data": {
      "text/plain": [
       "0"
      ]
     },
     "execution_count": 6,
     "metadata": {},
     "output_type": "execute_result"
    }
   ],
   "source": [
    "duplicadas = df.duplicated().sum()\n",
    "duplicadas"
   ]
  },
  {
   "cell_type": "markdown",
   "id": "5a5efa08-40cb-46de-86f8-61a73cf8c2fe",
   "metadata": {},
   "source": [
    "Como podemos ver, al realizar la ejecucion del codigo anterior, podemos comprobar que no habia datos duplicados"
   ]
  },
  {
   "cell_type": "markdown",
   "id": "03419878-6bf1-4628-972b-31f40880d3fb",
   "metadata": {},
   "source": [
    "## 3. Datos nulos\n",
    "Muestre por columnas la cantidad de datos nulos, implemente una estrategia para no dejar ningun dato nulo, no elimine ningún dato.\n"
   ]
  },
  {
   "cell_type": "code",
   "execution_count": 9,
   "id": "e5281655-1761-41f2-809f-61a2a82ea5db",
   "metadata": {},
   "outputs": [
    {
     "name": "stdout",
     "output_type": "stream",
     "text": [
      "Filas faltantes en 'summary': 114. porcentaje: 0.61%\n"
     ]
    }
   ],
   "source": [
    "# Contar los datos faltantes\n",
    "df.isnull().sum().sort_values(ascending=False)\n",
    "\n",
    "# La cantidad de datos faltantes y el porcentaje por la columna\n",
    "for col in df.columns:\n",
    "    porcentaje = (df[col].isnull().sum() / len(df)) * 100\n",
    "    if porcentaje > 0: #Filtra solo los que tengan valores faltantes\n",
    "        print(f\"Filas faltantes en '{col}': {df[col].isnull().sum()}. porcentaje: {porcentaje:.2f}%\")"
   ]
  },
  {
   "cell_type": "markdown",
   "id": "9a3d84e8-5a50-480f-99b8-1ca3a4edad7b",
   "metadata": {},
   "source": [
    "Como podemos observar, en la columna 'summary' es la unica que se encuentran datos nulos, los cuales son 114"
   ]
  },
  {
   "cell_type": "code",
   "execution_count": 11,
   "id": "8aff7547-adcc-4be7-892e-d476e41656c3",
   "metadata": {},
   "outputs": [
    {
     "name": "stdout",
     "output_type": "stream",
     "text": [
      "Valores faltantes en la columna 'summary' 114\n"
     ]
    },
    {
     "data": {
      "text/html": [
       "<div>\n",
       "<style scoped>\n",
       "    .dataframe tbody tr th:only-of-type {\n",
       "        vertical-align: middle;\n",
       "    }\n",
       "\n",
       "    .dataframe tbody tr th {\n",
       "        vertical-align: top;\n",
       "    }\n",
       "\n",
       "    .dataframe thead th {\n",
       "        text-align: right;\n",
       "    }\n",
       "</style>\n",
       "<table border=\"1\" class=\"dataframe\">\n",
       "  <thead>\n",
       "    <tr style=\"text-align: right;\">\n",
       "      <th></th>\n",
       "      <th>name</th>\n",
       "      <th>platform</th>\n",
       "      <th>release_date</th>\n",
       "      <th>summary</th>\n",
       "      <th>meta_score</th>\n",
       "      <th>user_review</th>\n",
       "    </tr>\n",
       "  </thead>\n",
       "  <tbody>\n",
       "    <tr>\n",
       "      <th>833</th>\n",
       "      <td>Injustice 2: Legendary Edition</td>\n",
       "      <td>PlayStation 4</td>\n",
       "      <td>March 27, 2018</td>\n",
       "      <td>NaN</td>\n",
       "      <td>88</td>\n",
       "      <td>7.6</td>\n",
       "    </tr>\n",
       "    <tr>\n",
       "      <th>1472</th>\n",
       "      <td>Moto Racer Advance</td>\n",
       "      <td>Game Boy Advance</td>\n",
       "      <td>December 5, 2002</td>\n",
       "      <td>NaN</td>\n",
       "      <td>86</td>\n",
       "      <td>tbd</td>\n",
       "    </tr>\n",
       "    <tr>\n",
       "      <th>1535</th>\n",
       "      <td>Mini Metro</td>\n",
       "      <td>Switch</td>\n",
       "      <td>August 30, 2018</td>\n",
       "      <td>NaN</td>\n",
       "      <td>86</td>\n",
       "      <td>8.4</td>\n",
       "    </tr>\n",
       "    <tr>\n",
       "      <th>1649</th>\n",
       "      <td>Out of the Park Baseball 13</td>\n",
       "      <td>PC</td>\n",
       "      <td>April 9, 2012</td>\n",
       "      <td>NaN</td>\n",
       "      <td>85</td>\n",
       "      <td>7.8</td>\n",
       "    </tr>\n",
       "    <tr>\n",
       "      <th>2427</th>\n",
       "      <td>Guild Wars 2: Path of Fire</td>\n",
       "      <td>PC</td>\n",
       "      <td>September 22, 2017</td>\n",
       "      <td>NaN</td>\n",
       "      <td>83</td>\n",
       "      <td>7.3</td>\n",
       "    </tr>\n",
       "    <tr>\n",
       "      <th>...</th>\n",
       "      <td>...</td>\n",
       "      <td>...</td>\n",
       "      <td>...</td>\n",
       "      <td>...</td>\n",
       "      <td>...</td>\n",
       "      <td>...</td>\n",
       "    </tr>\n",
       "    <tr>\n",
       "      <th>17999</th>\n",
       "      <td>One Piece: Unlimited Cruise SP</td>\n",
       "      <td>PlayStation 4</td>\n",
       "      <td>February 10, 2012</td>\n",
       "      <td>NaN</td>\n",
       "      <td>46</td>\n",
       "      <td>7.0</td>\n",
       "    </tr>\n",
       "    <tr>\n",
       "      <th>18134</th>\n",
       "      <td>AeternoBlade II</td>\n",
       "      <td>Wii U</td>\n",
       "      <td>October 11, 2019</td>\n",
       "      <td>NaN</td>\n",
       "      <td>44</td>\n",
       "      <td>4.4</td>\n",
       "    </tr>\n",
       "    <tr>\n",
       "      <th>18253</th>\n",
       "      <td>Surgeon Simulator: Experience Reality</td>\n",
       "      <td>PlayStation 4</td>\n",
       "      <td>December 3, 2016</td>\n",
       "      <td>NaN</td>\n",
       "      <td>43</td>\n",
       "      <td>4.3</td>\n",
       "    </tr>\n",
       "    <tr>\n",
       "      <th>18532</th>\n",
       "      <td>The Ripping Friends</td>\n",
       "      <td>Game Boy Advance</td>\n",
       "      <td>March 24, 2002</td>\n",
       "      <td>NaN</td>\n",
       "      <td>38</td>\n",
       "      <td>tbd</td>\n",
       "    </tr>\n",
       "    <tr>\n",
       "      <th>18717</th>\n",
       "      <td>Smash 'N' Survive</td>\n",
       "      <td>PlayStation 3</td>\n",
       "      <td>February 22, 2012</td>\n",
       "      <td>NaN</td>\n",
       "      <td>31</td>\n",
       "      <td>tbd</td>\n",
       "    </tr>\n",
       "  </tbody>\n",
       "</table>\n",
       "<p>114 rows × 6 columns</p>\n",
       "</div>"
      ],
      "text/plain": [
       "                                        name           platform  \\\n",
       "833           Injustice 2: Legendary Edition      PlayStation 4   \n",
       "1472                      Moto Racer Advance   Game Boy Advance   \n",
       "1535                              Mini Metro             Switch   \n",
       "1649             Out of the Park Baseball 13                 PC   \n",
       "2427              Guild Wars 2: Path of Fire                 PC   \n",
       "...                                      ...                ...   \n",
       "17999         One Piece: Unlimited Cruise SP      PlayStation 4   \n",
       "18134                        AeternoBlade II              Wii U   \n",
       "18253  Surgeon Simulator: Experience Reality      PlayStation 4   \n",
       "18532                    The Ripping Friends   Game Boy Advance   \n",
       "18717                      Smash 'N' Survive      PlayStation 3   \n",
       "\n",
       "             release_date summary  meta_score user_review  \n",
       "833        March 27, 2018     NaN          88         7.6  \n",
       "1472     December 5, 2002     NaN          86         tbd  \n",
       "1535      August 30, 2018     NaN          86         8.4  \n",
       "1649        April 9, 2012     NaN          85         7.8  \n",
       "2427   September 22, 2017     NaN          83         7.3  \n",
       "...                   ...     ...         ...         ...  \n",
       "17999   February 10, 2012     NaN          46         7.0  \n",
       "18134    October 11, 2019     NaN          44         4.4  \n",
       "18253    December 3, 2016     NaN          43         4.3  \n",
       "18532      March 24, 2002     NaN          38         tbd  \n",
       "18717   February 22, 2012     NaN          31         tbd  \n",
       "\n",
       "[114 rows x 6 columns]"
      ]
     },
     "execution_count": 11,
     "metadata": {},
     "output_type": "execute_result"
    }
   ],
   "source": [
    "# Enlistamos los valores que tienen valores nulos en summary\n",
    "print(\"Valores faltantes en la columna 'summary'\", df['summary'].isnull().sum())\n",
    "df[df['summary'].isnull()]"
   ]
  },
  {
   "cell_type": "code",
   "execution_count": 12,
   "id": "ddd0bd08-fa2d-4176-a48f-85c248c64745",
   "metadata": {},
   "outputs": [
    {
     "name": "stdout",
     "output_type": "stream",
     "text": [
      "Valores faltantes en la columna 'summary' 0\n"
     ]
    }
   ],
   "source": [
    "# Sustituimos los valores 'NaN' por un valor especifico 'Unknown'\n",
    "df.fillna({'summary': \"Unknown\"}, inplace = True)\n",
    "print(\"Valores faltantes en la columna 'summary'\", df['summary'].isnull().sum())"
   ]
  },
  {
   "cell_type": "code",
   "execution_count": 13,
   "id": "180d4bee-fd56-431b-bb22-22952f3bed0d",
   "metadata": {},
   "outputs": [
    {
     "name": "stdout",
     "output_type": "stream",
     "text": [
      "Valores nulos después de la limpieza:\n",
      "name            0\n",
      "platform        0\n",
      "release_date    0\n",
      "summary         0\n",
      "meta_score      0\n",
      "user_review     0\n",
      "dtype: int64\n"
     ]
    }
   ],
   "source": [
    "# Verificar nuevamente que no hay datos nulos\n",
    "print(\"Valores nulos después de la limpieza:\")\n",
    "print(df.isnull().sum())"
   ]
  },
  {
   "cell_type": "markdown",
   "id": "9d1d1d85-e735-41af-a295-4231280c8a31",
   "metadata": {},
   "source": [
    "## 4. Verifique outlaiers de cada fila"
   ]
  },
  {
   "cell_type": "code",
   "execution_count": 15,
   "id": "b3582e42-a924-4864-b5f7-774bf815456e",
   "metadata": {},
   "outputs": [
    {
     "name": "stdout",
     "output_type": "stream",
     "text": [
      "Número de filas con \"tbd\" en \"user_review\": 1365\n"
     ]
    }
   ],
   "source": [
    "count_tbd = df[df['user_review'] == 'tbd'].shape[0]\n",
    "print(f'Número de filas con \"tbd\" en \"user_review\": {count_tbd}')"
   ]
  },
  {
   "cell_type": "code",
   "execution_count": 16,
   "id": "5a7e214f-eac5-4c89-9863-9f8dbb733a5e",
   "metadata": {},
   "outputs": [],
   "source": [
    "# Observamos que la columna de 'user_review' contiene un dato inconsistente que lo cambiaremos por 'Unknown'\n",
    "# El valor que sustituiremos es 'tbd'\n",
    "# Reemplazar solo las filas donde 'user_review' tiene 'tbd'\n",
    "df.loc[df['user_review'] == 'tbd', 'user_review'] = 'Unknown'"
   ]
  },
  {
   "cell_type": "code",
   "execution_count": 17,
   "id": "cc601584-d8a2-4334-87a9-9e41c50b6c28",
   "metadata": {},
   "outputs": [
    {
     "name": "stdout",
     "output_type": "stream",
     "text": [
      "Número de filas con \"tbd\" en \"user_review\": 0\n"
     ]
    }
   ],
   "source": [
    "count_tbd = df[df['user_review'] == 'tbd'].shape[0]\n",
    "print(f'Número de filas con \"tbd\" en \"user_review\": {count_tbd}')"
   ]
  },
  {
   "cell_type": "code",
   "execution_count": 18,
   "id": "137a5c87-a6ea-4038-875c-abf58657cd90",
   "metadata": {},
   "outputs": [
    {
     "data": {
      "image/png": "[encoded data removed]",
      "text/plain": [
       "<Figure size 640x480 with 1 Axes>"
      ]
     },
     "metadata": {},
     "output_type": "display_data"
    }
   ],
   "source": [
    "# Creates a boxplot\n",
    "plt.boxplot(df['meta_score'])\n",
    "plt.title('Meta Score')\n",
    "plt.show()"
   ]
  },
  {
   "cell_type": "markdown",
   "id": "4093d435-76e3-49ea-beb3-b5ff8db8f51c",
   "metadata": {},
   "source": [
    "## 4.1 Datos numéricos"
   ]
  },
  {
   "cell_type": "code",
   "execution_count": null,
   "id": "9e707569-8a29-41d5-a652-27d8aef55b9c",
   "metadata": {},
   "outputs": [],
   "source": []
  },
  {
   "cell_type": "markdown",
   "id": "130c11d0-6374-4656-99c6-1403099f22e8",
   "metadata": {},
   "source": [
    "## 4.2 Datos categóricos"
   ]
  },
  {
   "cell_type": "code",
   "execution_count": 21,
   "id": "502de9a5-6915-43eb-baef-777429867a94",
   "metadata": {},
   "outputs": [
    {
     "data": {
      "text/html": [
       "<div>\n",
       "<style scoped>\n",
       "    .dataframe tbody tr th:only-of-type {\n",
       "        vertical-align: middle;\n",
       "    }\n",
       "\n",
       "    .dataframe tbody tr th {\n",
       "        vertical-align: top;\n",
       "    }\n",
       "\n",
       "    .dataframe thead th {\n",
       "        text-align: right;\n",
       "    }\n",
       "</style>\n",
       "<table border=\"1\" class=\"dataframe\">\n",
       "  <thead>\n",
       "    <tr style=\"text-align: right;\">\n",
       "      <th></th>\n",
       "      <th>name</th>\n",
       "      <th>platform</th>\n",
       "      <th>release_date</th>\n",
       "      <th>summary</th>\n",
       "      <th>meta_score</th>\n",
       "      <th>user_review</th>\n",
       "    </tr>\n",
       "  </thead>\n",
       "  <tbody>\n",
       "    <tr>\n",
       "      <th>0</th>\n",
       "      <td>The Legend of Zelda: Ocarina of Time</td>\n",
       "      <td>Nintendo 64</td>\n",
       "      <td>November 23, 1998</td>\n",
       "      <td>As a young boy, Link is tricked by Ganondorf, ...</td>\n",
       "      <td>99</td>\n",
       "      <td>9.1</td>\n",
       "    </tr>\n",
       "    <tr>\n",
       "      <th>1</th>\n",
       "      <td>Tony Hawk's Pro Skater 2</td>\n",
       "      <td>PlayStation</td>\n",
       "      <td>September 20, 2000</td>\n",
       "      <td>As most major publishers' development efforts ...</td>\n",
       "      <td>98</td>\n",
       "      <td>7.4</td>\n",
       "    </tr>\n",
       "    <tr>\n",
       "      <th>2</th>\n",
       "      <td>Grand Theft Auto IV</td>\n",
       "      <td>PlayStation 3</td>\n",
       "      <td>April 29, 2008</td>\n",
       "      <td>[Metacritic's 2008 PS3 Game of the Year; Also ...</td>\n",
       "      <td>98</td>\n",
       "      <td>7.7</td>\n",
       "    </tr>\n",
       "    <tr>\n",
       "      <th>3</th>\n",
       "      <td>SoulCalibur</td>\n",
       "      <td>Dreamcast</td>\n",
       "      <td>September 8, 1999</td>\n",
       "      <td>This is a tale of souls and swords, transcendi...</td>\n",
       "      <td>98</td>\n",
       "      <td>8.4</td>\n",
       "    </tr>\n",
       "    <tr>\n",
       "      <th>4</th>\n",
       "      <td>Grand Theft Auto IV</td>\n",
       "      <td>Xbox 360</td>\n",
       "      <td>April 29, 2008</td>\n",
       "      <td>[Metacritic's 2008 Xbox 360 Game of the Year; ...</td>\n",
       "      <td>98</td>\n",
       "      <td>7.9</td>\n",
       "    </tr>\n",
       "    <tr>\n",
       "      <th>...</th>\n",
       "      <td>...</td>\n",
       "      <td>...</td>\n",
       "      <td>...</td>\n",
       "      <td>...</td>\n",
       "      <td>...</td>\n",
       "      <td>...</td>\n",
       "    </tr>\n",
       "    <tr>\n",
       "      <th>18795</th>\n",
       "      <td>Fast &amp; Furious: Showdown</td>\n",
       "      <td>Xbox 360</td>\n",
       "      <td>May 21, 2013</td>\n",
       "      <td>Fast &amp; Furious: Showdown takes some of the fra...</td>\n",
       "      <td>22</td>\n",
       "      <td>1.3</td>\n",
       "    </tr>\n",
       "    <tr>\n",
       "      <th>18796</th>\n",
       "      <td>Drake of the 99 Dragons</td>\n",
       "      <td>Xbox</td>\n",
       "      <td>November 3, 2003</td>\n",
       "      <td>Drake is out for revenge in a supernatural Hon...</td>\n",
       "      <td>22</td>\n",
       "      <td>1.7</td>\n",
       "    </tr>\n",
       "    <tr>\n",
       "      <th>18797</th>\n",
       "      <td>Afro Samurai 2: Revenge of Kuma Volume One</td>\n",
       "      <td>PlayStation 4</td>\n",
       "      <td>September 22, 2015</td>\n",
       "      <td>Head out on a journey of redemption, driven by...</td>\n",
       "      <td>21</td>\n",
       "      <td>2.9</td>\n",
       "    </tr>\n",
       "    <tr>\n",
       "      <th>18798</th>\n",
       "      <td>Infestation: Survivor Stories (The War Z)</td>\n",
       "      <td>PC</td>\n",
       "      <td>October 15, 2012</td>\n",
       "      <td>(Formerly known as \"The War Z\") It has been 5 ...</td>\n",
       "      <td>20</td>\n",
       "      <td>1.7</td>\n",
       "    </tr>\n",
       "    <tr>\n",
       "      <th>18799</th>\n",
       "      <td>Leisure Suit Larry: Box Office Bust</td>\n",
       "      <td>PC</td>\n",
       "      <td>March 31, 2009</td>\n",
       "      <td>The Leisure Suit Larry: Box Office Bust video ...</td>\n",
       "      <td>20</td>\n",
       "      <td>2.0</td>\n",
       "    </tr>\n",
       "  </tbody>\n",
       "</table>\n",
       "<p>18800 rows × 6 columns</p>\n",
       "</div>"
      ],
      "text/plain": [
       "                                             name       platform  \\\n",
       "0            The Legend of Zelda: Ocarina of Time    Nintendo 64   \n",
       "1                        Tony Hawk's Pro Skater 2    PlayStation   \n",
       "2                             Grand Theft Auto IV  PlayStation 3   \n",
       "3                                     SoulCalibur      Dreamcast   \n",
       "4                             Grand Theft Auto IV       Xbox 360   \n",
       "...                                           ...            ...   \n",
       "18795                    Fast & Furious: Showdown       Xbox 360   \n",
       "18796                     Drake of the 99 Dragons           Xbox   \n",
       "18797  Afro Samurai 2: Revenge of Kuma Volume One  PlayStation 4   \n",
       "18798   Infestation: Survivor Stories (The War Z)             PC   \n",
       "18799         Leisure Suit Larry: Box Office Bust             PC   \n",
       "\n",
       "             release_date                                            summary  \\\n",
       "0       November 23, 1998  As a young boy, Link is tricked by Ganondorf, ...   \n",
       "1      September 20, 2000  As most major publishers' development efforts ...   \n",
       "2          April 29, 2008  [Metacritic's 2008 PS3 Game of the Year; Also ...   \n",
       "3       September 8, 1999  This is a tale of souls and swords, transcendi...   \n",
       "4          April 29, 2008  [Metacritic's 2008 Xbox 360 Game of the Year; ...   \n",
       "...                   ...                                                ...   \n",
       "18795        May 21, 2013  Fast & Furious: Showdown takes some of the fra...   \n",
       "18796    November 3, 2003  Drake is out for revenge in a supernatural Hon...   \n",
       "18797  September 22, 2015  Head out on a journey of redemption, driven by...   \n",
       "18798    October 15, 2012  (Formerly known as \"The War Z\") It has been 5 ...   \n",
       "18799      March 31, 2009  The Leisure Suit Larry: Box Office Bust video ...   \n",
       "\n",
       "       meta_score user_review  \n",
       "0              99         9.1  \n",
       "1              98         7.4  \n",
       "2              98         7.7  \n",
       "3              98         8.4  \n",
       "4              98         7.9  \n",
       "...           ...         ...  \n",
       "18795          22         1.3  \n",
       "18796          22         1.7  \n",
       "18797          21         2.9  \n",
       "18798          20         1.7  \n",
       "18799          20         2.0  \n",
       "\n",
       "[18800 rows x 6 columns]"
      ]
     },
     "execution_count": 21,
     "metadata": {},
     "output_type": "execute_result"
    }
   ],
   "source": [
    "# eliminar espacios delanteros y finales de diferentes columnas\n",
    "df['platform'] = df['platform'].apply( lambda x: x.strip())\n",
    "df"
   ]
  },
  {
   "cell_type": "code",
   "execution_count": 22,
   "id": "50547681-c47f-4a7e-8adf-097e4ffa183e",
   "metadata": {},
   "outputs": [
    {
     "data": {
      "text/plain": [
       "platform\n",
       "PC                  4864\n",
       "PlayStation 4       2056\n",
       "Xbox 360            1644\n",
       "PlayStation 2       1414\n",
       "Switch              1399\n",
       "PlayStation 3       1256\n",
       "Xbox One            1179\n",
       "Xbox                 789\n",
       "DS                   720\n",
       "Wii                  655\n",
       "PSP                  512\n",
       "GameCube             448\n",
       "Game Boy Advance     438\n",
       "3DS                  396\n",
       "PlayStation Vita     257\n",
       "PlayStation          187\n",
       "Wii U                184\n",
       "Dreamcast            125\n",
       "PlayStation 5        124\n",
       "Xbox Series X         77\n",
       "Nintendo 64           71\n",
       "Stadia                 5\n",
       "Name: count, dtype: int64"
      ]
     },
     "execution_count": 22,
     "metadata": {},
     "output_type": "execute_result"
    }
   ],
   "source": [
    "# Analizar la columna 'platform'\n",
    "df['platform'].value_counts()"
   ]
  },
  {
   "cell_type": "code",
   "execution_count": 23,
   "id": "54a55754-f342-46c4-9393-0e584f68a605",
   "metadata": {},
   "outputs": [
    {
     "data": {
      "text/plain": [
       "platform\n",
       "PC                  4864\n",
       "PlayStation 4       2056\n",
       "Xbox 360            1644\n",
       "PlayStation 2       1414\n",
       "Switch              1399\n",
       "PlayStation 3       1256\n",
       "Xbox One            1179\n",
       "Xbox                 789\n",
       "DS                   720\n",
       "Wii                  655\n",
       "PSP                  512\n",
       "GameCube             448\n",
       "Game Boy Advance     438\n",
       "3DS                  396\n",
       "PlayStation Vita     257\n",
       "PlayStation          187\n",
       "Wii U                184\n",
       "Dreamcast            125\n",
       "PlayStation 5        124\n",
       "Xbox Series X         77\n",
       "Nintendo 64           71\n",
       "Name: count, dtype: int64"
      ]
     },
     "execution_count": 23,
     "metadata": {},
     "output_type": "execute_result"
    }
   ],
   "source": [
    "# Podemos elimnar las filas con la plataforma de 'Stadia' ya que al ser tan pocos registros no afecta a nuestro dataset\n",
    "df = df[df['platform'] != 'Stadia']\n",
    "# Verificamos que se eliminaron\n",
    "df['platform'].value_counts()"
   ]
  },
  {
   "cell_type": "code",
   "execution_count": 39,
   "id": "b011a17b-6fc9-4c7d-9d5e-2913fda5c7b4",
   "metadata": {},
   "outputs": [],
   "source": [
    "# Guardar los datos en un dataset nuevo y limpio\n",
    "df.to_csv(\"dataset_videojuegos_clean.csv\")"
   ]
  }
 ],
 "metadata": {
  "kernelspec": {
   "display_name": "Python [conda env:base] *",
   "language": "python",
   "name": "conda-base-py"
  },
  "language_info": {
   "codemirror_mode": {
    "name": "ipython",
    "version": 3
   },
   "file_extension": ".py",
   "mimetype": "text/x-python",
   "name": "python",
   "nbconvert_exporter": "python",
   "pygments_lexer": "ipython3",
   "version": "3.12.7"
  }
 },
 "nbformat": 4,
 "nbformat_minor": 5
}
